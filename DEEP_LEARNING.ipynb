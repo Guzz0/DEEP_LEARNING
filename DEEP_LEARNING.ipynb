{
  "cells": [
    {
      "cell_type": "markdown",
      "metadata": {
        "id": "view-in-github",
        "colab_type": "text"
      },
      "source": [
        "<a href=\"https://colab.research.google.com/github/Guzz0/DEEP_LEARNING/blob/master/DEEP_LEARNING.ipynb\" target=\"_parent\"><img src=\"https://colab.research.google.com/assets/colab-badge.svg\" alt=\"Open In Colab\"/></a>"
      ]
    },
    {
      "cell_type": "code",
      "execution_count": null,
      "metadata": {
        "id": "N0NMM6apsqs-"
      },
      "outputs": [],
      "source": [
        "# Dataset: https://public.opendatasoft.com/explore/dataset/airbnb-listings/export/?disjunctive.host_verifications&disjunctive.amenities&disjunctive.features&refine.country=Spain&q=Madrid\n",
        "# Link directo: https://public.opendatasoft.com/explore/dataset/airbnb-listings/download/?format=csv&disjunctive.host_verifications=true&disjunctive.amenities=true&disjunctive.features=true&refine.country=Spain&q=Madrid&timezone=Europe/London&use_labels_for_header=true&csv_separator=%3B"
      ]
    },
    {
      "cell_type": "code",
      "execution_count": null,
      "metadata": {
        "id": "-47tSe6MEAiX"
      },
      "outputs": [],
      "source": [
        "# Recurso para aprender a cargar datos en Colab: \n",
        "# https://colab.research.google.com/notebooks/io.ipynb#scrollTo=RWSJpsyKqHjH"
      ]
    },
    {
      "cell_type": "code",
      "execution_count": null,
      "metadata": {
        "colab": {
          "base_uri": "https://localhost:8080/"
        },
        "id": "11tGGRgrRodv",
        "outputId": "62698e31-f184-473b-ec8a-92ec9f25253a"
      },
      "outputs": [
        {
          "output_type": "stream",
          "name": "stdout",
          "text": [
            "--2023-03-15 02:17:11--  https://public.opendatasoft.com/explore/dataset/airbnb-listings/download/?format=csv&disjunctive.host_verifications=true&disjunctive.amenities=true&disjunctive.features=true&refine.country=Spain&q=Madrid&timezone=Europe/London&use_labels_for_header=true&csv_separator=%3B\n",
            "Resolving public.opendatasoft.com (public.opendatasoft.com)... 34.248.20.69, 34.249.199.226\n",
            "Connecting to public.opendatasoft.com (public.opendatasoft.com)|34.248.20.69|:443... connected.\n",
            "HTTP request sent, awaiting response... 200 OK\n",
            "Length: unspecified [application/csv]\n",
            "Saving to: ‘airbnb-listings.csv’\n",
            "\n",
            "airbnb-listings.csv     [               <=>  ]  54.31M  1.92MB/s    in 27s     \n",
            "\n",
            "2023-03-15 02:17:39 (2.03 MB/s) - ‘airbnb-listings.csv’ saved [56950929]\n",
            "\n"
          ]
        }
      ],
      "source": [
        "# Nos descargamos el dataset de OpenDataSoft\n",
        "!wget -O \"airbnb-listings.csv\" \"https://public.opendatasoft.com/explore/dataset/airbnb-listings/download/?format=csv&disjunctive.host_verifications=true&disjunctive.amenities=true&disjunctive.features=true&refine.country=Spain&q=Madrid&timezone=Europe/London&use_labels_for_header=true&csv_separator=%3B\""
      ]
    },
    {
      "cell_type": "code",
      "execution_count": null,
      "metadata": {
        "colab": {
          "base_uri": "https://localhost:8080/"
        },
        "id": "qnlm55IBu_Vv",
        "outputId": "5f4999c4-9ba1-4f96-9b6e-cfc9b5542230"
      },
      "outputs": [
        {
          "output_type": "stream",
          "name": "stdout",
          "text": [
            "total 95M\n",
            "drwxr-xr-x 1 root root 4.0K Mar 14 18:39 .\n",
            "drwxr-xr-x 1 root root 4.0K Mar 14 14:19 ..\n",
            "-rw-r--r-- 1 root root  55M Mar 15 02:17 airbnb-listings.csv\n",
            "drwxr-xr-x 4 root root 4.0K Mar 10 20:50 .config\n",
            "-rw-r--r-- 1 root root 3.1M Mar 15 01:29 data.npy\n",
            "drwx------ 6 root root 4.0K Mar 14 18:39 drive\n",
            "-rw-r--r-- 1 root root  38M Mar 15 01:29 images.npy\n",
            "drwxr-xr-x 1 root root 4.0K Mar 10 20:51 sample_data\n"
          ]
        }
      ],
      "source": [
        "!ls -lah"
      ]
    },
    {
      "cell_type": "code",
      "execution_count": null,
      "metadata": {
        "id": "fHqnNEDmihhO"
      },
      "outputs": [],
      "source": [
        "# Leemos el dataset con pandas y mostramos los 5 primeros registros\n",
        "import pandas as pd\n",
        "data = pd.read_csv('airbnb-listings.csv', sep = ';')\n",
        "\n"
      ]
    },
    {
      "cell_type": "code",
      "execution_count": null,
      "metadata": {
        "id": "5PTgFC8JAClH"
      },
      "outputs": [],
      "source": [
        "import numpy as np\n"
      ]
    },
    {
      "cell_type": "code",
      "execution_count": null,
      "metadata": {
        "colab": {
          "base_uri": "https://localhost:8080/"
        },
        "id": "vYtz5HYjjdEK",
        "outputId": "3f4f8434-eabc-4626-f75b-e316dd18c09e"
      },
      "outputs": [
        {
          "output_type": "execute_result",
          "data": {
            "text/plain": [
              "Index(['ID', 'Listing Url', 'Scrape ID', 'Last Scraped', 'Name', 'Summary',\n",
              "       'Space', 'Description', 'Experiences Offered', 'Neighborhood Overview',\n",
              "       'Notes', 'Transit', 'Access', 'Interaction', 'House Rules',\n",
              "       'Thumbnail Url', 'Medium Url', 'Picture Url', 'XL Picture Url',\n",
              "       'Host ID', 'Host URL', 'Host Name', 'Host Since', 'Host Location',\n",
              "       'Host About', 'Host Response Time', 'Host Response Rate',\n",
              "       'Host Acceptance Rate', 'Host Thumbnail Url', 'Host Picture Url',\n",
              "       'Host Neighbourhood', 'Host Listings Count',\n",
              "       'Host Total Listings Count', 'Host Verifications', 'Street',\n",
              "       'Neighbourhood', 'Neighbourhood Cleansed',\n",
              "       'Neighbourhood Group Cleansed', 'City', 'State', 'Zipcode', 'Market',\n",
              "       'Smart Location', 'Country Code', 'Country', 'Latitude', 'Longitude',\n",
              "       'Property Type', 'Room Type', 'Accommodates', 'Bathrooms', 'Bedrooms',\n",
              "       'Beds', 'Bed Type', 'Amenities', 'Square Feet', 'Price', 'Weekly Price',\n",
              "       'Monthly Price', 'Security Deposit', 'Cleaning Fee', 'Guests Included',\n",
              "       'Extra People', 'Minimum Nights', 'Maximum Nights', 'Calendar Updated',\n",
              "       'Has Availability', 'Availability 30', 'Availability 60',\n",
              "       'Availability 90', 'Availability 365', 'Calendar last Scraped',\n",
              "       'Number of Reviews', 'First Review', 'Last Review',\n",
              "       'Review Scores Rating', 'Review Scores Accuracy',\n",
              "       'Review Scores Cleanliness', 'Review Scores Checkin',\n",
              "       'Review Scores Communication', 'Review Scores Location',\n",
              "       'Review Scores Value', 'License', 'Jurisdiction Names',\n",
              "       'Cancellation Policy', 'Calculated host listings count',\n",
              "       'Reviews per Month', 'Geolocation', 'Features'],\n",
              "      dtype='object')"
            ]
          },
          "metadata": {},
          "execution_count": 111
        }
      ],
      "source": [
        "# ¿De qué variables disponemos?\n",
        "data.columns\n",
        "\n"
      ]
    },
    {
      "cell_type": "markdown",
      "metadata": {
        "id": "Z5usoik4LqDX"
      },
      "source": [
        "# LIMPIEZA Y PREPARACION DE DATOS"
      ]
    },
    {
      "cell_type": "markdown",
      "metadata": {
        "id": "tiCtxjpec7--"
      },
      "source": [
        "Vamos a limpiar los datos...\n",
        "\n",
        "\n",
        "1. Queremos solo las propiedades de España para ser mas exactos la ciudad sera Madrid donde tenemos mas datos..\n",
        "\n",
        "2. en la columna codigo postal vamos a quedarnos con los codigos postales escritos correctamente y que pertenezcan a madrid\n",
        "\n",
        "3. vamos a limpiar columnas que no nos interesan, que no tienen suficientes datos y tambien limpiar las filas de precios que sean mayor a 200\n"
      ]
    },
    {
      "cell_type": "code",
      "execution_count": null,
      "metadata": {
        "id": "ymSxR_UqrbcC",
        "colab": {
          "base_uri": "https://localhost:8080/"
        },
        "outputId": "82229136-7e4e-48ae-c029-cc80d5a922e8"
      },
      "outputs": [
        {
          "output_type": "stream",
          "name": "stdout",
          "text": [
            "55\n",
            "[28001 28002 28003 28004 28005 28006 28007 28008 28009 28010 28011 28012\n",
            " 28013 28014 28015 28016 28017 28018 28019 28020 28021 28022 28023 28024\n",
            " 28025 28026 28027 28028 28029 28030 28031 28032 28033 28034 28035 28036\n",
            " 28037 28038 28039 28040 28041 28042 28043 28044 28045 28046 28047 28048\n",
            " 28049 28050 28051 28052 28053 28054 28055]\n"
          ]
        },
        {
          "output_type": "stream",
          "name": "stderr",
          "text": [
            "<ipython-input-112-9c2fd0d1333e>:23: SettingWithCopyWarning: \n",
            "A value is trying to be set on a copy of a slice from a DataFrame.\n",
            "Try using .loc[row_indexer,col_indexer] = value instead\n",
            "\n",
            "See the caveats in the documentation: https://pandas.pydata.org/pandas-docs/stable/user_guide/indexing.html#returning-a-view-versus-a-copy\n",
            "  data['Zipcode'] = data['Zipcode'].astype(str) # Convertir la columna a tipo string\n",
            "<ipython-input-112-9c2fd0d1333e>:24: SettingWithCopyWarning: \n",
            "A value is trying to be set on a copy of a slice from a DataFrame.\n",
            "Try using .loc[row_indexer,col_indexer] = value instead\n",
            "\n",
            "See the caveats in the documentation: https://pandas.pydata.org/pandas-docs/stable/user_guide/indexing.html#returning-a-view-versus-a-copy\n",
            "  data['Zipcode'] = data['Zipcode'].str.replace('\\n', '') # Remover saltos de línea\n",
            "<ipython-input-112-9c2fd0d1333e>:25: SettingWithCopyWarning: \n",
            "A value is trying to be set on a copy of a slice from a DataFrame.\n",
            "Try using .loc[row_indexer,col_indexer] = value instead\n",
            "\n",
            "See the caveats in the documentation: https://pandas.pydata.org/pandas-docs/stable/user_guide/indexing.html#returning-a-view-versus-a-copy\n",
            "  data['Zipcode'] = data['Zipcode'].str.replace('Madrid ', '') # Remover prefijo \"Madrid \"\n",
            "<ipython-input-112-9c2fd0d1333e>:26: SettingWithCopyWarning: \n",
            "A value is trying to be set on a copy of a slice from a DataFrame.\n",
            "Try using .loc[row_indexer,col_indexer] = value instead\n",
            "\n",
            "See the caveats in the documentation: https://pandas.pydata.org/pandas-docs/stable/user_guide/indexing.html#returning-a-view-versus-a-copy\n",
            "  data['Zipcode'] = data['Zipcode'].replace(zipcodes_to_fix) # Corregir códigos postales\n"
          ]
        }
      ],
      "source": [
        "#1\n",
        "\n",
        "data = data.loc[(data['Country Code'] == 'ES') & (data['City'] == 'Madrid')]\n",
        "\n",
        "# lista descargada online de codigos postales de madrid para asi eliminar los datos incorrectos o que este fuera de madrid\n",
        "# Códigos postales válidos\n",
        "valid_zipcodes = ['28000', '28001', '28002', '28003', '28004', '28005', '28006', '28007',\n",
        "                  '28008', '28009', '28010', '28011', '28012', '28013', '28014', '28015', \n",
        "                  '28016', '28017', '28018', '28019', '28020', '28021', '28022', '28023', \n",
        "                  '28024', '28025', '28026', '28027', '28028', '28029', '28030', '28031', \n",
        "                  '28032', '28033', '28034', '28035', '28036', '28037', '28038', '28039', \n",
        "                  '28040', '28041', '28042', '28043', '28044', '28045', '28046', '28047', \n",
        "                  '28048', '28049', '28050', '28051', '28052', '28053', '28054', '28055']\n",
        "\n",
        "# Códigos postales a corregir\n",
        "zipcodes_to_fix = {\n",
        "    '2804': '28004',\n",
        "    '2015': '28015',\n",
        "    '280013': '28013'\n",
        "}\n",
        "\n",
        "# Corrección de códigos postales\n",
        "data['Zipcode'] = data['Zipcode'].astype(str) # Convertir la columna a tipo string\n",
        "data['Zipcode'] = data['Zipcode'].str.replace('\\n', '') # Remover saltos de línea\n",
        "data['Zipcode'] = data['Zipcode'].str.replace('Madrid ', '') # Remover prefijo \"Madrid \"\n",
        "data['Zipcode'] = data['Zipcode'].replace(zipcodes_to_fix) # Corregir códigos postales\n",
        "\n",
        "# Filtrar por códigos postales válidos\n",
        "data = data[data['Zipcode'].isin(valid_zipcodes)]\n",
        "\n",
        "# Print the number of unique postal codes\n",
        "print(len(data.loc[data['Country Code'] == 'ES', 'Zipcode'].unique()))\n",
        "\n",
        "data.dropna(subset=['Zipcode'], inplace=True)\n",
        "data['Zipcode'] = data['Zipcode'].astype(int)\n",
        "\n",
        "\n",
        "print(np.unique(data.Zipcode))\n",
        "\n"
      ]
    },
    {
      "cell_type": "code",
      "execution_count": null,
      "metadata": {
        "colab": {
          "base_uri": "https://localhost:8080/"
        },
        "id": "GynWybBvE9Xj",
        "outputId": "bb9b0fd6-27a9-4ee2-dfb8-2dd35a2ae896"
      },
      "outputs": [
        {
          "output_type": "stream",
          "name": "stdout",
          "text": [
            "(12751, 89)\n",
            "eliminando columnas...\n",
            "las columnas que nos quedan y su tipo son:\n"
          ]
        },
        {
          "output_type": "execute_result",
          "data": {
            "text/plain": [
              "Thumbnail Url                    object\n",
              "Neighbourhood Group Cleansed     object\n",
              "Zipcode                           int64\n",
              "Property Type                    object\n",
              "Room Type                        object\n",
              "Accommodates                      int64\n",
              "Bathrooms                       float64\n",
              "Bedrooms                        float64\n",
              "Beds                            float64\n",
              "Bed Type                         object\n",
              "Price                           float64\n",
              "Guests Included                   int64\n",
              "Extra People                      int64\n",
              "Cancellation Policy              object\n",
              "dtype: object"
            ]
          },
          "metadata": {},
          "execution_count": 113
        }
      ],
      "source": [
        "# 3.vamos a ver de cuantos registros disponemos y de cuantas variables\n",
        "print(data.shape)\n",
        "\n",
        "# Hacemos un drop de todas las columnas que por Logica no son utiles.\n",
        "not_useful_columns = ['Name','Host Response Rate','Host Response Time',\n",
        "    'ID', 'Listing Url', 'Scrape ID', 'Last Scraped',  'Medium Url', \n",
        "    'Picture Url', 'XL Picture Url', 'Host ID', 'Host URL', 'Host Name', \n",
        "    'Host Thumbnail Url', 'Host Picture Url', 'Host Neighbourhood', 'Weekly Price', \n",
        "    'Monthly Price', 'Calendar Updated', 'Calendar last Scraped', 'First Review', \n",
        "    'Last Review', 'Reviews per Month', 'Geolocation', 'Calculated host listings count',\n",
        "    'Host Listings Count', 'Host Total Listings Count','Host Since','Availability 30',  'Availability 60',  'Availability 90', 'Availability 365',\n",
        "     'Interaction', 'House Rules','Review Scores Communication', 'Review Scores Location',  'Review Scores Value','Review Scores Cleanliness',  'Review Scores Checkin',\n",
        "     'Number of Reviews','Review Scores Rating',  'Review Scores Accuracy','City', 'Country Code','Minimum Nights']\n",
        "\n",
        "\n",
        "# Hacemos un drop de todas las columnas que aportando información quedan fuera del scope y esas que tienen una gran cantidad de NA\n",
        "somehow_useful_columns_but_droppable_anyway_and_too_many_missing_values = [ 'Summary', 'Features','Latitude', 'Longitude','Space', 'Description',\n",
        "       'Neighborhood Overview', 'Notes', 'Transit', 'Access', 'Maximum Nights', 'Neighbourhood Cleansed','Amenities',\n",
        "       'Host Location', 'Host About','Street', 'State', 'Market', 'Smart Location', 'Country', 'Host Verifications','Security Deposit',  'Cleaning Fee',\n",
        "    'Host Acceptance Rate', 'Square Feet', 'Has Availability', 'License', 'Jurisdiction Names','Experiences Offered','Neighbourhood']\n",
        "print(\"eliminando columnas...\")\n",
        "data.drop(not_useful_columns, axis=1, inplace=True)\n",
        "data.drop(somehow_useful_columns_but_droppable_anyway_and_too_many_missing_values, axis=1, inplace=True)\n",
        "##3. Vamos a eliminar las filas con precios mayores a 200\n",
        "data = data[data['Price'] < 200]\n",
        "\n",
        "print(\"las columnas que nos quedan y su tipo son:\")\n",
        "data.dtypes"
      ]
    },
    {
      "cell_type": "markdown",
      "metadata": {
        "id": "tv1BNRNB9V1e"
      },
      "source": [
        "## Cargamos las imágenes en un array para tenerlas disponibles luego"
      ]
    },
    {
      "cell_type": "code",
      "execution_count": null,
      "metadata": {
        "colab": {
          "base_uri": "https://localhost:8080/"
        },
        "id": "Rf2pobWEHU93",
        "outputId": "515d6451-7498-40e5-e328-46f2026c88da"
      },
      "outputs": [
        {
          "output_type": "stream",
          "name": "stdout",
          "text": [
            "Imagen 0 descargada\n",
            "1\n",
            "Imagen 1 descargada\n",
            "2\n",
            "Imagen 2 descargada\n",
            "3\n",
            "Imagen 3 descargada\n",
            "4\n",
            "Imagen 5 descargada\n",
            "5\n",
            "Imagen 6 descargada\n",
            "6\n",
            "Imagen 7 descargada\n",
            "7\n",
            "Imagen 8 descargada\n",
            "8\n",
            "Imagen 9 descargada\n",
            "9\n",
            "Imagen 10 descargada\n",
            "10\n",
            "Imagen 11 descargada\n",
            "11\n",
            "Imagen 12 descargada\n",
            "12\n",
            "Imagen 13 descargada\n",
            "13\n",
            "Imagen 15 descargada\n",
            "14\n",
            "Imagen 16 descargada\n",
            "15\n",
            "Imagen 17 descargada\n",
            "16\n",
            "Imagen 18 descargada\n",
            "17\n",
            "Imagen 21 descargada\n",
            "18\n",
            "Imagen 23 descargada\n",
            "19\n",
            "Imagen 28 descargada\n",
            "20\n",
            "Imagen 30 descargada\n",
            "21\n",
            "Imagen 31 descargada\n",
            "22\n",
            "Imagen 32 descargada\n",
            "23\n",
            "Imagen 36 descargada\n",
            "24\n",
            "Imagen 37 descargada\n",
            "25\n",
            "Imagen 39 descargada\n",
            "26\n",
            "Imagen 42 descargada\n",
            "27\n",
            "Imagen 43 descargada\n",
            "28\n",
            "Imagen 44 descargada\n",
            "29\n",
            "Imagen 46 descargada\n",
            "30\n",
            "Imagen 49 descargada\n",
            "31\n",
            "Imagen 51 descargada\n",
            "32\n",
            "Imagen 53 descargada\n",
            "33\n",
            "Imagen 55 descargada\n",
            "34\n",
            "Imagen 56 descargada\n",
            "35\n",
            "Imagen 58 descargada\n",
            "36\n",
            "Imagen 61 descargada\n",
            "37\n",
            "Imagen 63 descargada\n",
            "38\n",
            "Imagen 64 descargada\n",
            "39\n",
            "Imagen 66 descargada\n",
            "40\n",
            "Imagen 69 descargada\n",
            "41\n",
            "Imagen 70 descargada\n",
            "42\n",
            "Imagen 72 descargada\n",
            "43\n",
            "Imagen 73 descargada\n",
            "44\n",
            "Imagen 74 descargada\n",
            "45\n",
            "Imagen 76 descargada\n",
            "46\n",
            "Imagen 79 descargada\n",
            "47\n",
            "Imagen 80 descargada\n",
            "48\n",
            "Imagen 81 descargada\n",
            "49\n",
            "Imagen 84 descargada\n",
            "50\n",
            "Imagen 85 descargada\n",
            "51\n",
            "Imagen 86 descargada\n",
            "52\n",
            "Imagen 87 descargada\n",
            "53\n",
            "Imagen 88 descargada\n",
            "54\n",
            "Imagen 90 descargada\n",
            "55\n",
            "Imagen 91 descargada\n",
            "56\n",
            "Imagen 92 descargada\n",
            "57\n",
            "Imagen 93 descargada\n",
            "58\n",
            "Imagen 94 descargada\n",
            "59\n",
            "Imagen 95 descargada\n",
            "60\n",
            "Imagen 96 descargada\n",
            "61\n",
            "Imagen 97 descargada\n",
            "62\n",
            "Imagen 98 descargada\n",
            "63\n",
            "Imagen 99 descargada\n",
            "64\n",
            "Imagen 101 descargada\n",
            "65\n",
            "Imagen 103 descargada\n",
            "66\n",
            "Imagen 104 descargada\n",
            "67\n",
            "Imagen 105 descargada\n",
            "68\n",
            "Imagen 107 descargada\n",
            "69\n",
            "Imagen 110 descargada\n",
            "70\n",
            "Imagen 111 descargada\n",
            "71\n",
            "Imagen 112 descargada\n",
            "72\n",
            "Imagen 115 descargada\n",
            "73\n",
            "Imagen 116 descargada\n",
            "74\n",
            "Imagen 117 descargada\n",
            "75\n",
            "Imagen 120 descargada\n",
            "76\n",
            "Imagen 121 descargada\n",
            "77\n",
            "Imagen 123 descargada\n",
            "78\n",
            "Imagen 124 descargada\n",
            "79\n",
            "Imagen 125 descargada\n",
            "80\n",
            "Imagen 128 descargada\n",
            "81\n",
            "Imagen 129 descargada\n",
            "82\n",
            "Imagen 134 descargada\n",
            "83\n",
            "Imagen 135 descargada\n",
            "84\n",
            "Imagen 137 descargada\n",
            "85\n",
            "Imagen 138 descargada\n",
            "86\n",
            "Imagen 142 descargada\n",
            "87\n",
            "Imagen 143 descargada\n",
            "88\n",
            "Imagen 145 descargada\n",
            "89\n",
            "Imagen 146 descargada\n",
            "90\n",
            "Imagen 149 descargada\n",
            "91\n",
            "Imagen 151 descargada\n",
            "92\n",
            "Imagen 152 descargada\n",
            "93\n",
            "Imagen 154 descargada\n",
            "94\n",
            "Imagen 155 descargada\n",
            "95\n",
            "Imagen 160 descargada\n",
            "96\n",
            "Imagen 161 descargada\n",
            "97\n",
            "Imagen 163 descargada\n",
            "98\n",
            "Imagen 165 descargada\n",
            "99\n",
            "Imagen 169 descargada\n",
            "100\n",
            "Imagen 170 descargada\n",
            "101\n",
            "Imagen 171 descargada\n",
            "102\n",
            "Imagen 172 descargada\n",
            "103\n",
            "Imagen 173 descargada\n",
            "104\n",
            "Imagen 176 descargada\n",
            "105\n",
            "Imagen 177 descargada\n",
            "106\n",
            "Imagen 178 descargada\n",
            "107\n",
            "Imagen 181 descargada\n",
            "108\n",
            "Imagen 182 descargada\n",
            "109\n",
            "Imagen 183 descargada\n",
            "110\n",
            "Imagen 184 descargada\n",
            "111\n",
            "Imagen 185 descargada\n",
            "112\n",
            "Imagen 186 descargada\n",
            "113\n",
            "Imagen 187 descargada\n",
            "114\n",
            "Imagen 188 descargada\n",
            "115\n",
            "Imagen 190 descargada\n",
            "116\n",
            "Imagen 191 descargada\n",
            "117\n",
            "Imagen 192 descargada\n",
            "118\n",
            "Imagen 193 descargada\n",
            "119\n",
            "Imagen 194 descargada\n",
            "120\n",
            "Imagen 195 descargada\n",
            "121\n",
            "Imagen 196 descargada\n",
            "122\n",
            "Imagen 197 descargada\n",
            "123\n",
            "Imagen 198 descargada\n",
            "124\n",
            "Imagen 199 descargada\n",
            "125\n",
            "Imagen 203 descargada\n",
            "126\n",
            "Imagen 209 descargada\n",
            "127\n",
            "Imagen 210 descargada\n",
            "128\n",
            "Imagen 211 descargada\n",
            "129\n",
            "Imagen 212 descargada\n",
            "130\n",
            "Imagen 213 descargada\n",
            "131\n",
            "Imagen 215 descargada\n",
            "132\n",
            "Imagen 216 descargada\n",
            "133\n",
            "Imagen 217 descargada\n",
            "134\n",
            "Imagen 218 descargada\n",
            "135\n",
            "Imagen 221 descargada\n",
            "136\n",
            "Imagen 222 descargada\n",
            "137\n",
            "Imagen 223 descargada\n",
            "138\n",
            "Imagen 224 descargada\n",
            "139\n",
            "Imagen 225 descargada\n",
            "140\n",
            "Imagen 226 descargada\n",
            "141\n",
            "Imagen 227 descargada\n",
            "142\n",
            "Imagen 228 descargada\n",
            "143\n",
            "Imagen 229 descargada\n",
            "144\n",
            "Imagen 231 descargada\n",
            "145\n",
            "Imagen 232 descargada\n",
            "146\n",
            "Imagen 233 descargada\n",
            "147\n",
            "Imagen 235 descargada\n",
            "148\n",
            "Imagen 236 descargada\n",
            "149\n",
            "Imagen 237 descargada\n",
            "150\n",
            "Imagen 238 descargada\n",
            "151\n",
            "Imagen 240 descargada\n",
            "152\n",
            "Imagen 241 descargada\n",
            "153\n",
            "Imagen 243 descargada\n",
            "154\n",
            "Imagen 244 descargada\n",
            "155\n",
            "Imagen 245 descargada\n",
            "156\n",
            "Imagen 246 descargada\n",
            "157\n",
            "Imagen 247 descargada\n",
            "158\n",
            "Imagen 248 descargada\n",
            "159\n",
            "Imagen 249 descargada\n",
            "160\n",
            "Imagen 250 descargada\n",
            "161\n",
            "Imagen 251 descargada\n",
            "162\n",
            "Imagen 252 descargada\n",
            "163\n",
            "Imagen 253 descargada\n",
            "164\n",
            "Imagen 254 descargada\n",
            "165\n",
            "Imagen 255 descargada\n",
            "166\n",
            "Imagen 257 descargada\n",
            "167\n",
            "Imagen 258 descargada\n",
            "168\n",
            "Imagen 260 descargada\n",
            "169\n",
            "Imagen 261 descargada\n",
            "170\n",
            "Imagen 262 descargada\n",
            "171\n",
            "Imagen 263 descargada\n",
            "172\n",
            "Imagen 264 descargada\n",
            "173\n",
            "Imagen 265 descargada\n",
            "174\n",
            "Imagen 267 descargada\n",
            "175\n",
            "Imagen 268 descargada\n",
            "176\n",
            "Imagen 270 descargada\n",
            "177\n",
            "Imagen 271 descargada\n",
            "178\n",
            "Imagen 272 descargada\n",
            "179\n",
            "Imagen 273 descargada\n",
            "180\n",
            "Imagen 275 descargada\n",
            "181\n",
            "Imagen 276 descargada\n",
            "182\n",
            "Imagen 278 descargada\n",
            "183\n",
            "Imagen 282 descargada\n",
            "184\n",
            "Imagen 283 descargada\n",
            "185\n",
            "Imagen 285 descargada\n",
            "186\n",
            "Imagen 286 descargada\n",
            "187\n",
            "Imagen 289 descargada\n",
            "188\n",
            "Imagen 290 descargada\n",
            "189\n",
            "Imagen 291 descargada\n",
            "190\n",
            "Imagen 292 descargada\n",
            "191\n",
            "Imagen 293 descargada\n",
            "192\n",
            "Imagen 294 descargada\n",
            "193\n",
            "Imagen 295 descargada\n",
            "194\n",
            "Imagen 296 descargada\n",
            "195\n",
            "Imagen 297 descargada\n",
            "196\n",
            "Imagen 298 descargada\n",
            "197\n",
            "Imagen 300 descargada\n",
            "198\n",
            "Imagen 301 descargada\n",
            "199\n",
            "Imagen 302 descargada\n",
            "200\n",
            "Imagen 304 descargada\n",
            "201\n",
            "Imagen 305 descargada\n",
            "202\n",
            "Imagen 306 descargada\n",
            "203\n",
            "Imagen 310 descargada\n",
            "204\n",
            "Imagen 311 descargada\n",
            "205\n",
            "Imagen 312 descargada\n",
            "206\n",
            "Imagen 313 descargada\n",
            "207\n",
            "Imagen 314 descargada\n",
            "208\n",
            "Imagen 315 descargada\n",
            "209\n",
            "Imagen 317 descargada\n",
            "210\n",
            "Imagen 318 descargada\n",
            "211\n",
            "Imagen 319 descargada\n",
            "212\n",
            "Imagen 322 descargada\n",
            "213\n",
            "Imagen 323 descargada\n",
            "214\n",
            "Imagen 324 descargada\n",
            "215\n",
            "Imagen 325 descargada\n",
            "216\n",
            "Imagen 326 descargada\n",
            "217\n",
            "Imagen 327 descargada\n",
            "218\n",
            "Imagen 328 descargada\n",
            "219\n",
            "Imagen 329 descargada\n",
            "220\n",
            "Imagen 330 descargada\n",
            "221\n",
            "Imagen 331 descargada\n",
            "222\n",
            "Imagen 332 descargada\n",
            "223\n",
            "Imagen 333 descargada\n",
            "224\n",
            "Imagen 336 descargada\n",
            "225\n",
            "Imagen 337 descargada\n",
            "226\n",
            "Imagen 339 descargada\n",
            "227\n",
            "Imagen 340 descargada\n",
            "228\n",
            "Imagen 341 descargada\n",
            "229\n",
            "Imagen 342 descargada\n",
            "230\n",
            "Imagen 343 descargada\n",
            "231\n",
            "Imagen 344 descargada\n",
            "232\n",
            "Imagen 346 descargada\n",
            "233\n",
            "Imagen 347 descargada\n",
            "234\n",
            "Imagen 348 descargada\n",
            "235\n",
            "Imagen 349 descargada\n",
            "236\n",
            "Imagen 351 descargada\n",
            "237\n",
            "Imagen 352 descargada\n",
            "238\n",
            "Imagen 353 descargada\n",
            "239\n",
            "Imagen 354 descargada\n",
            "240\n",
            "Imagen 358 descargada\n",
            "241\n",
            "Imagen 360 descargada\n",
            "242\n",
            "Imagen 361 descargada\n",
            "243\n",
            "Imagen 362 descargada\n",
            "244\n",
            "Imagen 363 descargada\n",
            "245\n",
            "Imagen 364 descargada\n",
            "246\n",
            "Imagen 365 descargada\n",
            "247\n",
            "Imagen 369 descargada\n",
            "248\n",
            "Imagen 370 descargada\n",
            "249\n",
            "Imagen 372 descargada\n",
            "250\n",
            "Imagen 373 descargada\n",
            "251\n",
            "Imagen 374 descargada\n",
            "252\n",
            "Imagen 376 descargada\n",
            "253\n",
            "Imagen 377 descargada\n",
            "254\n",
            "Imagen 378 descargada\n",
            "255\n",
            "Imagen 379 descargada\n",
            "256\n",
            "Imagen 382 descargada\n",
            "257\n",
            "Imagen 383 descargada\n",
            "258\n",
            "Imagen 384 descargada\n",
            "259\n",
            "Imagen 386 descargada\n",
            "260\n",
            "Imagen 387 descargada\n",
            "261\n",
            "Imagen 388 descargada\n",
            "262\n",
            "Imagen 389 descargada\n",
            "263\n",
            "Imagen 390 descargada\n",
            "264\n",
            "Imagen 391 descargada\n",
            "265\n",
            "Imagen 392 descargada\n",
            "266\n",
            "Imagen 396 descargada\n",
            "267\n",
            "Imagen 397 descargada\n",
            "268\n",
            "Imagen 398 descargada\n",
            "269\n",
            "Imagen 399 descargada\n",
            "270\n",
            "Imagen 400 descargada\n",
            "271\n",
            "Imagen 401 descargada\n",
            "272\n",
            "Imagen 402 descargada\n",
            "273\n",
            "Imagen 406 descargada\n",
            "274\n",
            "Imagen 407 descargada\n",
            "275\n",
            "Imagen 411 descargada\n",
            "276\n",
            "Imagen 412 descargada\n",
            "277\n",
            "Imagen 415 descargada\n",
            "278\n",
            "Imagen 416 descargada\n",
            "279\n",
            "Imagen 419 descargada\n",
            "280\n",
            "Imagen 420 descargada\n",
            "281\n",
            "Imagen 421 descargada\n",
            "282\n",
            "Imagen 422 descargada\n",
            "283\n",
            "Imagen 423 descargada\n",
            "284\n",
            "Imagen 424 descargada\n",
            "285\n",
            "Imagen 425 descargada\n",
            "286\n",
            "Imagen 427 descargada\n",
            "287\n",
            "Imagen 428 descargada\n",
            "288\n",
            "Imagen 429 descargada\n",
            "289\n",
            "Imagen 430 descargada\n",
            "290\n",
            "Imagen 431 descargada\n",
            "291\n",
            "Imagen 432 descargada\n",
            "292\n",
            "Imagen 433 descargada\n",
            "293\n",
            "Imagen 435 descargada\n",
            "294\n",
            "Imagen 436 descargada\n",
            "295\n",
            "Imagen 437 descargada\n",
            "296\n",
            "Imagen 440 descargada\n",
            "297\n",
            "Imagen 441 descargada\n",
            "298\n",
            "Imagen 442 descargada\n",
            "299\n",
            "Imagen 444 descargada\n",
            "300\n",
            "Imagen 445 descargada\n",
            "301\n",
            "Imagen 446 descargada\n",
            "302\n",
            "Imagen 448 descargada\n",
            "303\n",
            "Imagen 449 descargada\n",
            "304\n",
            "Imagen 450 descargada\n",
            "305\n",
            "Imagen 452 descargada\n",
            "306\n",
            "Imagen 453 descargada\n",
            "307\n",
            "Imagen 458 descargada\n",
            "308\n",
            "Imagen 459 descargada\n",
            "309\n",
            "Imagen 461 descargada\n",
            "310\n",
            "Imagen 462 descargada\n",
            "311\n",
            "Imagen 466 descargada\n",
            "312\n",
            "Imagen 467 descargada\n",
            "313\n",
            "Imagen 468 descargada\n",
            "314\n",
            "Imagen 469 descargada\n",
            "315\n",
            "Imagen 470 descargada\n",
            "316\n",
            "Imagen 471 descargada\n",
            "317\n",
            "Imagen 472 descargada\n",
            "318\n",
            "Imagen 473 descargada\n",
            "319\n",
            "Imagen 477 descargada\n",
            "320\n",
            "Imagen 479 descargada\n",
            "321\n",
            "Imagen 482 descargada\n",
            "322\n",
            "Imagen 483 descargada\n",
            "323\n",
            "Imagen 485 descargada\n",
            "324\n",
            "Imagen 486 descargada\n",
            "325\n",
            "Imagen 488 descargada\n",
            "326\n",
            "Imagen 489 descargada\n",
            "327\n",
            "Imagen 490 descargada\n",
            "328\n",
            "Imagen 491 descargada\n",
            "329\n",
            "Imagen 493 descargada\n",
            "330\n",
            "Imagen 495 descargada\n",
            "331\n",
            "Imagen 499 descargada\n",
            "332\n",
            "Imagen 500 descargada\n",
            "333\n",
            "Imagen 501 descargada\n",
            "334\n",
            "Imagen 506 descargada\n",
            "335\n",
            "Imagen 507 descargada\n",
            "336\n",
            "Imagen 508 descargada\n",
            "337\n",
            "Imagen 510 descargada\n",
            "338\n",
            "Imagen 511 descargada\n",
            "339\n",
            "Imagen 512 descargada\n",
            "340\n",
            "Imagen 513 descargada\n",
            "341\n",
            "Imagen 515 descargada\n",
            "342\n",
            "Imagen 516 descargada\n",
            "343\n",
            "Imagen 518 descargada\n",
            "344\n",
            "Imagen 520 descargada\n",
            "345\n",
            "Imagen 521 descargada\n",
            "346\n",
            "Imagen 522 descargada\n",
            "347\n",
            "Imagen 523 descargada\n",
            "348\n",
            "Imagen 524 descargada\n",
            "349\n",
            "Imagen 527 descargada\n",
            "350\n",
            "Imagen 528 descargada\n",
            "351\n",
            "Imagen 530 descargada\n",
            "352\n",
            "Imagen 531 descargada\n",
            "353\n",
            "Imagen 532 descargada\n",
            "354\n",
            "Imagen 533 descargada\n",
            "355\n",
            "Imagen 534 descargada\n",
            "356\n",
            "Imagen 535 descargada\n",
            "357\n",
            "Imagen 536 descargada\n",
            "358\n",
            "Imagen 537 descargada\n",
            "359\n",
            "Imagen 538 descargada\n",
            "360\n",
            "Imagen 539 descargada\n",
            "361\n",
            "Imagen 547 descargada\n",
            "362\n",
            "Imagen 548 descargada\n",
            "363\n",
            "Imagen 549 descargada\n",
            "364\n",
            "Imagen 550 descargada\n",
            "365\n",
            "Imagen 552 descargada\n",
            "366\n",
            "Imagen 553 descargada\n",
            "367\n",
            "Imagen 554 descargada\n",
            "368\n",
            "Imagen 555 descargada\n",
            "369\n",
            "Imagen 556 descargada\n",
            "370\n",
            "Imagen 559 descargada\n",
            "371\n",
            "Imagen 560 descargada\n",
            "372\n",
            "Imagen 561 descargada\n",
            "373\n",
            "Imagen 565 descargada\n",
            "374\n",
            "Imagen 566 descargada\n",
            "375\n",
            "Imagen 570 descargada\n",
            "376\n",
            "Imagen 572 descargada\n",
            "377\n",
            "Imagen 574 descargada\n",
            "378\n",
            "Imagen 575 descargada\n",
            "379\n",
            "Imagen 576 descargada\n",
            "380\n",
            "Imagen 577 descargada\n",
            "381\n",
            "Imagen 578 descargada\n",
            "382\n",
            "Imagen 581 descargada\n",
            "383\n",
            "Imagen 583 descargada\n",
            "384\n",
            "Imagen 585 descargada\n",
            "385\n",
            "Imagen 586 descargada\n",
            "386\n",
            "Imagen 587 descargada\n",
            "387\n",
            "Imagen 589 descargada\n",
            "388\n",
            "Imagen 593 descargada\n",
            "389\n",
            "Imagen 594 descargada\n",
            "390\n",
            "Imagen 595 descargada\n",
            "391\n",
            "Imagen 597 descargada\n",
            "392\n",
            "Imagen 599 descargada\n",
            "393\n",
            "Imagen 600 descargada\n",
            "394\n",
            "Imagen 601 descargada\n",
            "395\n",
            "Imagen 602 descargada\n",
            "396\n",
            "Imagen 603 descargada\n",
            "397\n",
            "Imagen 604 descargada\n",
            "398\n",
            "Imagen 605 descargada\n",
            "399\n",
            "Imagen 606 descargada\n",
            "400\n",
            "Imagen 607 descargada\n",
            "401\n",
            "Imagen 609 descargada\n",
            "402\n",
            "Imagen 610 descargada\n",
            "403\n",
            "Imagen 613 descargada\n",
            "404\n",
            "Imagen 614 descargada\n",
            "405\n",
            "Imagen 615 descargada\n",
            "406\n",
            "Imagen 617 descargada\n",
            "407\n",
            "Imagen 618 descargada\n",
            "408\n",
            "Imagen 619 descargada\n",
            "409\n",
            "Imagen 620 descargada\n",
            "410\n",
            "Imagen 622 descargada\n",
            "411\n",
            "Imagen 625 descargada\n",
            "412\n",
            "Imagen 626 descargada\n",
            "413\n",
            "Imagen 627 descargada\n",
            "414\n",
            "Imagen 628 descargada\n",
            "415\n",
            "Imagen 629 descargada\n",
            "416\n",
            "Imagen 632 descargada\n",
            "417\n",
            "Imagen 633 descargada\n",
            "418\n",
            "Imagen 634 descargada\n",
            "419\n",
            "Imagen 635 descargada\n",
            "420\n",
            "Imagen 636 descargada\n",
            "421\n",
            "Imagen 637 descargada\n",
            "422\n",
            "Imagen 638 descargada\n",
            "423\n",
            "Imagen 639 descargada\n",
            "424\n",
            "Imagen 640 descargada\n",
            "425\n",
            "Imagen 643 descargada\n",
            "426\n",
            "Imagen 644 descargada\n",
            "427\n",
            "Imagen 645 descargada\n",
            "428\n",
            "Imagen 648 descargada\n",
            "429\n",
            "Imagen 649 descargada\n",
            "430\n",
            "Imagen 651 descargada\n",
            "431\n",
            "Imagen 653 descargada\n",
            "432\n",
            "Imagen 654 descargada\n",
            "433\n",
            "Imagen 656 descargada\n",
            "434\n",
            "Imagen 658 descargada\n",
            "435\n",
            "Imagen 659 descargada\n",
            "436\n",
            "Imagen 660 descargada\n",
            "437\n",
            "Imagen 662 descargada\n",
            "438\n",
            "Imagen 665 descargada\n",
            "439\n",
            "Imagen 667 descargada\n",
            "440\n",
            "Imagen 668 descargada\n",
            "441\n",
            "Imagen 669 descargada\n",
            "442\n",
            "Imagen 670 descargada\n",
            "443\n",
            "Imagen 671 descargada\n",
            "444\n",
            "Imagen 672 descargada\n",
            "445\n",
            "Imagen 673 descargada\n",
            "446\n",
            "Imagen 674 descargada\n",
            "447\n",
            "Imagen 675 descargada\n",
            "448\n",
            "Imagen 676 descargada\n",
            "449\n",
            "Imagen 677 descargada\n",
            "450\n",
            "Imagen 678 descargada\n",
            "451\n",
            "Imagen 679 descargada\n",
            "452\n",
            "Imagen 680 descargada\n",
            "453\n",
            "Imagen 681 descargada\n",
            "454\n",
            "Imagen 682 descargada\n",
            "455\n",
            "Imagen 686 descargada\n",
            "456\n",
            "Imagen 687 descargada\n",
            "457\n",
            "Imagen 688 descargada\n",
            "458\n",
            "Imagen 690 descargada\n",
            "459\n",
            "Imagen 691 descargada\n",
            "460\n",
            "Imagen 692 descargada\n",
            "461\n",
            "Imagen 693 descargada\n",
            "462\n",
            "Imagen 695 descargada\n",
            "463\n",
            "Imagen 696 descargada\n",
            "464\n",
            "Imagen 697 descargada\n",
            "465\n",
            "Imagen 698 descargada\n",
            "466\n",
            "Imagen 700 descargada\n",
            "467\n",
            "Imagen 701 descargada\n",
            "468\n",
            "Imagen 702 descargada\n",
            "469\n",
            "Imagen 703 descargada\n",
            "470\n",
            "Imagen 705 descargada\n",
            "471\n",
            "Imagen 708 descargada\n",
            "472\n",
            "Imagen 709 descargada\n",
            "473\n",
            "Imagen 710 descargada\n",
            "474\n",
            "Imagen 712 descargada\n",
            "475\n",
            "Imagen 713 descargada\n",
            "476\n",
            "Imagen 714 descargada\n",
            "477\n",
            "Imagen 718 descargada\n",
            "478\n",
            "Imagen 720 descargada\n",
            "479\n",
            "Imagen 721 descargada\n",
            "480\n",
            "Imagen 722 descargada\n",
            "481\n",
            "Imagen 724 descargada\n",
            "482\n",
            "Imagen 725 descargada\n",
            "483\n",
            "Imagen 726 descargada\n",
            "484\n",
            "Imagen 727 descargada\n",
            "485\n",
            "Imagen 728 descargada\n",
            "486\n",
            "Imagen 730 descargada\n",
            "487\n",
            "Imagen 734 descargada\n",
            "488\n",
            "Imagen 735 descargada\n",
            "489\n",
            "Imagen 737 descargada\n",
            "490\n",
            "Imagen 738 descargada\n",
            "491\n",
            "Imagen 739 descargada\n",
            "492\n",
            "Imagen 740 descargada\n",
            "493\n",
            "Imagen 742 descargada\n",
            "494\n",
            "Imagen 743 descargada\n",
            "495\n",
            "Imagen 744 descargada\n",
            "496\n",
            "Imagen 745 descargada\n",
            "497\n",
            "Imagen 746 descargada\n",
            "498\n",
            "Imagen 747 descargada\n",
            "499\n",
            "Imagen 748 descargada\n",
            "500\n",
            "Imagen 750 descargada\n",
            "501\n",
            "Imagen 751 descargada\n",
            "502\n",
            "Imagen 752 descargada\n",
            "503\n",
            "Imagen 753 descargada\n",
            "504\n",
            "Imagen 756 descargada\n",
            "505\n",
            "Imagen 760 descargada\n",
            "506\n",
            "Imagen 762 descargada\n",
            "507\n",
            "Imagen 763 descargada\n",
            "508\n",
            "Imagen 765 descargada\n",
            "509\n",
            "Imagen 766 descargada\n",
            "510\n",
            "Imagen 770 descargada\n",
            "511\n",
            "Imagen 771 descargada\n",
            "512\n",
            "Imagen 774 descargada\n",
            "513\n",
            "Imagen 775 descargada\n",
            "514\n",
            "Imagen 777 descargada\n",
            "515\n",
            "Imagen 778 descargada\n",
            "516\n",
            "Imagen 779 descargada\n",
            "517\n",
            "Imagen 781 descargada\n",
            "518\n",
            "Imagen 784 descargada\n",
            "519\n",
            "Imagen 785 descargada\n",
            "520\n",
            "Imagen 786 descargada\n",
            "521\n",
            "Imagen 788 descargada\n",
            "522\n",
            "Imagen 792 descargada\n",
            "523\n",
            "Imagen 794 descargada\n",
            "524\n",
            "Imagen 795 descargada\n",
            "525\n",
            "Imagen 798 descargada\n",
            "526\n",
            "Imagen 799 descargada\n",
            "527\n",
            "Imagen 800 descargada\n",
            "528\n",
            "Imagen 803 descargada\n",
            "529\n",
            "Imagen 804 descargada\n",
            "530\n",
            "Imagen 806 descargada\n",
            "531\n",
            "Imagen 811 descargada\n",
            "532\n",
            "Imagen 812 descargada\n",
            "533\n",
            "Imagen 813 descargada\n",
            "534\n",
            "Imagen 815 descargada\n",
            "535\n",
            "Imagen 816 descargada\n",
            "536\n",
            "Imagen 817 descargada\n",
            "537\n",
            "Imagen 818 descargada\n",
            "538\n",
            "Imagen 819 descargada\n",
            "539\n",
            "Imagen 820 descargada\n",
            "540\n",
            "Imagen 821 descargada\n",
            "541\n",
            "Imagen 822 descargada\n",
            "542\n",
            "Imagen 823 descargada\n",
            "543\n",
            "Imagen 825 descargada\n",
            "544\n",
            "Imagen 826 descargada\n",
            "545\n",
            "Imagen 829 descargada\n",
            "546\n",
            "Imagen 831 descargada\n",
            "547\n",
            "Imagen 832 descargada\n",
            "548\n",
            "Imagen 835 descargada\n",
            "549\n",
            "Imagen 836 descargada\n",
            "550\n",
            "Imagen 837 descargada\n",
            "551\n",
            "Imagen 839 descargada\n",
            "552\n",
            "Imagen 842 descargada\n",
            "553\n",
            "Imagen 843 descargada\n",
            "554\n",
            "Imagen 845 descargada\n",
            "555\n",
            "Imagen 846 descargada\n",
            "556\n",
            "Imagen 847 descargada\n",
            "557\n",
            "Imagen 848 descargada\n",
            "558\n",
            "Imagen 849 descargada\n",
            "559\n",
            "Imagen 852 descargada\n",
            "560\n",
            "Imagen 853 descargada\n",
            "561\n",
            "Imagen 854 descargada\n",
            "562\n",
            "Imagen 856 descargada\n",
            "563\n",
            "Imagen 858 descargada\n",
            "564\n",
            "Imagen 859 descargada\n",
            "565\n",
            "Imagen 860 descargada\n",
            "566\n",
            "Imagen 862 descargada\n",
            "567\n",
            "Imagen 864 descargada\n",
            "568\n",
            "Imagen 867 descargada\n",
            "569\n",
            "Imagen 868 descargada\n",
            "570\n",
            "Imagen 871 descargada\n",
            "571\n",
            "Imagen 872 descargada\n",
            "572\n",
            "Imagen 873 descargada\n",
            "573\n",
            "Imagen 874 descargada\n",
            "574\n",
            "Imagen 875 descargada\n",
            "575\n",
            "Imagen 876 descargada\n",
            "576\n",
            "Imagen 881 descargada\n",
            "577\n",
            "Imagen 884 descargada\n",
            "578\n",
            "Imagen 885 descargada\n",
            "579\n",
            "Imagen 886 descargada\n",
            "580\n",
            "Imagen 888 descargada\n",
            "581\n",
            "Imagen 890 descargada\n",
            "582\n",
            "Imagen 894 descargada\n",
            "583\n",
            "Imagen 895 descargada\n",
            "584\n",
            "Imagen 896 descargada\n",
            "585\n",
            "Imagen 898 descargada\n",
            "586\n",
            "Imagen 902 descargada\n",
            "587\n",
            "Imagen 905 descargada\n",
            "588\n",
            "Imagen 906 descargada\n",
            "589\n",
            "Imagen 908 descargada\n",
            "590\n",
            "Imagen 910 descargada\n",
            "591\n",
            "Imagen 911 descargada\n",
            "592\n",
            "Imagen 913 descargada\n",
            "593\n",
            "Imagen 916 descargada\n",
            "594\n",
            "Imagen 918 descargada\n",
            "595\n",
            "Imagen 920 descargada\n",
            "596\n",
            "Imagen 921 descargada\n",
            "597\n",
            "Imagen 922 descargada\n",
            "598\n",
            "Imagen 923 descargada\n",
            "599\n",
            "Imagen 924 descargada\n",
            "600\n",
            "Imagen 927 descargada\n",
            "601\n",
            "Imagen 928 descargada\n",
            "602\n",
            "Imagen 929 descargada\n",
            "603\n",
            "Imagen 931 descargada\n",
            "604\n",
            "Imagen 933 descargada\n",
            "605\n",
            "Imagen 934 descargada\n",
            "606\n",
            "Imagen 935 descargada\n",
            "607\n",
            "Imagen 936 descargada\n",
            "608\n",
            "Imagen 937 descargada\n",
            "609\n",
            "Imagen 940 descargada\n",
            "610\n",
            "Imagen 941 descargada\n",
            "611\n",
            "Imagen 943 descargada\n",
            "612\n",
            "Imagen 944 descargada\n",
            "613\n",
            "Imagen 945 descargada\n",
            "614\n",
            "Imagen 946 descargada\n",
            "615\n",
            "Imagen 948 descargada\n",
            "616\n",
            "Imagen 949 descargada\n",
            "617\n",
            "Imagen 951 descargada\n",
            "618\n",
            "Imagen 952 descargada\n",
            "619\n",
            "Imagen 953 descargada\n",
            "620\n",
            "Imagen 955 descargada\n",
            "621\n",
            "Imagen 956 descargada\n",
            "622\n",
            "Imagen 960 descargada\n",
            "623\n",
            "Imagen 961 descargada\n",
            "624\n",
            "Imagen 963 descargada\n",
            "625\n",
            "Imagen 964 descargada\n",
            "626\n",
            "Imagen 965 descargada\n",
            "627\n",
            "Imagen 966 descargada\n",
            "628\n",
            "Imagen 967 descargada\n",
            "629\n",
            "Imagen 968 descargada\n",
            "630\n",
            "Imagen 969 descargada\n",
            "631\n",
            "Imagen 970 descargada\n",
            "632\n",
            "Imagen 972 descargada\n",
            "633\n",
            "Imagen 974 descargada\n",
            "634\n",
            "Imagen 975 descargada\n",
            "635\n",
            "Imagen 976 descargada\n",
            "636\n",
            "Imagen 977 descargada\n",
            "637\n",
            "Imagen 983 descargada\n",
            "638\n",
            "Imagen 984 descargada\n",
            "639\n",
            "Imagen 987 descargada\n",
            "640\n",
            "Imagen 989 descargada\n",
            "641\n",
            "Imagen 990 descargada\n",
            "642\n",
            "Imagen 992 descargada\n",
            "643\n",
            "Imagen 997 descargada\n",
            "644\n",
            "Imagen 1000 descargada\n",
            "645\n",
            "Imagen 1002 descargada\n",
            "646\n",
            "Imagen 1004 descargada\n",
            "647\n",
            "Imagen 1005 descargada\n",
            "648\n",
            "Imagen 1007 descargada\n",
            "649\n",
            "Imagen 1008 descargada\n",
            "650\n",
            "Imagen 1009 descargada\n",
            "651\n",
            "Imagen 1010 descargada\n",
            "652\n",
            "Imagen 1011 descargada\n",
            "653\n",
            "Imagen 1013 descargada\n",
            "654\n",
            "Imagen 1015 descargada\n",
            "655\n",
            "Imagen 1016 descargada\n",
            "656\n",
            "Imagen 1017 descargada\n",
            "657\n",
            "Imagen 1019 descargada\n",
            "658\n",
            "Imagen 1020 descargada\n",
            "659\n",
            "Imagen 1023 descargada\n",
            "660\n",
            "Imagen 1025 descargada\n",
            "661\n",
            "Imagen 1026 descargada\n",
            "662\n",
            "Imagen 1027 descargada\n",
            "663\n",
            "Imagen 1028 descargada\n",
            "664\n",
            "Imagen 1030 descargada\n",
            "665\n",
            "Imagen 1031 descargada\n",
            "666\n",
            "Imagen 1033 descargada\n",
            "667\n",
            "Imagen 1034 descargada\n",
            "668\n",
            "Imagen 1035 descargada\n",
            "669\n",
            "Imagen 1037 descargada\n",
            "670\n",
            "Imagen 1038 descargada\n",
            "671\n",
            "Imagen 1039 descargada\n",
            "672\n",
            "Imagen 1040 descargada\n",
            "673\n",
            "Imagen 1043 descargada\n",
            "674\n",
            "Imagen 1044 descargada\n",
            "675\n",
            "Imagen 1045 descargada\n",
            "676\n",
            "Imagen 1046 descargada\n",
            "677\n",
            "Imagen 1048 descargada\n",
            "678\n",
            "Imagen 1049 descargada\n",
            "679\n",
            "Imagen 1050 descargada\n",
            "680\n",
            "Imagen 1051 descargada\n",
            "681\n",
            "Imagen 1052 descargada\n",
            "682\n",
            "Imagen 1055 descargada\n",
            "683\n",
            "Imagen 1057 descargada\n",
            "684\n",
            "Imagen 1058 descargada\n",
            "685\n",
            "Imagen 1059 descargada\n",
            "686\n",
            "Imagen 1061 descargada\n",
            "687\n",
            "Imagen 1063 descargada\n",
            "688\n",
            "Imagen 1064 descargada\n",
            "689\n",
            "Imagen 1065 descargada\n",
            "690\n",
            "Imagen 1066 descargada\n",
            "691\n",
            "Imagen 1067 descargada\n",
            "692\n",
            "Imagen 1068 descargada\n",
            "693\n",
            "Imagen 1069 descargada\n",
            "694\n",
            "Imagen 1070 descargada\n",
            "695\n",
            "Imagen 1074 descargada\n",
            "696\n",
            "Imagen 1075 descargada\n",
            "697\n",
            "Imagen 1076 descargada\n",
            "698\n",
            "Imagen 1077 descargada\n",
            "699\n",
            "Imagen 1080 descargada\n",
            "700\n"
          ]
        }
      ],
      "source": [
        "import imageio as io\n",
        "import numpy as np\n",
        "import cv2\n",
        "n_images = 700\n",
        "images = np.zeros((n_images, 128, 128, 3), dtype=np.uint8)\n",
        "urls = data['Thumbnail Url']\n",
        "\n",
        "i_aux = 0\n",
        "good_urls = []\n",
        "for i_img, url in enumerate(urls):\n",
        "    if len(good_urls) >= n_images:\n",
        "        # ya tenemos n_images imágenes\n",
        "        break\n",
        "    try:\n",
        "        img = io.imread(url)\n",
        "        images[i_aux] = cv2.resize(img, (128, 128))\n",
        "        good_urls.append(i_img)\n",
        "        i_aux += 1\n",
        "        print(f'Imagen {i_img} descargada')\n",
        "        print(len(good_urls))\n",
        "    except IOError as err:\n",
        "        pass"
      ]
    },
    {
      "cell_type": "code",
      "execution_count": null,
      "metadata": {
        "id": "-gznEugfHjCl",
        "colab": {
          "base_uri": "https://localhost:8080/"
        },
        "outputId": "b813904a-65f1-42f4-cb54-e6363bbcfccd"
      },
      "outputs": [
        {
          "output_type": "stream",
          "name": "stdout",
          "text": [
            "(700, 128, 128, 3)\n"
          ]
        }
      ],
      "source": [
        "# Visualizamos las imágenes cargadas\n",
        "print(images.shape)"
      ]
    },
    {
      "cell_type": "markdown",
      "source": [
        "##Nos quedamos con las imágenes descargadas y mantenemos la variable data con las filas de las imagenes"
      ],
      "metadata": {
        "id": "DBG27o6KBe0K"
      }
    },
    {
      "cell_type": "code",
      "execution_count": null,
      "metadata": {
        "id": "qCeo4jRrH7z4"
      },
      "outputs": [],
      "source": [
        "# Mantenemos los datos numéricos solo para aquellos pisos que tienen imágenes \n",
        "# y las hemos obtenido\n",
        "data = data.iloc[good_urls, :]"
      ]
    },
    {
      "cell_type": "code",
      "execution_count": null,
      "metadata": {
        "id": "OQ5pKRzuJbxT",
        "colab": {
          "base_uri": "https://localhost:8080/"
        },
        "outputId": "ba189c00-1f0d-4ec3-88fc-b0604fb7389b"
      },
      "outputs": [
        {
          "output_type": "stream",
          "name": "stdout",
          "text": [
            "(700, 14)\n"
          ]
        }
      ],
      "source": [
        "print(data.shape)"
      ]
    },
    {
      "cell_type": "code",
      "execution_count": null,
      "metadata": {
        "id": "Xl1wIpv_H-BP"
      },
      "outputs": [],
      "source": [
        "# Obtener las etiquetas de regresion\n",
        "y_reg = data['Price']"
      ]
    },
    {
      "cell_type": "code",
      "execution_count": null,
      "metadata": {
        "id": "kIthtXg-Ki4L"
      },
      "outputs": [],
      "source": [
        "# Obtener las etiquetas de regresion\n",
        "y_reg = data['Price']"
      ]
    },
    {
      "cell_type": "code",
      "execution_count": null,
      "metadata": {
        "id": "K3jNbKc3A7AH",
        "colab": {
          "base_uri": "https://localhost:8080/",
          "height": 265
        },
        "outputId": "4e22e362-660b-49ab-c021-8ec65e177605"
      },
      "outputs": [
        {
          "output_type": "display_data",
          "data": {
            "text/plain": [
              "<Figure size 432x288 with 1 Axes>"
            ],
            "image/png": "[encoded data removed]"
          },
          "metadata": {
            "needs_background": "light"
          }
        }
      ],
      "source": [
        "# y un rango para clasificación (del 1 al 3 por ejemplo: barato, normal, caro)\n",
        "import matplotlib.pyplot as plt\n",
        "plt.hist(y_reg, bins=10)\n",
        "plt.show()"
      ]
    },
    {
      "cell_type": "code",
      "execution_count": null,
      "metadata": {
        "id": "1xZRyEffBPOT"
      },
      "outputs": [],
      "source": [
        "y_class = []\n",
        "for x in y_reg:\n",
        "    # barato\n",
        "    if x <= 50:\n",
        "        y_class.append(0)\n",
        "    elif x <=150:\n",
        "        y_class.append(1)\n",
        "    else:\n",
        "        y_class.append(2)"
      ]
    },
    {
      "cell_type": "code",
      "execution_count": null,
      "metadata": {
        "id": "uAVd0C9vTBIk",
        "colab": {
          "base_uri": "https://localhost:8080/",
          "height": 265
        },
        "outputId": "247301f8-c8a7-4742-c694-f0b75d11d6b4"
      },
      "outputs": [
        {
          "output_type": "display_data",
          "data": {
            "text/plain": [
              "<Figure size 432x288 with 1 Axes>"
            ],
            "image/png": "[encoded data removed]"
          },
          "metadata": {
            "needs_background": "light"
          }
        }
      ],
      "source": [
        "# veamos cómo ha quedado la distribución al convertirla a 3 clases\n",
        "plt.hist(y_class, bins=3)\n",
        "plt.show()"
      ]
    },
    {
      "cell_type": "markdown",
      "source": [
        "Realizamos un drop de las columnas 'price' y 'thumbnail url' que no nos sirven para el modelo"
      ],
      "metadata": {
        "id": "rIa2wseTBwBd"
      }
    },
    {
      "cell_type": "code",
      "execution_count": null,
      "metadata": {
        "id": "csHtIjxbOjuT"
      },
      "outputs": [],
      "source": [
        "data.drop(['Price','Thumbnail Url'], axis=1, inplace=True)"
      ]
    },
    {
      "cell_type": "markdown",
      "source": [
        "rellenamos nan con el mean de la misma columna"
      ],
      "metadata": {
        "id": "baLc2q5lCBzw"
      }
    },
    {
      "cell_type": "code",
      "execution_count": null,
      "metadata": {
        "id": "ahSc_iExHf8d"
      },
      "outputs": [],
      "source": [
        "# Obtener la media de cada columna numérica\n",
        "mean_values = data.select_dtypes(include=[np.number]).mean()\n",
        "\n",
        "# Llenar los valores faltantes con la media\n",
        "data.fillna(mean_values, inplace=True)\n"
      ]
    },
    {
      "cell_type": "code",
      "execution_count": null,
      "metadata": {
        "id": "jBNrQrHSGEGQ",
        "colab": {
          "base_uri": "https://localhost:8080/"
        },
        "outputId": "56ca2e2d-6764-4ea4-d472-e0eafe8d4e22"
      },
      "outputs": [
        {
          "output_type": "execute_result",
          "data": {
            "text/plain": [
              "Neighbourhood Group Cleansed    100.0\n",
              "Zipcode                         100.0\n",
              "Property Type                   100.0\n",
              "Room Type                       100.0\n",
              "Accommodates                    100.0\n",
              "Bathrooms                       100.0\n",
              "Bedrooms                        100.0\n",
              "Beds                            100.0\n",
              "Bed Type                        100.0\n",
              "Guests Included                 100.0\n",
              "Extra People                    100.0\n",
              "Cancellation Policy             100.0\n",
              "dtype: float64"
            ]
          },
          "metadata": {},
          "execution_count": 127
        }
      ],
      "source": [
        "data.notnull().mean().mul(100).sort_values(ascending=False)\n",
        "\n",
        "\n"
      ]
    },
    {
      "cell_type": "code",
      "source": [],
      "metadata": {
        "id": "XQ19DkfFTVWY"
      },
      "execution_count": null,
      "outputs": []
    },
    {
      "cell_type": "markdown",
      "source": [
        "#Iniciamos la normalizacion de datos separando variables numericas y categoricas"
      ],
      "metadata": {
        "id": "NFa-98XXCJzO"
      }
    },
    {
      "cell_type": "code",
      "execution_count": null,
      "metadata": {
        "id": "0IZNGKvNfLpV"
      },
      "outputs": [],
      "source": [
        "#Division de col numericas y categoricas\n",
        "\n",
        "import pandas as pd\n",
        "import numpy as np\n",
        "from sklearn.preprocessing import MinMaxScaler\n",
        "\n",
        "\n",
        "\n",
        "#Seleccion de columnas numericas\n",
        "numeric_columns = data.select_dtypes(include=[np.number]).columns.tolist()\n",
        "\n",
        "#Seleccion de columnas categoricas\n",
        "categorical_columns = data.select_dtypes(include=[object]).columns.tolist()\n",
        "\n",
        "#subconjunto de datos numericos\n",
        "numeric_data = data[numeric_columns]\n",
        "\n",
        "# Fill NaN values with column means\n",
        "numeric_data = numeric_data.fillna(numeric_data.mean())\n",
        "\n",
        "#normalizar grupo numerico\n",
        "#Inicializar el objeto MinMaxScaler\n",
        "scaler = MinMaxScaler()\n",
        "\n",
        "#Aplicar la normalización Min-Max al conjunto de datos numéricos\n",
        "numeric_data_normalized = scaler.fit_transform(numeric_data)\n",
        "\n",
        "\n",
        "\n",
        "\n"
      ]
    },
    {
      "cell_type": "code",
      "execution_count": null,
      "metadata": {
        "id": "OhO-lPopfLsn",
        "colab": {
          "base_uri": "https://localhost:8080/"
        },
        "outputId": "111667f0-fd4d-4e73-ceb6-a67eb42d18fb"
      },
      "outputs": [
        {
          "output_type": "stream",
          "name": "stdout",
          "text": [
            "(700, 39)\n"
          ]
        },
        {
          "output_type": "execute_result",
          "data": {
            "text/plain": [
              "(700, 7)"
            ]
          },
          "metadata": {},
          "execution_count": 129
        }
      ],
      "source": [
        "#one-hot para columnas categoricas\n",
        "from sklearn.preprocessing import OneHotEncoder\n",
        "\n",
        "encoder = OneHotEncoder()\n",
        "categorical_data_encoded = encoder.fit_transform(data[categorical_columns])\n",
        "\n",
        "\n",
        "##Combinar el conjunto de datos numéricos normalizados y el conjunto de datos categóricos codificados\n",
        "import scipy.sparse as sp\n",
        "\n",
        "#Convertir el conjunto de datos numéricos normalizados a un objeto scipy sparse\n",
        "numeric_data_normalized_sparse = sp.csr_matrix(numeric_data_normalized)\n",
        "\n",
        "#combinamos los datos numéricos normalizados y los datos categóricos codificados\n",
        "data_normalized_encoded = sp.hstack([numeric_data_normalized_sparse, categorical_data_encoded])\n",
        "numerical= numeric_data_normalized_sparse\n",
        "categorical = categorical_data_encoded\n",
        "dt_norm = data_normalized_encoded\n",
        "\n",
        "print(categorical_data_encoded.shape)\n",
        "numeric_data_normalized.shape\n"
      ]
    },
    {
      "cell_type": "code",
      "execution_count": null,
      "metadata": {
        "colab": {
          "base_uri": "https://localhost:8080/"
        },
        "id": "8YO352oqytVW",
        "outputId": "c502d4ba-924b-481e-a4c1-9df0e6d33739"
      },
      "outputs": [
        {
          "output_type": "stream",
          "name": "stdout",
          "text": [
            "(504, 46)\n",
            "(140, 46)\n",
            "(504,)\n",
            "(140,)\n",
            "(56, 46)\n",
            "(56,)\n"
          ]
        }
      ],
      "source": [
        "from sklearn.model_selection import train_test_split\n",
        "\n",
        "from sklearn import preprocessing\n",
        "dt_ready = dt_norm.toarray()\n",
        "min_max_scaler = preprocessing.MinMaxScaler()\n",
        "data_norm = min_max_scaler.fit_transform(dt_ready)\n",
        "y_reg_norm = (y_reg - y_reg.min()) / (y_reg.max() - y_reg.min())\n",
        "# Split de los datos\n",
        "X_train, X_test, y_train, y_test = train_test_split(data_norm, y_reg_norm.values, test_size=0.2, random_state=42)\n",
        "X_train, X_val, y_train, y_val = train_test_split(X_train, y_train, test_size=0.1, random_state=42)\n",
        "print(X_train.shape)\n",
        "print(X_test.shape)\n",
        "print(y_train.shape)\n",
        "print(y_test.shape)\n",
        "print(X_val.shape)\n",
        "print(y_val.shape)\n"
      ]
    },
    {
      "cell_type": "code",
      "execution_count": null,
      "metadata": {
        "id": "cJ104D4GNsSd"
      },
      "outputs": [],
      "source": [
        "\n"
      ]
    },
    {
      "cell_type": "markdown",
      "source": [
        "#Modelo 1D"
      ],
      "metadata": {
        "id": "zVJATpKDCp_J"
      }
    },
    {
      "cell_type": "code",
      "execution_count": null,
      "metadata": {
        "id": "yvE2JS3WokW4",
        "colab": {
          "base_uri": "https://localhost:8080/"
        },
        "outputId": "ac3363d1-288d-4ced-9eba-6a1adf3d566d"
      },
      "outputs": [
        {
          "output_type": "stream",
          "name": "stdout",
          "text": [
            "Epoch 1/20\n",
            "126/126 [==============================] - 2s 4ms/step - loss: 0.0714 - val_loss: 0.0517\n",
            "Epoch 2/20\n",
            "126/126 [==============================] - 0s 3ms/step - loss: 0.0283 - val_loss: 0.0486\n",
            "Epoch 3/20\n",
            "126/126 [==============================] - 0s 3ms/step - loss: 0.0237 - val_loss: 0.0397\n",
            "Epoch 4/20\n",
            "126/126 [==============================] - 0s 3ms/step - loss: 0.0230 - val_loss: 0.0400\n",
            "Epoch 5/20\n",
            "126/126 [==============================] - 0s 3ms/step - loss: 0.0228 - val_loss: 0.0391\n",
            "Epoch 6/20\n",
            "126/126 [==============================] - 0s 3ms/step - loss: 0.0217 - val_loss: 0.0474\n",
            "Epoch 7/20\n",
            "126/126 [==============================] - 0s 3ms/step - loss: 0.0217 - val_loss: 0.0396\n",
            "Epoch 8/20\n",
            "126/126 [==============================] - 0s 3ms/step - loss: 0.0219 - val_loss: 0.0401\n",
            "Epoch 9/20\n",
            "126/126 [==============================] - 0s 3ms/step - loss: 0.0196 - val_loss: 0.0406\n",
            "Epoch 10/20\n",
            "126/126 [==============================] - 0s 3ms/step - loss: 0.0187 - val_loss: 0.0400\n",
            "Epoch 11/20\n",
            "126/126 [==============================] - 0s 3ms/step - loss: 0.0192 - val_loss: 0.0435\n",
            "Epoch 12/20\n",
            "126/126 [==============================] - 0s 3ms/step - loss: 0.0183 - val_loss: 0.0387\n",
            "Epoch 13/20\n",
            "126/126 [==============================] - 0s 3ms/step - loss: 0.0188 - val_loss: 0.0394\n",
            "Epoch 14/20\n",
            "126/126 [==============================] - 0s 3ms/step - loss: 0.0179 - val_loss: 0.0390\n",
            "Epoch 15/20\n",
            "126/126 [==============================] - 0s 3ms/step - loss: 0.0180 - val_loss: 0.0379\n",
            "Epoch 16/20\n",
            "126/126 [==============================] - 0s 3ms/step - loss: 0.0174 - val_loss: 0.0403\n",
            "Epoch 17/20\n",
            "126/126 [==============================] - 0s 3ms/step - loss: 0.0171 - val_loss: 0.0381\n",
            "Epoch 18/20\n",
            "126/126 [==============================] - 0s 3ms/step - loss: 0.0167 - val_loss: 0.0398\n",
            "Epoch 19/20\n",
            "126/126 [==============================] - 0s 3ms/step - loss: 0.0169 - val_loss: 0.0373\n",
            "Epoch 20/20\n",
            "126/126 [==============================] - 0s 3ms/step - loss: 0.0167 - val_loss: 0.0400\n",
            "5/5 [==============================] - 0s 3ms/step\n"
          ]
        }
      ],
      "source": [
        "from tensorflow.keras.models import Sequential\n",
        "from tensorflow.keras.layers import Dense\n",
        "from tensorflow.keras.layers import Dropout\n",
        "model1 = Sequential()\n",
        "\n",
        "model1.add(Dense(132, input_shape=(X_train.shape[1],), activation='sigmoid'))\n",
        "\n",
        "model1.add(Dense(66, activation='sigmoid'))\n",
        "\n",
        "model1.add(Dense(1, activation='linear'))\n",
        "\n",
        "model1.compile(loss='mean_squared_error', optimizer='RMSProp')\n",
        "model1.fit(X_train, y_train,\n",
        "          validation_data=(X_val, y_val),\n",
        "          epochs=20,\n",
        "          batch_size=4)\n",
        "y_pred=model1.predict(X_test)"
      ]
    },
    {
      "cell_type": "code",
      "source": [
        "loss = model1.evaluate(X_test, y_test)\n",
        "print(f'Loss={loss}')\n"
      ],
      "metadata": {
        "colab": {
          "base_uri": "https://localhost:8080/"
        },
        "id": "7wo7YAHmeU0G",
        "outputId": "6375a961-7e77-4b5b-dade-0585ee0466b7"
      },
      "execution_count": null,
      "outputs": [
        {
          "output_type": "stream",
          "name": "stdout",
          "text": [
            "5/5 [==============================] - 0s 4ms/step - loss: 0.0174\n",
            "Loss=0.01735464483499527\n"
          ]
        }
      ]
    },
    {
      "cell_type": "code",
      "source": [
        "y_reg_max= y_reg.max()\n",
        "y_reg_min= y_reg.min()\n",
        "\n",
        "\n",
        "y_pred_denorm = y_pred[:, 0] * (y_reg_max - y_reg_min) + y_reg_min\n",
        "y_test_denorm = y_test * (y_reg_max - y_reg_min) + y_reg_min\n",
        "error_denorm = np.abs(y_pred_denorm - y_test_denorm)\n",
        "error_percent = error_denorm / y_test_denorm\n",
        "error_percent = error_percent * 100\n",
        "error_percent = error_percent.round(2)\n",
        "print(\"Error medio:\",error_denorm.mean())\n",
        "for gt, pred, e in zip(y_test_denorm, y_pred_denorm, error_denorm):\n",
        "    print(f'Real: {gt:.2f} Predicho: {pred:.2f}. Error: {e:.2f}')"
      ],
      "metadata": {
        "colab": {
          "base_uri": "https://localhost:8080/"
        },
        "id": "fNSgLGR5xg2d",
        "outputId": "ba24c2e6-82e3-43a8-b25c-deba0bbfe62d"
      },
      "execution_count": null,
      "outputs": [
        {
          "output_type": "stream",
          "name": "stdout",
          "text": [
            "Error medio: 17.021672630310057\n",
            "Real: 45.00 Predicho: 58.92. Error: 13.92\n",
            "Real: 49.00 Predicho: 71.65. Error: 22.65\n",
            "Real: 39.00 Predicho: 33.24. Error: 5.76\n",
            "Real: 46.00 Predicho: 65.95. Error: 19.95\n",
            "Real: 68.00 Predicho: 63.60. Error: 4.40\n",
            "Real: 35.00 Predicho: 27.42. Error: 7.58\n",
            "Real: 50.00 Predicho: 53.70. Error: 3.70\n",
            "Real: 23.00 Predicho: 31.34. Error: 8.34\n",
            "Real: 25.00 Predicho: 23.03. Error: 1.97\n",
            "Real: 36.00 Predicho: 22.81. Error: 13.19\n",
            "Real: 60.00 Predicho: 61.93. Error: 1.93\n",
            "Real: 79.00 Predicho: 76.42. Error: 2.58\n",
            "Real: 26.00 Predicho: 26.70. Error: 0.70\n",
            "Real: 95.00 Predicho: 92.01. Error: 2.99\n",
            "Real: 85.00 Predicho: 62.72. Error: 22.28\n",
            "Real: 40.00 Predicho: 56.29. Error: 16.29\n",
            "Real: 50.00 Predicho: 73.68. Error: 23.68\n",
            "Real: 45.00 Predicho: 25.95. Error: 19.05\n",
            "Real: 28.00 Predicho: 30.25. Error: 2.25\n",
            "Real: 84.00 Predicho: 54.17. Error: 29.83\n",
            "Real: 60.00 Predicho: 74.07. Error: 14.07\n",
            "Real: 22.00 Predicho: 12.90. Error: 9.10\n",
            "Real: 75.00 Predicho: 79.35. Error: 4.35\n",
            "Real: 39.00 Predicho: 61.68. Error: 22.68\n",
            "Real: 50.00 Predicho: 68.69. Error: 18.69\n",
            "Real: 110.00 Predicho: 77.33. Error: 32.67\n",
            "Real: 45.00 Predicho: 69.12. Error: 24.12\n",
            "Real: 75.00 Predicho: 66.11. Error: 8.89\n",
            "Real: 11.00 Predicho: 12.81. Error: 1.81\n",
            "Real: 24.00 Predicho: 10.48. Error: 13.52\n",
            "Real: 45.00 Predicho: 20.62. Error: 24.38\n",
            "Real: 33.00 Predicho: 30.25. Error: 2.75\n",
            "Real: 34.00 Predicho: 57.63. Error: 23.63\n",
            "Real: 65.00 Predicho: 71.44. Error: 6.44\n",
            "Real: 140.00 Predicho: 86.85. Error: 53.15\n",
            "Real: 35.00 Predicho: 41.13. Error: 6.13\n",
            "Real: 37.00 Predicho: 33.41. Error: 3.59\n",
            "Real: 68.00 Predicho: 70.57. Error: 2.57\n",
            "Real: 114.00 Predicho: 78.42. Error: 35.58\n",
            "Real: 75.00 Predicho: 19.17. Error: 55.83\n",
            "Real: 65.00 Predicho: 81.31. Error: 16.31\n",
            "Real: 50.00 Predicho: 63.58. Error: 13.58\n",
            "Real: 58.00 Predicho: 62.32. Error: 4.32\n",
            "Real: 60.00 Predicho: 56.41. Error: 3.59\n",
            "Real: 76.00 Predicho: 63.84. Error: 12.16\n",
            "Real: 29.00 Predicho: 91.26. Error: 62.26\n",
            "Real: 120.00 Predicho: 72.27. Error: 47.73\n",
            "Real: 25.00 Predicho: 24.15. Error: 0.85\n",
            "Real: 65.00 Predicho: 70.37. Error: 5.37\n",
            "Real: 65.00 Predicho: 76.56. Error: 11.56\n",
            "Real: 30.00 Predicho: 20.18. Error: 9.82\n",
            "Real: 85.00 Predicho: 71.37. Error: 13.63\n",
            "Real: 100.00 Predicho: 67.80. Error: 32.20\n",
            "Real: 28.00 Predicho: 31.68. Error: 3.68\n",
            "Real: 83.00 Predicho: 72.91. Error: 10.09\n",
            "Real: 25.00 Predicho: 41.09. Error: 16.09\n",
            "Real: 95.00 Predicho: 71.71. Error: 23.29\n",
            "Real: 120.00 Predicho: 89.72. Error: 30.28\n",
            "Real: 42.00 Predicho: 61.08. Error: 19.08\n",
            "Real: 150.00 Predicho: 92.98. Error: 57.02\n",
            "Real: 100.00 Predicho: 84.16. Error: 15.84\n",
            "Real: 80.00 Predicho: 66.53. Error: 13.47\n",
            "Real: 50.00 Predicho: 65.38. Error: 15.38\n",
            "Real: 75.00 Predicho: 72.63. Error: 2.37\n",
            "Real: 29.00 Predicho: 26.13. Error: 2.87\n",
            "Real: 85.00 Predicho: 75.17. Error: 9.83\n",
            "Real: 41.00 Predicho: 30.14. Error: 10.86\n",
            "Real: 80.00 Predicho: 66.65. Error: 13.35\n",
            "Real: 30.00 Predicho: 21.75. Error: 8.25\n",
            "Real: 16.00 Predicho: 21.77. Error: 5.77\n",
            "Real: 70.00 Predicho: 49.71. Error: 20.29\n",
            "Real: 190.00 Predicho: 103.48. Error: 86.52\n",
            "Real: 20.00 Predicho: 9.14. Error: 10.86\n",
            "Real: 57.00 Predicho: 70.37. Error: 13.37\n",
            "Real: 119.00 Predicho: 97.61. Error: 21.39\n",
            "Real: 50.00 Predicho: 69.84. Error: 19.84\n",
            "Real: 28.00 Predicho: 23.71. Error: 4.29\n",
            "Real: 59.00 Predicho: 70.10. Error: 11.10\n",
            "Real: 29.00 Predicho: 55.94. Error: 26.94\n",
            "Real: 22.00 Predicho: 15.81. Error: 6.19\n",
            "Real: 40.00 Predicho: 21.47. Error: 18.53\n",
            "Real: 21.00 Predicho: 19.61. Error: 1.39\n",
            "Real: 40.00 Predicho: 63.96. Error: 23.96\n",
            "Real: 95.00 Predicho: 87.18. Error: 7.82\n",
            "Real: 32.00 Predicho: 47.32. Error: 15.32\n",
            "Real: 25.00 Predicho: 29.37. Error: 4.37\n",
            "Real: 69.00 Predicho: 68.42. Error: 0.58\n",
            "Real: 80.00 Predicho: 70.91. Error: 9.09\n",
            "Real: 52.00 Predicho: 30.25. Error: 21.75\n",
            "Real: 40.00 Predicho: 62.72. Error: 22.72\n",
            "Real: 180.00 Predicho: 106.62. Error: 73.38\n",
            "Real: 75.00 Predicho: 65.37. Error: 9.63\n",
            "Real: 23.00 Predicho: 30.99. Error: 7.99\n",
            "Real: 45.00 Predicho: 43.58. Error: 1.42\n",
            "Real: 30.00 Predicho: 31.12. Error: 1.12\n",
            "Real: 69.00 Predicho: 73.02. Error: 4.02\n",
            "Real: 45.00 Predicho: 32.25. Error: 12.75\n",
            "Real: 108.00 Predicho: 79.31. Error: 28.69\n",
            "Real: 40.00 Predicho: 26.11. Error: 13.89\n",
            "Real: 70.00 Predicho: 61.40. Error: 8.60\n",
            "Real: 115.00 Predicho: 67.79. Error: 47.21\n",
            "Real: 30.00 Predicho: 21.13. Error: 8.87\n",
            "Real: 43.00 Predicho: 30.67. Error: 12.33\n",
            "Real: 46.00 Predicho: 69.20. Error: 23.20\n",
            "Real: 69.00 Predicho: 70.02. Error: 1.02\n",
            "Real: 100.00 Predicho: 71.65. Error: 28.35\n",
            "Real: 42.00 Predicho: 28.16. Error: 13.84\n",
            "Real: 147.00 Predicho: 75.37. Error: 71.63\n",
            "Real: 90.00 Predicho: 60.96. Error: 29.04\n",
            "Real: 30.00 Predicho: 31.16. Error: 1.16\n",
            "Real: 70.00 Predicho: 76.67. Error: 6.67\n",
            "Real: 21.00 Predicho: 29.37. Error: 8.37\n",
            "Real: 34.00 Predicho: 65.59. Error: 31.59\n",
            "Real: 59.00 Predicho: 67.15. Error: 8.15\n",
            "Real: 91.00 Predicho: 72.54. Error: 18.46\n",
            "Real: 50.00 Predicho: 66.27. Error: 16.27\n",
            "Real: 30.00 Predicho: 37.75. Error: 7.75\n",
            "Real: 89.00 Predicho: 61.49. Error: 27.51\n",
            "Real: 27.00 Predicho: 11.06. Error: 15.94\n",
            "Real: 75.00 Predicho: 59.50. Error: 15.50\n",
            "Real: 64.00 Predicho: 59.13. Error: 4.87\n",
            "Real: 25.00 Predicho: 24.15. Error: 0.85\n",
            "Real: 57.00 Predicho: 62.30. Error: 5.30\n",
            "Real: 72.00 Predicho: 70.51. Error: 1.49\n",
            "Real: 48.00 Predicho: 67.39. Error: 19.39\n",
            "Real: 100.00 Predicho: 69.94. Error: 30.06\n",
            "Real: 75.00 Predicho: 68.37. Error: 6.63\n",
            "Real: 61.00 Predicho: 71.78. Error: 10.78\n",
            "Real: 38.00 Predicho: 63.07. Error: 25.07\n",
            "Real: 140.00 Predicho: 67.07. Error: 72.93\n",
            "Real: 18.00 Predicho: 21.43. Error: 3.43\n",
            "Real: 49.00 Predicho: 69.89. Error: 20.89\n",
            "Real: 100.00 Predicho: 32.17. Error: 67.83\n",
            "Real: 65.00 Predicho: 66.19. Error: 1.19\n",
            "Real: 150.00 Predicho: 77.96. Error: 72.04\n",
            "Real: 60.00 Predicho: 56.68. Error: 3.32\n",
            "Real: 30.00 Predicho: 41.23. Error: 11.23\n",
            "Real: 115.00 Predicho: 72.85. Error: 42.15\n",
            "Real: 31.00 Predicho: 32.17. Error: 1.17\n",
            "Real: 23.00 Predicho: 19.09. Error: 3.91\n"
          ]
        }
      ]
    },
    {
      "cell_type": "markdown",
      "source": [
        "### Obtuvimos un error medio de 17 euros, la cual no esta nada mal por la cantidad de datos que tenemos y sus columnas."
      ],
      "metadata": {
        "id": "uL3xddUsCwBB"
      }
    },
    {
      "cell_type": "code",
      "source": [
        "from sklearn.metrics import mean_absolute_error, mean_squared_error\n",
        "\n",
        "y_pred = model1.predict(X_test)\n",
        "\n",
        "mae = mean_absolute_error(y_test, y_pred)\n",
        "rmse = np.sqrt(mean_squared_error(y_test, y_pred))\n",
        "\n",
        "print(f\"MAE: {mae:.3f}\")\n",
        "print(f\"RMSE: {rmse:.3f}\")\n"
      ],
      "metadata": {
        "colab": {
          "base_uri": "https://localhost:8080/"
        },
        "id": "VEiCZRTobY4Y",
        "outputId": "477c6165-8e19-46bc-d3df-da547e73a935"
      },
      "execution_count": null,
      "outputs": [
        {
          "output_type": "stream",
          "name": "stdout",
          "text": [
            "5/5 [==============================] - 0s 3ms/step\n",
            "MAE: 0.093\n",
            "RMSE: 0.132\n"
          ]
        }
      ]
    },
    {
      "cell_type": "markdown",
      "source": [],
      "metadata": {
        "id": "Sx4fShJ2zcab"
      }
    },
    {
      "cell_type": "markdown",
      "source": [
        "# MODELO 2D IMAGENES"
      ],
      "metadata": {
        "id": "Kns-ENgEfdCN"
      }
    },
    {
      "cell_type": "code",
      "source": [
        "x_img=images\n",
        "x_img.shape"
      ],
      "metadata": {
        "colab": {
          "base_uri": "https://localhost:8080/"
        },
        "id": "vYONCQZrfjb_",
        "outputId": "f7491b77-0405-42c8-e4a5-d029c311f208"
      },
      "execution_count": null,
      "outputs": [
        {
          "output_type": "execute_result",
          "data": {
            "text/plain": [
              "(700, 128, 128, 3)"
            ]
          },
          "metadata": {},
          "execution_count": 135
        }
      ]
    },
    {
      "cell_type": "markdown",
      "source": [
        "# Redimensionamiento y normalización"
      ],
      "metadata": {
        "id": "-xbT3nKOfkRP"
      }
    },
    {
      "cell_type": "code",
      "source": [
        "X_img_norm = x_img / 255.0\n",
        "X_img_norm.shape"
      ],
      "metadata": {
        "colab": {
          "base_uri": "https://localhost:8080/"
        },
        "id": "2ERUD4SWfjgh",
        "outputId": "1bfa009f-b36d-48d3-b78c-025e906fa095"
      },
      "execution_count": null,
      "outputs": [
        {
          "output_type": "execute_result",
          "data": {
            "text/plain": [
              "(700, 128, 128, 3)"
            ]
          },
          "metadata": {},
          "execution_count": 136
        }
      ]
    },
    {
      "cell_type": "code",
      "source": [
        "x_img.shape"
      ],
      "metadata": {
        "colab": {
          "base_uri": "https://localhost:8080/"
        },
        "id": "wlElhGq870X8",
        "outputId": "03ca6f3a-4139-4aa1-e652-f1dad9d62bfa"
      },
      "execution_count": null,
      "outputs": [
        {
          "output_type": "execute_result",
          "data": {
            "text/plain": [
              "(700, 128, 128, 3)"
            ]
          },
          "metadata": {},
          "execution_count": 137
        }
      ]
    },
    {
      "cell_type": "code",
      "source": [
        "# creamos un modelo para extraer el vector de características de nuestras imágenes\n",
        "from tensorflow.keras.models import Model\n",
        "from tensorflow.keras.layers import GlobalAveragePooling2D\n",
        "from tensorflow.keras.applications.vgg16 import VGG16\n",
        "from tensorflow.keras.preprocessing import image\n",
        "from tensorflow.keras.applications.vgg16 import preprocess_input\n",
        "import numpy as np\n",
        "\n",
        "model_base = VGG16(weights='imagenet', include_top=False)\n",
        "\n",
        "# creamos un modelo añadiéndole la capa GlobalAveragePooling\n",
        "x = model_base.output\n",
        "gap = GlobalAveragePooling2D()(x)\n",
        "model2 = Model(inputs=model_base.input, outputs=gap)\n",
        "\n",
        "\n",
        "     "
      ],
      "metadata": {
        "id": "W8LvhnclBEwe"
      },
      "execution_count": null,
      "outputs": []
    },
    {
      "cell_type": "code",
      "source": [
        "from tqdm import tqdm  # para  mostrar el progreso\n",
        "# vamos a procesarlas y a extraer el vector de 512 características\n",
        "images_feat = np.zeros((700, 512))\n",
        "\n",
        "for i in tqdm(range(images.shape[0])):\n",
        "    img = images[i]\n",
        "    x = image.img_to_array(img)\n",
        "    x = np.expand_dims(x, axis=0)\n",
        "    x = preprocess_input(x)\n",
        "\n",
        "    features = model2.predict(x)\n",
        "    images_feat[i] = features[0]\n"
      ],
      "metadata": {
        "colab": {
          "base_uri": "https://localhost:8080/"
        },
        "id": "8MOCHz2wM4HG",
        "outputId": "de3fd13b-df3d-468b-f47b-6ccad196f283"
      },
      "execution_count": null,
      "outputs": [
        {
          "output_type": "stream",
          "name": "stderr",
          "text": [
            "\r  0%|          | 0/700 [00:00<?, ?it/s]"
          ]
        },
        {
          "output_type": "stream",
          "name": "stdout",
          "text": [
            "1/1 [==============================] - 0s 201ms/step\n"
          ]
        },
        {
          "output_type": "stream",
          "name": "stderr",
          "text": [
            "\r  0%|          | 1/700 [00:00<02:56,  3.96it/s]"
          ]
        },
        {
          "output_type": "stream",
          "name": "stdout",
          "text": [
            "1/1 [==============================] - 0s 31ms/step\n",
            "1/1 [==============================] - 0s 31ms/step\n"
          ]
        },
        {
          "output_type": "stream",
          "name": "stderr",
          "text": [
            "\r  0%|          | 3/700 [00:00<01:31,  7.60it/s]"
          ]
        },
        {
          "output_type": "stream",
          "name": "stdout",
          "text": [
            "1/1 [==============================] - 0s 30ms/step\n",
            "1/1 [==============================] - 0s 30ms/step\n"
          ]
        },
        {
          "output_type": "stream",
          "name": "stderr",
          "text": [
            "\r  1%|          | 5/700 [00:00<01:17,  9.00it/s]"
          ]
        },
        {
          "output_type": "stream",
          "name": "stdout",
          "text": [
            "1/1 [==============================] - 0s 31ms/step\n",
            "1/1 [==============================] - 0s 29ms/step\n"
          ]
        },
        {
          "output_type": "stream",
          "name": "stderr",
          "text": [
            "\r  1%|          | 7/700 [00:00<01:08, 10.11it/s]"
          ]
        },
        {
          "output_type": "stream",
          "name": "stdout",
          "text": [
            "1/1 [==============================] - 0s 39ms/step\n",
            "1/1 [==============================] - 0s 29ms/step\n"
          ]
        },
        {
          "output_type": "stream",
          "name": "stderr",
          "text": [
            "\r  1%|▏         | 9/700 [00:00<01:05, 10.47it/s]"
          ]
        },
        {
          "output_type": "stream",
          "name": "stdout",
          "text": [
            "1/1 [==============================] - 0s 34ms/step\n",
            "1/1 [==============================] - 0s 40ms/step\n"
          ]
        },
        {
          "output_type": "stream",
          "name": "stderr",
          "text": [
            "\r  2%|▏         | 11/700 [00:01<01:03, 10.81it/s]"
          ]
        },
        {
          "output_type": "stream",
          "name": "stdout",
          "text": [
            "1/1 [==============================] - 0s 30ms/step\n",
            "1/1 [==============================] - 0s 28ms/step\n"
          ]
        },
        {
          "output_type": "stream",
          "name": "stderr",
          "text": [
            "\r  2%|▏         | 13/700 [00:01<01:02, 10.91it/s]"
          ]
        },
        {
          "output_type": "stream",
          "name": "stdout",
          "text": [
            "1/1 [==============================] - 0s 34ms/step\n",
            "1/1 [==============================] - 0s 36ms/step\n"
          ]
        },
        {
          "output_type": "stream",
          "name": "stderr",
          "text": [
            "\r  2%|▏         | 15/700 [00:01<01:03, 10.76it/s]"
          ]
        },
        {
          "output_type": "stream",
          "name": "stdout",
          "text": [
            "1/1 [==============================] - 0s 37ms/step\n",
            "1/1 [==============================] - 0s 46ms/step\n"
          ]
        },
        {
          "output_type": "stream",
          "name": "stderr",
          "text": [
            "\r  2%|▏         | 17/700 [00:01<01:04, 10.59it/s]"
          ]
        },
        {
          "output_type": "stream",
          "name": "stdout",
          "text": [
            "1/1 [==============================] - 0s 45ms/step\n",
            "1/1 [==============================] - 0s 33ms/step\n"
          ]
        },
        {
          "output_type": "stream",
          "name": "stderr",
          "text": [
            "\r  3%|▎         | 19/700 [00:01<01:08,  9.98it/s]"
          ]
        },
        {
          "output_type": "stream",
          "name": "stdout",
          "text": [
            "1/1 [==============================] - 0s 24ms/step\n",
            "1/1 [==============================] - 0s 22ms/step\n"
          ]
        },
        {
          "output_type": "stream",
          "name": "stderr",
          "text": [
            "\r  3%|▎         | 21/700 [00:02<01:00, 11.23it/s]"
          ]
        },
        {
          "output_type": "stream",
          "name": "stdout",
          "text": [
            "1/1 [==============================] - 0s 20ms/step\n",
            "1/1 [==============================] - 0s 23ms/step\n"
          ]
        },
        {
          "output_type": "stream",
          "name": "stderr",
          "text": [
            "\r  3%|▎         | 23/700 [00:02<00:53, 12.56it/s]"
          ]
        },
        {
          "output_type": "stream",
          "name": "stdout",
          "text": [
            "1/1 [==============================] - 0s 20ms/step\n",
            "1/1 [==============================] - 0s 22ms/step\n"
          ]
        },
        {
          "output_type": "stream",
          "name": "stderr",
          "text": [
            "\r  4%|▎         | 25/700 [00:02<00:50, 13.43it/s]"
          ]
        },
        {
          "output_type": "stream",
          "name": "stdout",
          "text": [
            "1/1 [==============================] - 0s 23ms/step\n",
            "1/1 [==============================] - 0s 28ms/step\n"
          ]
        },
        {
          "output_type": "stream",
          "name": "stderr",
          "text": [
            "\r  4%|▍         | 27/700 [00:02<00:48, 13.83it/s]"
          ]
        },
        {
          "output_type": "stream",
          "name": "stdout",
          "text": [
            "1/1 [==============================] - 0s 26ms/step\n",
            "1/1 [==============================] - 0s 22ms/step\n"
          ]
        },
        {
          "output_type": "stream",
          "name": "stderr",
          "text": [
            "\r  4%|▍         | 29/700 [00:02<00:46, 14.34it/s]"
          ]
        },
        {
          "output_type": "stream",
          "name": "stdout",
          "text": [
            "1/1 [==============================] - 0s 23ms/step\n",
            "1/1 [==============================] - 0s 22ms/step\n"
          ]
        },
        {
          "output_type": "stream",
          "name": "stderr",
          "text": [
            "\r  4%|▍         | 31/700 [00:02<00:48, 13.88it/s]"
          ]
        },
        {
          "output_type": "stream",
          "name": "stdout",
          "text": [
            "1/1 [==============================] - 0s 22ms/step\n",
            "1/1 [==============================] - 0s 28ms/step\n"
          ]
        },
        {
          "output_type": "stream",
          "name": "stderr",
          "text": [
            "\r  5%|▍         | 33/700 [00:02<00:46, 14.22it/s]"
          ]
        },
        {
          "output_type": "stream",
          "name": "stdout",
          "text": [
            "1/1 [==============================] - 0s 29ms/step\n",
            "1/1 [==============================] - 0s 21ms/step\n"
          ]
        },
        {
          "output_type": "stream",
          "name": "stderr",
          "text": [
            "\r  5%|▌         | 35/700 [00:02<00:45, 14.58it/s]"
          ]
        },
        {
          "output_type": "stream",
          "name": "stdout",
          "text": [
            "1/1 [==============================] - 0s 24ms/step\n",
            "1/1 [==============================] - 0s 23ms/step\n"
          ]
        },
        {
          "output_type": "stream",
          "name": "stderr",
          "text": [
            "\r  5%|▌         | 37/700 [00:03<00:44, 14.88it/s]"
          ]
        },
        {
          "output_type": "stream",
          "name": "stdout",
          "text": [
            "1/1 [==============================] - 0s 22ms/step\n",
            "1/1 [==============================] - 0s 22ms/step\n"
          ]
        },
        {
          "output_type": "stream",
          "name": "stderr",
          "text": [
            "\r  6%|▌         | 39/700 [00:03<00:43, 15.24it/s]"
          ]
        },
        {
          "output_type": "stream",
          "name": "stdout",
          "text": [
            "1/1 [==============================] - 0s 21ms/step\n",
            "1/1 [==============================] - 0s 21ms/step\n"
          ]
        },
        {
          "output_type": "stream",
          "name": "stderr",
          "text": [
            "\r  6%|▌         | 41/700 [00:03<00:42, 15.63it/s]"
          ]
        },
        {
          "output_type": "stream",
          "name": "stdout",
          "text": [
            "1/1 [==============================] - 0s 21ms/step\n",
            "1/1 [==============================] - 0s 21ms/step\n"
          ]
        },
        {
          "output_type": "stream",
          "name": "stderr",
          "text": [
            "\r  6%|▌         | 43/700 [00:03<00:41, 15.95it/s]"
          ]
        },
        {
          "output_type": "stream",
          "name": "stdout",
          "text": [
            "1/1 [==============================] - 0s 26ms/step\n",
            "1/1 [==============================] - 0s 25ms/step\n"
          ]
        },
        {
          "output_type": "stream",
          "name": "stderr",
          "text": [
            "\r  6%|▋         | 45/700 [00:03<00:41, 15.61it/s]"
          ]
        },
        {
          "output_type": "stream",
          "name": "stdout",
          "text": [
            "1/1 [==============================] - 0s 20ms/step\n",
            "1/1 [==============================] - 0s 22ms/step\n"
          ]
        },
        {
          "output_type": "stream",
          "name": "stderr",
          "text": [
            "\r  7%|▋         | 47/700 [00:03<00:40, 16.03it/s]"
          ]
        },
        {
          "output_type": "stream",
          "name": "stdout",
          "text": [
            "1/1 [==============================] - 0s 20ms/step\n",
            "1/1 [==============================] - 0s 25ms/step\n"
          ]
        },
        {
          "output_type": "stream",
          "name": "stderr",
          "text": [
            "\r  7%|▋         | 49/700 [00:03<00:40, 16.18it/s]"
          ]
        },
        {
          "output_type": "stream",
          "name": "stdout",
          "text": [
            "1/1 [==============================] - 0s 20ms/step\n",
            "1/1 [==============================] - 0s 22ms/step\n"
          ]
        },
        {
          "output_type": "stream",
          "name": "stderr",
          "text": [
            "\r  7%|▋         | 51/700 [00:03<00:40, 16.21it/s]"
          ]
        },
        {
          "output_type": "stream",
          "name": "stdout",
          "text": [
            "1/1 [==============================] - 0s 21ms/step\n",
            "1/1 [==============================] - 0s 26ms/step\n"
          ]
        },
        {
          "output_type": "stream",
          "name": "stderr",
          "text": [
            "\r  8%|▊         | 53/700 [00:04<00:39, 16.42it/s]"
          ]
        },
        {
          "output_type": "stream",
          "name": "stdout",
          "text": [
            "1/1 [==============================] - 0s 23ms/step\n",
            "1/1 [==============================] - 0s 20ms/step\n"
          ]
        },
        {
          "output_type": "stream",
          "name": "stderr",
          "text": [
            "\r  8%|▊         | 55/700 [00:04<00:39, 16.29it/s]"
          ]
        },
        {
          "output_type": "stream",
          "name": "stdout",
          "text": [
            "1/1 [==============================] - 0s 20ms/step\n",
            "1/1 [==============================] - 0s 21ms/step\n"
          ]
        },
        {
          "output_type": "stream",
          "name": "stderr",
          "text": [
            "\r  8%|▊         | 57/700 [00:04<00:38, 16.59it/s]"
          ]
        },
        {
          "output_type": "stream",
          "name": "stdout",
          "text": [
            "1/1 [==============================] - 0s 19ms/step\n",
            "1/1 [==============================] - 0s 22ms/step\n"
          ]
        },
        {
          "output_type": "stream",
          "name": "stderr",
          "text": [
            "\r  8%|▊         | 59/700 [00:04<00:37, 16.87it/s]"
          ]
        },
        {
          "output_type": "stream",
          "name": "stdout",
          "text": [
            "1/1 [==============================] - 0s 22ms/step\n",
            "1/1 [==============================] - 0s 21ms/step\n"
          ]
        },
        {
          "output_type": "stream",
          "name": "stderr",
          "text": [
            "\r  9%|▊         | 61/700 [00:04<00:38, 16.48it/s]"
          ]
        },
        {
          "output_type": "stream",
          "name": "stdout",
          "text": [
            "1/1 [==============================] - 0s 28ms/step\n",
            "1/1 [==============================] - 0s 22ms/step\n"
          ]
        },
        {
          "output_type": "stream",
          "name": "stderr",
          "text": [
            "\r  9%|▉         | 63/700 [00:04<00:39, 16.10it/s]"
          ]
        },
        {
          "output_type": "stream",
          "name": "stdout",
          "text": [
            "1/1 [==============================] - 0s 24ms/step\n",
            "1/1 [==============================] - 0s 20ms/step\n"
          ]
        },
        {
          "output_type": "stream",
          "name": "stderr",
          "text": [
            "\r  9%|▉         | 65/700 [00:04<00:39, 16.02it/s]"
          ]
        },
        {
          "output_type": "stream",
          "name": "stdout",
          "text": [
            "1/1 [==============================] - 0s 28ms/step\n",
            "1/1 [==============================] - 0s 19ms/step\n"
          ]
        },
        {
          "output_type": "stream",
          "name": "stderr",
          "text": [
            "\r 10%|▉         | 67/700 [00:04<00:39, 15.92it/s]"
          ]
        },
        {
          "output_type": "stream",
          "name": "stdout",
          "text": [
            "1/1 [==============================] - 0s 21ms/step\n",
            "1/1 [==============================] - 0s 22ms/step\n"
          ]
        },
        {
          "output_type": "stream",
          "name": "stderr",
          "text": [
            "\r 10%|▉         | 69/700 [00:05<00:39, 15.97it/s]"
          ]
        },
        {
          "output_type": "stream",
          "name": "stdout",
          "text": [
            "1/1 [==============================] - 0s 22ms/step\n",
            "1/1 [==============================] - 0s 21ms/step\n"
          ]
        },
        {
          "output_type": "stream",
          "name": "stderr",
          "text": [
            "\r 10%|█         | 71/700 [00:05<00:38, 16.39it/s]"
          ]
        },
        {
          "output_type": "stream",
          "name": "stdout",
          "text": [
            "1/1 [==============================] - 0s 20ms/step\n",
            "1/1 [==============================] - 0s 23ms/step\n"
          ]
        },
        {
          "output_type": "stream",
          "name": "stderr",
          "text": [
            "\r 10%|█         | 73/700 [00:05<00:39, 15.81it/s]"
          ]
        },
        {
          "output_type": "stream",
          "name": "stdout",
          "text": [
            "1/1 [==============================] - 0s 22ms/step\n",
            "1/1 [==============================] - 0s 23ms/step\n"
          ]
        },
        {
          "output_type": "stream",
          "name": "stderr",
          "text": [
            "\r 11%|█         | 75/700 [00:05<00:39, 15.98it/s]"
          ]
        },
        {
          "output_type": "stream",
          "name": "stdout",
          "text": [
            "1/1 [==============================] - 0s 20ms/step\n",
            "1/1 [==============================] - 0s 20ms/step\n"
          ]
        },
        {
          "output_type": "stream",
          "name": "stderr",
          "text": [
            "\r 11%|█         | 77/700 [00:05<00:37, 16.40it/s]"
          ]
        },
        {
          "output_type": "stream",
          "name": "stdout",
          "text": [
            "1/1 [==============================] - 0s 23ms/step\n",
            "1/1 [==============================] - 0s 20ms/step\n"
          ]
        },
        {
          "output_type": "stream",
          "name": "stderr",
          "text": [
            "\r 11%|█▏        | 79/700 [00:05<00:39, 15.59it/s]"
          ]
        },
        {
          "output_type": "stream",
          "name": "stdout",
          "text": [
            "1/1 [==============================] - 0s 20ms/step\n",
            "1/1 [==============================] - 0s 23ms/step\n"
          ]
        },
        {
          "output_type": "stream",
          "name": "stderr",
          "text": [
            "\r 12%|█▏        | 81/700 [00:05<00:39, 15.77it/s]"
          ]
        },
        {
          "output_type": "stream",
          "name": "stdout",
          "text": [
            "1/1 [==============================] - 0s 24ms/step\n",
            "1/1 [==============================] - 0s 22ms/step\n"
          ]
        },
        {
          "output_type": "stream",
          "name": "stderr",
          "text": [
            "\r 12%|█▏        | 83/700 [00:05<00:38, 15.90it/s]"
          ]
        },
        {
          "output_type": "stream",
          "name": "stdout",
          "text": [
            "1/1 [==============================] - 0s 25ms/step\n",
            "1/1 [==============================] - 0s 20ms/step\n"
          ]
        },
        {
          "output_type": "stream",
          "name": "stderr",
          "text": [
            "\r 12%|█▏        | 85/700 [00:06<00:39, 15.47it/s]"
          ]
        },
        {
          "output_type": "stream",
          "name": "stdout",
          "text": [
            "1/1 [==============================] - 0s 19ms/step\n",
            "1/1 [==============================] - 0s 22ms/step\n"
          ]
        },
        {
          "output_type": "stream",
          "name": "stderr",
          "text": [
            "\r 12%|█▏        | 87/700 [00:06<00:38, 16.10it/s]"
          ]
        },
        {
          "output_type": "stream",
          "name": "stdout",
          "text": [
            "1/1 [==============================] - 0s 20ms/step\n",
            "1/1 [==============================] - 0s 22ms/step\n"
          ]
        },
        {
          "output_type": "stream",
          "name": "stderr",
          "text": [
            "\r 13%|█▎        | 89/700 [00:06<00:37, 16.08it/s]"
          ]
        },
        {
          "output_type": "stream",
          "name": "stdout",
          "text": [
            "1/1 [==============================] - 0s 23ms/step\n",
            "1/1 [==============================] - 0s 25ms/step\n"
          ]
        },
        {
          "output_type": "stream",
          "name": "stderr",
          "text": [
            "\r 13%|█▎        | 91/700 [00:06<00:38, 15.97it/s]"
          ]
        },
        {
          "output_type": "stream",
          "name": "stdout",
          "text": [
            "1/1 [==============================] - 0s 20ms/step\n",
            "1/1 [==============================] - 0s 19ms/step\n"
          ]
        },
        {
          "output_type": "stream",
          "name": "stderr",
          "text": [
            "\r 13%|█▎        | 93/700 [00:06<00:36, 16.42it/s]"
          ]
        },
        {
          "output_type": "stream",
          "name": "stdout",
          "text": [
            "1/1 [==============================] - 0s 20ms/step\n",
            "1/1 [==============================] - 0s 22ms/step\n"
          ]
        },
        {
          "output_type": "stream",
          "name": "stderr",
          "text": [
            "\r 14%|█▎        | 95/700 [00:06<00:36, 16.67it/s]"
          ]
        },
        {
          "output_type": "stream",
          "name": "stdout",
          "text": [
            "1/1 [==============================] - 0s 21ms/step\n",
            "1/1 [==============================] - 0s 20ms/step\n"
          ]
        },
        {
          "output_type": "stream",
          "name": "stderr",
          "text": [
            "\r 14%|█▍        | 97/700 [00:06<00:36, 16.56it/s]"
          ]
        },
        {
          "output_type": "stream",
          "name": "stdout",
          "text": [
            "1/1 [==============================] - 0s 21ms/step\n",
            "1/1 [==============================] - 0s 27ms/step\n"
          ]
        },
        {
          "output_type": "stream",
          "name": "stderr",
          "text": [
            "\r 14%|█▍        | 99/700 [00:06<00:37, 15.87it/s]"
          ]
        },
        {
          "output_type": "stream",
          "name": "stdout",
          "text": [
            "1/1 [==============================] - 0s 27ms/step\n",
            "1/1 [==============================] - 0s 23ms/step\n"
          ]
        },
        {
          "output_type": "stream",
          "name": "stderr",
          "text": [
            "\r 14%|█▍        | 101/700 [00:07<00:37, 15.85it/s]"
          ]
        },
        {
          "output_type": "stream",
          "name": "stdout",
          "text": [
            "1/1 [==============================] - 0s 22ms/step\n",
            "1/1 [==============================] - 0s 25ms/step\n"
          ]
        },
        {
          "output_type": "stream",
          "name": "stderr",
          "text": [
            "\r 15%|█▍        | 103/700 [00:07<00:38, 15.66it/s]"
          ]
        },
        {
          "output_type": "stream",
          "name": "stdout",
          "text": [
            "1/1 [==============================] - 0s 25ms/step\n",
            "1/1 [==============================] - 0s 24ms/step\n"
          ]
        },
        {
          "output_type": "stream",
          "name": "stderr",
          "text": [
            "\r 15%|█▌        | 105/700 [00:07<00:37, 15.73it/s]"
          ]
        },
        {
          "output_type": "stream",
          "name": "stdout",
          "text": [
            "1/1 [==============================] - 0s 22ms/step\n",
            "1/1 [==============================] - 0s 22ms/step\n"
          ]
        },
        {
          "output_type": "stream",
          "name": "stderr",
          "text": [
            "\r 15%|█▌        | 107/700 [00:07<00:37, 15.90it/s]"
          ]
        },
        {
          "output_type": "stream",
          "name": "stdout",
          "text": [
            "1/1 [==============================] - 0s 24ms/step\n",
            "1/1 [==============================] - 0s 22ms/step\n"
          ]
        },
        {
          "output_type": "stream",
          "name": "stderr",
          "text": [
            "\r 16%|█▌        | 109/700 [00:07<00:37, 15.71it/s]"
          ]
        },
        {
          "output_type": "stream",
          "name": "stdout",
          "text": [
            "1/1 [==============================] - 0s 21ms/step\n",
            "1/1 [==============================] - 0s 22ms/step\n"
          ]
        },
        {
          "output_type": "stream",
          "name": "stderr",
          "text": [
            "\r 16%|█▌        | 111/700 [00:07<00:37, 15.88it/s]"
          ]
        },
        {
          "output_type": "stream",
          "name": "stdout",
          "text": [
            "1/1 [==============================] - 0s 27ms/step\n",
            "1/1 [==============================] - 0s 23ms/step\n"
          ]
        },
        {
          "output_type": "stream",
          "name": "stderr",
          "text": [
            "\r 16%|█▌        | 113/700 [00:07<00:37, 15.66it/s]"
          ]
        },
        {
          "output_type": "stream",
          "name": "stdout",
          "text": [
            "1/1 [==============================] - 0s 22ms/step\n",
            "1/1 [==============================] - 0s 22ms/step\n"
          ]
        },
        {
          "output_type": "stream",
          "name": "stderr",
          "text": [
            "\r 16%|█▋        | 115/700 [00:07<00:38, 15.29it/s]"
          ]
        },
        {
          "output_type": "stream",
          "name": "stdout",
          "text": [
            "1/1 [==============================] - 0s 25ms/step\n",
            "1/1 [==============================] - 0s 23ms/step\n"
          ]
        },
        {
          "output_type": "stream",
          "name": "stderr",
          "text": [
            "\r 17%|█▋        | 117/700 [00:08<00:39, 14.89it/s]"
          ]
        },
        {
          "output_type": "stream",
          "name": "stdout",
          "text": [
            "1/1 [==============================] - 0s 25ms/step\n",
            "1/1 [==============================] - 0s 22ms/step\n"
          ]
        },
        {
          "output_type": "stream",
          "name": "stderr",
          "text": [
            "\r 17%|█▋        | 119/700 [00:08<00:38, 14.99it/s]"
          ]
        },
        {
          "output_type": "stream",
          "name": "stdout",
          "text": [
            "1/1 [==============================] - 0s 23ms/step\n",
            "1/1 [==============================] - 0s 26ms/step\n"
          ]
        },
        {
          "output_type": "stream",
          "name": "stderr",
          "text": [
            "\r 17%|█▋        | 121/700 [00:08<00:37, 15.34it/s]"
          ]
        },
        {
          "output_type": "stream",
          "name": "stdout",
          "text": [
            "1/1 [==============================] - 0s 23ms/step\n",
            "1/1 [==============================] - 0s 19ms/step\n"
          ]
        },
        {
          "output_type": "stream",
          "name": "stderr",
          "text": [
            "\r 18%|█▊        | 123/700 [00:08<00:37, 15.50it/s]"
          ]
        },
        {
          "output_type": "stream",
          "name": "stdout",
          "text": [
            "1/1 [==============================] - 0s 22ms/step\n",
            "1/1 [==============================] - 0s 22ms/step\n"
          ]
        },
        {
          "output_type": "stream",
          "name": "stderr",
          "text": [
            "\r 18%|█▊        | 125/700 [00:08<00:36, 15.69it/s]"
          ]
        },
        {
          "output_type": "stream",
          "name": "stdout",
          "text": [
            "1/1 [==============================] - 0s 22ms/step\n",
            "1/1 [==============================] - 0s 20ms/step\n"
          ]
        },
        {
          "output_type": "stream",
          "name": "stderr",
          "text": [
            "\r 18%|█▊        | 127/700 [00:08<00:36, 15.54it/s]"
          ]
        },
        {
          "output_type": "stream",
          "name": "stdout",
          "text": [
            "1/1 [==============================] - 0s 28ms/step\n",
            "1/1 [==============================] - 0s 20ms/step\n"
          ]
        },
        {
          "output_type": "stream",
          "name": "stderr",
          "text": [
            "\r 18%|█▊        | 129/700 [00:08<00:36, 15.56it/s]"
          ]
        },
        {
          "output_type": "stream",
          "name": "stdout",
          "text": [
            "1/1 [==============================] - 0s 20ms/step\n",
            "1/1 [==============================] - 0s 22ms/step\n"
          ]
        },
        {
          "output_type": "stream",
          "name": "stderr",
          "text": [
            "\r 19%|█▊        | 131/700 [00:09<00:36, 15.69it/s]"
          ]
        },
        {
          "output_type": "stream",
          "name": "stdout",
          "text": [
            "1/1 [==============================] - 0s 19ms/step\n",
            "1/1 [==============================] - 0s 23ms/step\n"
          ]
        },
        {
          "output_type": "stream",
          "name": "stderr",
          "text": [
            "\r 19%|█▉        | 133/700 [00:09<00:36, 15.63it/s]"
          ]
        },
        {
          "output_type": "stream",
          "name": "stdout",
          "text": [
            "1/1 [==============================] - 0s 22ms/step\n",
            "1/1 [==============================] - 0s 23ms/step\n"
          ]
        },
        {
          "output_type": "stream",
          "name": "stderr",
          "text": [
            "\r 19%|█▉        | 135/700 [00:09<00:36, 15.61it/s]"
          ]
        },
        {
          "output_type": "stream",
          "name": "stdout",
          "text": [
            "1/1 [==============================] - 0s 22ms/step\n",
            "1/1 [==============================] - 0s 24ms/step\n"
          ]
        },
        {
          "output_type": "stream",
          "name": "stderr",
          "text": [
            "\r 20%|█▉        | 137/700 [00:09<00:35, 15.82it/s]"
          ]
        },
        {
          "output_type": "stream",
          "name": "stdout",
          "text": [
            "1/1 [==============================] - 0s 22ms/step\n",
            "1/1 [==============================] - 0s 22ms/step\n"
          ]
        },
        {
          "output_type": "stream",
          "name": "stderr",
          "text": [
            "\r 20%|█▉        | 139/700 [00:09<00:35, 15.90it/s]"
          ]
        },
        {
          "output_type": "stream",
          "name": "stdout",
          "text": [
            "1/1 [==============================] - 0s 22ms/step\n",
            "1/1 [==============================] - 0s 23ms/step\n"
          ]
        },
        {
          "output_type": "stream",
          "name": "stderr",
          "text": [
            "\r 20%|██        | 141/700 [00:09<00:34, 16.21it/s]"
          ]
        },
        {
          "output_type": "stream",
          "name": "stdout",
          "text": [
            "1/1 [==============================] - 0s 26ms/step\n",
            "1/1 [==============================] - 0s 25ms/step\n"
          ]
        },
        {
          "output_type": "stream",
          "name": "stderr",
          "text": [
            "\r 20%|██        | 143/700 [00:09<00:36, 15.45it/s]"
          ]
        },
        {
          "output_type": "stream",
          "name": "stdout",
          "text": [
            "1/1 [==============================] - 0s 22ms/step\n",
            "1/1 [==============================] - 0s 21ms/step\n"
          ]
        },
        {
          "output_type": "stream",
          "name": "stderr",
          "text": [
            "\r 21%|██        | 145/700 [00:09<00:35, 15.48it/s]"
          ]
        },
        {
          "output_type": "stream",
          "name": "stdout",
          "text": [
            "1/1 [==============================] - 0s 21ms/step\n",
            "1/1 [==============================] - 0s 20ms/step\n"
          ]
        },
        {
          "output_type": "stream",
          "name": "stderr",
          "text": [
            "\r 21%|██        | 147/700 [00:10<00:35, 15.72it/s]"
          ]
        },
        {
          "output_type": "stream",
          "name": "stdout",
          "text": [
            "1/1 [==============================] - 0s 20ms/step\n",
            "1/1 [==============================] - 0s 21ms/step\n"
          ]
        },
        {
          "output_type": "stream",
          "name": "stderr",
          "text": [
            "\r 21%|██▏       | 149/700 [00:10<00:34, 15.98it/s]"
          ]
        },
        {
          "output_type": "stream",
          "name": "stdout",
          "text": [
            "1/1 [==============================] - 0s 22ms/step\n",
            "1/1 [==============================] - 0s 20ms/step\n"
          ]
        },
        {
          "output_type": "stream",
          "name": "stderr",
          "text": [
            "\r 22%|██▏       | 151/700 [00:10<00:33, 16.27it/s]"
          ]
        },
        {
          "output_type": "stream",
          "name": "stdout",
          "text": [
            "1/1 [==============================] - 0s 24ms/step\n",
            "1/1 [==============================] - 0s 23ms/step\n"
          ]
        },
        {
          "output_type": "stream",
          "name": "stderr",
          "text": [
            "\r 22%|██▏       | 153/700 [00:10<00:34, 15.77it/s]"
          ]
        },
        {
          "output_type": "stream",
          "name": "stdout",
          "text": [
            "1/1 [==============================] - 0s 21ms/step\n",
            "1/1 [==============================] - 0s 21ms/step\n"
          ]
        },
        {
          "output_type": "stream",
          "name": "stderr",
          "text": [
            "\r 22%|██▏       | 155/700 [00:10<00:35, 15.52it/s]"
          ]
        },
        {
          "output_type": "stream",
          "name": "stdout",
          "text": [
            "1/1 [==============================] - 0s 21ms/step\n",
            "1/1 [==============================] - 0s 23ms/step\n"
          ]
        },
        {
          "output_type": "stream",
          "name": "stderr",
          "text": [
            "\r 22%|██▏       | 157/700 [00:10<00:34, 15.68it/s]"
          ]
        },
        {
          "output_type": "stream",
          "name": "stdout",
          "text": [
            "1/1 [==============================] - 0s 20ms/step\n",
            "1/1 [==============================] - 0s 21ms/step\n"
          ]
        },
        {
          "output_type": "stream",
          "name": "stderr",
          "text": [
            "\r 23%|██▎       | 159/700 [00:10<00:33, 16.01it/s]"
          ]
        },
        {
          "output_type": "stream",
          "name": "stdout",
          "text": [
            "1/1 [==============================] - 0s 20ms/step\n",
            "1/1 [==============================] - 0s 21ms/step\n"
          ]
        },
        {
          "output_type": "stream",
          "name": "stderr",
          "text": [
            "\r 23%|██▎       | 161/700 [00:10<00:32, 16.42it/s]"
          ]
        },
        {
          "output_type": "stream",
          "name": "stdout",
          "text": [
            "1/1 [==============================] - 0s 21ms/step\n",
            "1/1 [==============================] - 0s 25ms/step\n"
          ]
        },
        {
          "output_type": "stream",
          "name": "stderr",
          "text": [
            "\r 23%|██▎       | 163/700 [00:11<00:34, 15.63it/s]"
          ]
        },
        {
          "output_type": "stream",
          "name": "stdout",
          "text": [
            "1/1 [==============================] - 0s 22ms/step\n",
            "1/1 [==============================] - 0s 21ms/step\n"
          ]
        },
        {
          "output_type": "stream",
          "name": "stderr",
          "text": [
            "\r 24%|██▎       | 165/700 [00:11<00:34, 15.60it/s]"
          ]
        },
        {
          "output_type": "stream",
          "name": "stdout",
          "text": [
            "1/1 [==============================] - 0s 23ms/step\n",
            "1/1 [==============================] - 0s 22ms/step\n"
          ]
        },
        {
          "output_type": "stream",
          "name": "stderr",
          "text": [
            "\r 24%|██▍       | 167/700 [00:11<00:33, 15.90it/s]"
          ]
        },
        {
          "output_type": "stream",
          "name": "stdout",
          "text": [
            "1/1 [==============================] - 0s 28ms/step\n",
            "1/1 [==============================] - 0s 22ms/step\n"
          ]
        },
        {
          "output_type": "stream",
          "name": "stderr",
          "text": [
            "\r 24%|██▍       | 169/700 [00:11<00:35, 15.12it/s]"
          ]
        },
        {
          "output_type": "stream",
          "name": "stdout",
          "text": [
            "1/1 [==============================] - 0s 21ms/step\n",
            "1/1 [==============================] - 0s 25ms/step\n"
          ]
        },
        {
          "output_type": "stream",
          "name": "stderr",
          "text": [
            "\r 24%|██▍       | 171/700 [00:11<00:34, 15.30it/s]"
          ]
        },
        {
          "output_type": "stream",
          "name": "stdout",
          "text": [
            "1/1 [==============================] - 0s 22ms/step\n",
            "1/1 [==============================] - 0s 21ms/step\n"
          ]
        },
        {
          "output_type": "stream",
          "name": "stderr",
          "text": [
            "\r 25%|██▍       | 173/700 [00:11<00:34, 15.10it/s]"
          ]
        },
        {
          "output_type": "stream",
          "name": "stdout",
          "text": [
            "1/1 [==============================] - 0s 20ms/step\n",
            "1/1 [==============================] - 0s 21ms/step\n"
          ]
        },
        {
          "output_type": "stream",
          "name": "stderr",
          "text": [
            "\r 25%|██▌       | 175/700 [00:11<00:33, 15.72it/s]"
          ]
        },
        {
          "output_type": "stream",
          "name": "stdout",
          "text": [
            "1/1 [==============================] - 0s 20ms/step\n",
            "1/1 [==============================] - 0s 32ms/step\n"
          ]
        },
        {
          "output_type": "stream",
          "name": "stderr",
          "text": [
            "\r 25%|██▌       | 177/700 [00:11<00:34, 15.30it/s]"
          ]
        },
        {
          "output_type": "stream",
          "name": "stdout",
          "text": [
            "1/1 [==============================] - 0s 35ms/step\n",
            "1/1 [==============================] - 0s 30ms/step\n"
          ]
        },
        {
          "output_type": "stream",
          "name": "stderr",
          "text": [
            "\r 26%|██▌       | 179/700 [00:12<00:37, 13.76it/s]"
          ]
        },
        {
          "output_type": "stream",
          "name": "stdout",
          "text": [
            "1/1 [==============================] - 0s 31ms/step\n",
            "1/1 [==============================] - 0s 30ms/step\n"
          ]
        },
        {
          "output_type": "stream",
          "name": "stderr",
          "text": [
            "\r 26%|██▌       | 181/700 [00:12<00:41, 12.61it/s]"
          ]
        },
        {
          "output_type": "stream",
          "name": "stdout",
          "text": [
            "1/1 [==============================] - 0s 31ms/step\n",
            "1/1 [==============================] - 0s 30ms/step\n"
          ]
        },
        {
          "output_type": "stream",
          "name": "stderr",
          "text": [
            "\r 26%|██▌       | 183/700 [00:12<00:42, 12.05it/s]"
          ]
        },
        {
          "output_type": "stream",
          "name": "stdout",
          "text": [
            "1/1 [==============================] - 0s 31ms/step\n",
            "1/1 [==============================] - 0s 29ms/step\n"
          ]
        },
        {
          "output_type": "stream",
          "name": "stderr",
          "text": [
            "\r 26%|██▋       | 185/700 [00:12<00:43, 11.83it/s]"
          ]
        },
        {
          "output_type": "stream",
          "name": "stdout",
          "text": [
            "1/1 [==============================] - 0s 37ms/step\n",
            "1/1 [==============================] - 0s 34ms/step\n"
          ]
        },
        {
          "output_type": "stream",
          "name": "stderr",
          "text": [
            "\r 27%|██▋       | 187/700 [00:12<00:44, 11.48it/s]"
          ]
        },
        {
          "output_type": "stream",
          "name": "stdout",
          "text": [
            "1/1 [==============================] - 0s 35ms/step\n",
            "1/1 [==============================] - 0s 31ms/step\n"
          ]
        },
        {
          "output_type": "stream",
          "name": "stderr",
          "text": [
            "\r 27%|██▋       | 189/700 [00:13<00:45, 11.35it/s]"
          ]
        },
        {
          "output_type": "stream",
          "name": "stdout",
          "text": [
            "1/1 [==============================] - 0s 31ms/step\n",
            "1/1 [==============================] - 0s 29ms/step\n"
          ]
        },
        {
          "output_type": "stream",
          "name": "stderr",
          "text": [
            "\r 27%|██▋       | 191/700 [00:13<00:45, 11.30it/s]"
          ]
        },
        {
          "output_type": "stream",
          "name": "stdout",
          "text": [
            "1/1 [==============================] - 0s 28ms/step\n",
            "1/1 [==============================] - 0s 35ms/step\n"
          ]
        },
        {
          "output_type": "stream",
          "name": "stderr",
          "text": [
            "\r 28%|██▊       | 193/700 [00:13<00:44, 11.43it/s]"
          ]
        },
        {
          "output_type": "stream",
          "name": "stdout",
          "text": [
            "1/1 [==============================] - 0s 31ms/step\n",
            "1/1 [==============================] - 0s 30ms/step\n"
          ]
        },
        {
          "output_type": "stream",
          "name": "stderr",
          "text": [
            "\r 28%|██▊       | 195/700 [00:13<00:43, 11.52it/s]"
          ]
        },
        {
          "output_type": "stream",
          "name": "stdout",
          "text": [
            "1/1 [==============================] - 0s 35ms/step\n",
            "1/1 [==============================] - 0s 29ms/step\n"
          ]
        },
        {
          "output_type": "stream",
          "name": "stderr",
          "text": [
            "\r 28%|██▊       | 197/700 [00:13<00:43, 11.49it/s]"
          ]
        },
        {
          "output_type": "stream",
          "name": "stdout",
          "text": [
            "1/1 [==============================] - 0s 29ms/step\n",
            "1/1 [==============================] - 0s 29ms/step\n"
          ]
        },
        {
          "output_type": "stream",
          "name": "stderr",
          "text": [
            "\r 28%|██▊       | 199/700 [00:13<00:44, 11.35it/s]"
          ]
        },
        {
          "output_type": "stream",
          "name": "stdout",
          "text": [
            "1/1 [==============================] - 0s 33ms/step\n",
            "1/1 [==============================] - 0s 31ms/step\n"
          ]
        },
        {
          "output_type": "stream",
          "name": "stderr",
          "text": [
            "\r 29%|██▊       | 201/700 [00:14<00:44, 11.34it/s]"
          ]
        },
        {
          "output_type": "stream",
          "name": "stdout",
          "text": [
            "1/1 [==============================] - 0s 31ms/step\n",
            "1/1 [==============================] - 0s 40ms/step\n"
          ]
        },
        {
          "output_type": "stream",
          "name": "stderr",
          "text": [
            "\r 29%|██▉       | 203/700 [00:14<00:44, 11.08it/s]"
          ]
        },
        {
          "output_type": "stream",
          "name": "stdout",
          "text": [
            "1/1 [==============================] - 0s 28ms/step\n",
            "1/1 [==============================] - 0s 31ms/step\n"
          ]
        },
        {
          "output_type": "stream",
          "name": "stderr",
          "text": [
            "\r 29%|██▉       | 205/700 [00:14<00:44, 11.10it/s]"
          ]
        },
        {
          "output_type": "stream",
          "name": "stdout",
          "text": [
            "1/1 [==============================] - 0s 30ms/step\n",
            "1/1 [==============================] - 0s 35ms/step\n"
          ]
        },
        {
          "output_type": "stream",
          "name": "stderr",
          "text": [
            "\r 30%|██▉       | 207/700 [00:14<00:45, 10.83it/s]"
          ]
        },
        {
          "output_type": "stream",
          "name": "stdout",
          "text": [
            "1/1 [==============================] - 0s 28ms/step\n",
            "1/1 [==============================] - 0s 29ms/step\n"
          ]
        },
        {
          "output_type": "stream",
          "name": "stderr",
          "text": [
            "\r 30%|██▉       | 209/700 [00:14<00:44, 10.96it/s]"
          ]
        },
        {
          "output_type": "stream",
          "name": "stdout",
          "text": [
            "1/1 [==============================] - 0s 38ms/step\n",
            "1/1 [==============================] - 0s 31ms/step\n"
          ]
        },
        {
          "output_type": "stream",
          "name": "stderr",
          "text": [
            "\r 30%|███       | 211/700 [00:15<00:43, 11.18it/s]"
          ]
        },
        {
          "output_type": "stream",
          "name": "stdout",
          "text": [
            "1/1 [==============================] - 0s 30ms/step\n",
            "1/1 [==============================] - 0s 51ms/step\n"
          ]
        },
        {
          "output_type": "stream",
          "name": "stderr",
          "text": [
            "\r 30%|███       | 213/700 [00:15<00:44, 11.01it/s]"
          ]
        },
        {
          "output_type": "stream",
          "name": "stdout",
          "text": [
            "1/1 [==============================] - 0s 37ms/step\n",
            "1/1 [==============================] - 0s 31ms/step\n"
          ]
        },
        {
          "output_type": "stream",
          "name": "stderr",
          "text": [
            "\r 31%|███       | 215/700 [00:15<00:45, 10.67it/s]"
          ]
        },
        {
          "output_type": "stream",
          "name": "stdout",
          "text": [
            "1/1 [==============================] - 0s 34ms/step\n",
            "1/1 [==============================] - 0s 30ms/step\n"
          ]
        },
        {
          "output_type": "stream",
          "name": "stderr",
          "text": [
            "\r 31%|███       | 217/700 [00:15<00:44, 10.75it/s]"
          ]
        },
        {
          "output_type": "stream",
          "name": "stdout",
          "text": [
            "1/1 [==============================] - 0s 29ms/step\n",
            "1/1 [==============================] - 0s 22ms/step\n"
          ]
        },
        {
          "output_type": "stream",
          "name": "stderr",
          "text": [
            "\r 31%|███▏      | 219/700 [00:15<00:43, 11.13it/s]"
          ]
        },
        {
          "output_type": "stream",
          "name": "stdout",
          "text": [
            "1/1 [==============================] - 0s 20ms/step\n",
            "1/1 [==============================] - 0s 21ms/step\n"
          ]
        },
        {
          "output_type": "stream",
          "name": "stderr",
          "text": [
            "\r 32%|███▏      | 221/700 [00:15<00:39, 12.12it/s]"
          ]
        },
        {
          "output_type": "stream",
          "name": "stdout",
          "text": [
            "1/1 [==============================] - 0s 20ms/step\n",
            "1/1 [==============================] - 0s 21ms/step\n"
          ]
        },
        {
          "output_type": "stream",
          "name": "stderr",
          "text": [
            "\r 32%|███▏      | 223/700 [00:15<00:36, 13.24it/s]"
          ]
        },
        {
          "output_type": "stream",
          "name": "stdout",
          "text": [
            "1/1 [==============================] - 0s 21ms/step\n",
            "1/1 [==============================] - 0s 24ms/step\n"
          ]
        },
        {
          "output_type": "stream",
          "name": "stderr",
          "text": [
            "\r 32%|███▏      | 225/700 [00:16<00:35, 13.39it/s]"
          ]
        },
        {
          "output_type": "stream",
          "name": "stdout",
          "text": [
            "1/1 [==============================] - 0s 24ms/step\n",
            "1/1 [==============================] - 0s 23ms/step\n"
          ]
        },
        {
          "output_type": "stream",
          "name": "stderr",
          "text": [
            "\r 32%|███▏      | 227/700 [00:16<00:34, 13.81it/s]"
          ]
        },
        {
          "output_type": "stream",
          "name": "stdout",
          "text": [
            "1/1 [==============================] - 0s 20ms/step\n",
            "1/1 [==============================] - 0s 24ms/step\n"
          ]
        },
        {
          "output_type": "stream",
          "name": "stderr",
          "text": [
            "\r 33%|███▎      | 229/700 [00:16<00:32, 14.48it/s]"
          ]
        },
        {
          "output_type": "stream",
          "name": "stdout",
          "text": [
            "1/1 [==============================] - 0s 21ms/step\n",
            "1/1 [==============================] - 0s 22ms/step\n"
          ]
        },
        {
          "output_type": "stream",
          "name": "stderr",
          "text": [
            "\r 33%|███▎      | 231/700 [00:16<00:32, 14.63it/s]"
          ]
        },
        {
          "output_type": "stream",
          "name": "stdout",
          "text": [
            "1/1 [==============================] - 0s 21ms/step\n",
            "1/1 [==============================] - 0s 23ms/step\n"
          ]
        },
        {
          "output_type": "stream",
          "name": "stderr",
          "text": [
            "\r 33%|███▎      | 233/700 [00:16<00:31, 14.68it/s]"
          ]
        },
        {
          "output_type": "stream",
          "name": "stdout",
          "text": [
            "1/1 [==============================] - 0s 26ms/step\n",
            "1/1 [==============================] - 0s 21ms/step\n"
          ]
        },
        {
          "output_type": "stream",
          "name": "stderr",
          "text": [
            "\r 34%|███▎      | 235/700 [00:16<00:31, 14.76it/s]"
          ]
        },
        {
          "output_type": "stream",
          "name": "stdout",
          "text": [
            "1/1 [==============================] - 0s 20ms/step\n",
            "1/1 [==============================] - 0s 21ms/step\n"
          ]
        },
        {
          "output_type": "stream",
          "name": "stderr",
          "text": [
            "\r 34%|███▍      | 237/700 [00:16<00:30, 15.30it/s]"
          ]
        },
        {
          "output_type": "stream",
          "name": "stdout",
          "text": [
            "1/1 [==============================] - 0s 23ms/step\n",
            "1/1 [==============================] - 0s 20ms/step\n"
          ]
        },
        {
          "output_type": "stream",
          "name": "stderr",
          "text": [
            "\r 34%|███▍      | 239/700 [00:17<00:29, 15.41it/s]"
          ]
        },
        {
          "output_type": "stream",
          "name": "stdout",
          "text": [
            "1/1 [==============================] - 0s 22ms/step\n",
            "1/1 [==============================] - 0s 19ms/step\n"
          ]
        },
        {
          "output_type": "stream",
          "name": "stderr",
          "text": [
            "\r 34%|███▍      | 241/700 [00:17<00:29, 15.46it/s]"
          ]
        },
        {
          "output_type": "stream",
          "name": "stdout",
          "text": [
            "1/1 [==============================] - 0s 29ms/step\n",
            "1/1 [==============================] - 0s 23ms/step\n"
          ]
        },
        {
          "output_type": "stream",
          "name": "stderr",
          "text": [
            "\r 35%|███▍      | 243/700 [00:17<00:29, 15.23it/s]"
          ]
        },
        {
          "output_type": "stream",
          "name": "stdout",
          "text": [
            "1/1 [==============================] - 0s 22ms/step\n",
            "1/1 [==============================] - 0s 23ms/step\n"
          ]
        },
        {
          "output_type": "stream",
          "name": "stderr",
          "text": [
            "\r 35%|███▌      | 245/700 [00:17<00:30, 15.15it/s]"
          ]
        },
        {
          "output_type": "stream",
          "name": "stdout",
          "text": [
            "1/1 [==============================] - 0s 22ms/step\n",
            "1/1 [==============================] - 0s 21ms/step\n"
          ]
        },
        {
          "output_type": "stream",
          "name": "stderr",
          "text": [
            "\r 35%|███▌      | 247/700 [00:17<00:28, 15.68it/s]"
          ]
        },
        {
          "output_type": "stream",
          "name": "stdout",
          "text": [
            "1/1 [==============================] - 0s 20ms/step\n",
            "1/1 [==============================] - 0s 23ms/step\n"
          ]
        },
        {
          "output_type": "stream",
          "name": "stderr",
          "text": [
            "\r 36%|███▌      | 249/700 [00:17<00:28, 15.80it/s]"
          ]
        },
        {
          "output_type": "stream",
          "name": "stdout",
          "text": [
            "1/1 [==============================] - 0s 33ms/step\n",
            "1/1 [==============================] - 0s 21ms/step\n"
          ]
        },
        {
          "output_type": "stream",
          "name": "stderr",
          "text": [
            "\r 36%|███▌      | 251/700 [00:17<00:29, 15.44it/s]"
          ]
        },
        {
          "output_type": "stream",
          "name": "stdout",
          "text": [
            "1/1 [==============================] - 0s 21ms/step\n",
            "1/1 [==============================] - 0s 22ms/step\n"
          ]
        },
        {
          "output_type": "stream",
          "name": "stderr",
          "text": [
            "\r 36%|███▌      | 253/700 [00:17<00:28, 15.67it/s]"
          ]
        },
        {
          "output_type": "stream",
          "name": "stdout",
          "text": [
            "1/1 [==============================] - 0s 20ms/step\n",
            "1/1 [==============================] - 0s 23ms/step\n"
          ]
        },
        {
          "output_type": "stream",
          "name": "stderr",
          "text": [
            "\r 36%|███▋      | 255/700 [00:18<00:28, 15.86it/s]"
          ]
        },
        {
          "output_type": "stream",
          "name": "stdout",
          "text": [
            "1/1 [==============================] - 0s 24ms/step\n",
            "1/1 [==============================] - 0s 19ms/step\n"
          ]
        },
        {
          "output_type": "stream",
          "name": "stderr",
          "text": [
            "\r 37%|███▋      | 257/700 [00:18<00:27, 15.94it/s]"
          ]
        },
        {
          "output_type": "stream",
          "name": "stdout",
          "text": [
            "1/1 [==============================] - 0s 20ms/step\n",
            "1/1 [==============================] - 0s 23ms/step\n"
          ]
        },
        {
          "output_type": "stream",
          "name": "stderr",
          "text": [
            "\r 37%|███▋      | 259/700 [00:18<00:27, 15.79it/s]"
          ]
        },
        {
          "output_type": "stream",
          "name": "stdout",
          "text": [
            "1/1 [==============================] - 0s 22ms/step\n",
            "1/1 [==============================] - 0s 23ms/step\n"
          ]
        },
        {
          "output_type": "stream",
          "name": "stderr",
          "text": [
            "\r 37%|███▋      | 261/700 [00:18<00:28, 15.62it/s]"
          ]
        },
        {
          "output_type": "stream",
          "name": "stdout",
          "text": [
            "1/1 [==============================] - 0s 22ms/step\n",
            "1/1 [==============================] - 0s 19ms/step\n"
          ]
        },
        {
          "output_type": "stream",
          "name": "stderr",
          "text": [
            "\r 38%|███▊      | 263/700 [00:18<00:27, 15.71it/s]"
          ]
        },
        {
          "output_type": "stream",
          "name": "stdout",
          "text": [
            "1/1 [==============================] - 0s 26ms/step\n",
            "1/1 [==============================] - 0s 20ms/step\n"
          ]
        },
        {
          "output_type": "stream",
          "name": "stderr",
          "text": [
            "\r 38%|███▊      | 265/700 [00:18<00:28, 15.42it/s]"
          ]
        },
        {
          "output_type": "stream",
          "name": "stdout",
          "text": [
            "1/1 [==============================] - 0s 21ms/step\n",
            "1/1 [==============================] - 0s 21ms/step\n"
          ]
        },
        {
          "output_type": "stream",
          "name": "stderr",
          "text": [
            "\r 38%|███▊      | 267/700 [00:18<00:27, 15.88it/s]"
          ]
        },
        {
          "output_type": "stream",
          "name": "stdout",
          "text": [
            "1/1 [==============================] - 0s 20ms/step\n",
            "1/1 [==============================] - 0s 20ms/step\n"
          ]
        },
        {
          "output_type": "stream",
          "name": "stderr",
          "text": [
            "\r 38%|███▊      | 269/700 [00:18<00:27, 15.62it/s]"
          ]
        },
        {
          "output_type": "stream",
          "name": "stdout",
          "text": [
            "1/1 [==============================] - 0s 21ms/step\n",
            "1/1 [==============================] - 0s 25ms/step\n"
          ]
        },
        {
          "output_type": "stream",
          "name": "stderr",
          "text": [
            "\r 39%|███▊      | 271/700 [00:19<00:27, 15.66it/s]"
          ]
        },
        {
          "output_type": "stream",
          "name": "stdout",
          "text": [
            "1/1 [==============================] - 0s 21ms/step\n",
            "1/1 [==============================] - 0s 20ms/step\n"
          ]
        },
        {
          "output_type": "stream",
          "name": "stderr",
          "text": [
            "\r 39%|███▉      | 273/700 [00:19<00:26, 15.98it/s]"
          ]
        },
        {
          "output_type": "stream",
          "name": "stdout",
          "text": [
            "1/1 [==============================] - 0s 21ms/step\n",
            "1/1 [==============================] - 0s 20ms/step\n"
          ]
        },
        {
          "output_type": "stream",
          "name": "stderr",
          "text": [
            "\r 39%|███▉      | 275/700 [00:19<00:26, 15.84it/s]"
          ]
        },
        {
          "output_type": "stream",
          "name": "stdout",
          "text": [
            "1/1 [==============================] - 0s 20ms/step\n",
            "1/1 [==============================] - 0s 21ms/step\n"
          ]
        },
        {
          "output_type": "stream",
          "name": "stderr",
          "text": [
            "\r 40%|███▉      | 277/700 [00:19<00:26, 15.81it/s]"
          ]
        },
        {
          "output_type": "stream",
          "name": "stdout",
          "text": [
            "1/1 [==============================] - 0s 21ms/step\n",
            "1/1 [==============================] - 0s 21ms/step\n"
          ]
        },
        {
          "output_type": "stream",
          "name": "stderr",
          "text": [
            "\r 40%|███▉      | 279/700 [00:19<00:27, 15.27it/s]"
          ]
        },
        {
          "output_type": "stream",
          "name": "stdout",
          "text": [
            "1/1 [==============================] - 0s 20ms/step\n",
            "1/1 [==============================] - 0s 20ms/step\n"
          ]
        },
        {
          "output_type": "stream",
          "name": "stderr",
          "text": [
            "\r 40%|████      | 281/700 [00:19<00:27, 15.45it/s]"
          ]
        },
        {
          "output_type": "stream",
          "name": "stdout",
          "text": [
            "1/1 [==============================] - 0s 20ms/step\n",
            "1/1 [==============================] - 0s 20ms/step\n"
          ]
        },
        {
          "output_type": "stream",
          "name": "stderr",
          "text": [
            "\r 40%|████      | 283/700 [00:19<00:26, 15.81it/s]"
          ]
        },
        {
          "output_type": "stream",
          "name": "stdout",
          "text": [
            "1/1 [==============================] - 0s 21ms/step\n",
            "1/1 [==============================] - 0s 22ms/step\n"
          ]
        },
        {
          "output_type": "stream",
          "name": "stderr",
          "text": [
            "\r 41%|████      | 285/700 [00:19<00:26, 15.66it/s]"
          ]
        },
        {
          "output_type": "stream",
          "name": "stdout",
          "text": [
            "1/1 [==============================] - 0s 22ms/step\n",
            "1/1 [==============================] - 0s 25ms/step\n"
          ]
        },
        {
          "output_type": "stream",
          "name": "stderr",
          "text": [
            "\r 41%|████      | 287/700 [00:20<00:26, 15.53it/s]"
          ]
        },
        {
          "output_type": "stream",
          "name": "stdout",
          "text": [
            "1/1 [==============================] - 0s 21ms/step\n",
            "1/1 [==============================] - 0s 19ms/step\n"
          ]
        },
        {
          "output_type": "stream",
          "name": "stderr",
          "text": [
            "\r 41%|████▏     | 289/700 [00:20<00:25, 15.98it/s]"
          ]
        },
        {
          "output_type": "stream",
          "name": "stdout",
          "text": [
            "1/1 [==============================] - 0s 24ms/step\n",
            "1/1 [==============================] - 0s 20ms/step\n"
          ]
        },
        {
          "output_type": "stream",
          "name": "stderr",
          "text": [
            "\r 42%|████▏     | 291/700 [00:20<00:26, 15.33it/s]"
          ]
        },
        {
          "output_type": "stream",
          "name": "stdout",
          "text": [
            "1/1 [==============================] - 0s 22ms/step\n",
            "1/1 [==============================] - 0s 20ms/step\n"
          ]
        },
        {
          "output_type": "stream",
          "name": "stderr",
          "text": [
            "\r 42%|████▏     | 293/700 [00:20<00:26, 15.37it/s]"
          ]
        },
        {
          "output_type": "stream",
          "name": "stdout",
          "text": [
            "1/1 [==============================] - 0s 22ms/step\n",
            "1/1 [==============================] - 0s 27ms/step\n"
          ]
        },
        {
          "output_type": "stream",
          "name": "stderr",
          "text": [
            "\r 42%|████▏     | 295/700 [00:20<00:26, 15.27it/s]"
          ]
        },
        {
          "output_type": "stream",
          "name": "stdout",
          "text": [
            "1/1 [==============================] - 0s 23ms/step\n",
            "1/1 [==============================] - 0s 23ms/step\n"
          ]
        },
        {
          "output_type": "stream",
          "name": "stderr",
          "text": [
            "\r 42%|████▏     | 297/700 [00:20<00:26, 15.46it/s]"
          ]
        },
        {
          "output_type": "stream",
          "name": "stdout",
          "text": [
            "1/1 [==============================] - 0s 22ms/step\n",
            "1/1 [==============================] - 0s 23ms/step\n"
          ]
        },
        {
          "output_type": "stream",
          "name": "stderr",
          "text": [
            "\r 43%|████▎     | 299/700 [00:20<00:25, 15.42it/s]"
          ]
        },
        {
          "output_type": "stream",
          "name": "stdout",
          "text": [
            "1/1 [==============================] - 0s 26ms/step\n",
            "1/1 [==============================] - 0s 21ms/step\n"
          ]
        },
        {
          "output_type": "stream",
          "name": "stderr",
          "text": [
            "\r 43%|████▎     | 301/700 [00:21<00:25, 15.42it/s]"
          ]
        },
        {
          "output_type": "stream",
          "name": "stdout",
          "text": [
            "1/1 [==============================] - 0s 20ms/step\n",
            "1/1 [==============================] - 0s 20ms/step\n"
          ]
        },
        {
          "output_type": "stream",
          "name": "stderr",
          "text": [
            "\r 43%|████▎     | 303/700 [00:21<00:25, 15.61it/s]"
          ]
        },
        {
          "output_type": "stream",
          "name": "stdout",
          "text": [
            "1/1 [==============================] - 0s 22ms/step\n",
            "1/1 [==============================] - 0s 26ms/step\n"
          ]
        },
        {
          "output_type": "stream",
          "name": "stderr",
          "text": [
            "\r 44%|████▎     | 305/700 [00:21<00:25, 15.39it/s]"
          ]
        },
        {
          "output_type": "stream",
          "name": "stdout",
          "text": [
            "1/1 [==============================] - 0s 27ms/step\n",
            "1/1 [==============================] - 0s 21ms/step\n"
          ]
        },
        {
          "output_type": "stream",
          "name": "stderr",
          "text": [
            "\r 44%|████▍     | 307/700 [00:21<00:25, 15.16it/s]"
          ]
        },
        {
          "output_type": "stream",
          "name": "stdout",
          "text": [
            "1/1 [==============================] - 0s 21ms/step\n",
            "1/1 [==============================] - 0s 20ms/step\n"
          ]
        },
        {
          "output_type": "stream",
          "name": "stderr",
          "text": [
            "\r 44%|████▍     | 309/700 [00:21<00:25, 15.52it/s]"
          ]
        },
        {
          "output_type": "stream",
          "name": "stdout",
          "text": [
            "1/1 [==============================] - 0s 19ms/step\n",
            "1/1 [==============================] - 0s 19ms/step\n"
          ]
        },
        {
          "output_type": "stream",
          "name": "stderr",
          "text": [
            "\r 44%|████▍     | 311/700 [00:21<00:24, 15.56it/s]"
          ]
        },
        {
          "output_type": "stream",
          "name": "stdout",
          "text": [
            "1/1 [==============================] - 0s 25ms/step\n",
            "1/1 [==============================] - 0s 25ms/step\n"
          ]
        },
        {
          "output_type": "stream",
          "name": "stderr",
          "text": [
            "\r 45%|████▍     | 313/700 [00:21<00:25, 15.20it/s]"
          ]
        },
        {
          "output_type": "stream",
          "name": "stdout",
          "text": [
            "1/1 [==============================] - 0s 23ms/step\n",
            "1/1 [==============================] - 0s 23ms/step\n"
          ]
        },
        {
          "output_type": "stream",
          "name": "stderr",
          "text": [
            "\r 45%|████▌     | 315/700 [00:21<00:25, 15.23it/s]"
          ]
        },
        {
          "output_type": "stream",
          "name": "stdout",
          "text": [
            "1/1 [==============================] - 0s 23ms/step\n",
            "1/1 [==============================] - 0s 22ms/step\n"
          ]
        },
        {
          "output_type": "stream",
          "name": "stderr",
          "text": [
            "\r 45%|████▌     | 317/700 [00:22<00:24, 15.40it/s]"
          ]
        },
        {
          "output_type": "stream",
          "name": "stdout",
          "text": [
            "1/1 [==============================] - 0s 21ms/step\n",
            "1/1 [==============================] - 0s 20ms/step\n"
          ]
        },
        {
          "output_type": "stream",
          "name": "stderr",
          "text": [
            "\r 46%|████▌     | 319/700 [00:22<00:24, 15.70it/s]"
          ]
        },
        {
          "output_type": "stream",
          "name": "stdout",
          "text": [
            "1/1 [==============================] - 0s 21ms/step\n",
            "1/1 [==============================] - 0s 21ms/step\n"
          ]
        },
        {
          "output_type": "stream",
          "name": "stderr",
          "text": [
            "\r 46%|████▌     | 321/700 [00:22<00:24, 15.74it/s]"
          ]
        },
        {
          "output_type": "stream",
          "name": "stdout",
          "text": [
            "1/1 [==============================] - 0s 22ms/step\n",
            "1/1 [==============================] - 0s 20ms/step\n"
          ]
        },
        {
          "output_type": "stream",
          "name": "stderr",
          "text": [
            "\r 46%|████▌     | 323/700 [00:22<00:24, 15.54it/s]"
          ]
        },
        {
          "output_type": "stream",
          "name": "stdout",
          "text": [
            "1/1 [==============================] - 0s 22ms/step\n",
            "1/1 [==============================] - 0s 24ms/step\n"
          ]
        },
        {
          "output_type": "stream",
          "name": "stderr",
          "text": [
            "\r 46%|████▋     | 325/700 [00:22<00:24, 15.48it/s]"
          ]
        },
        {
          "output_type": "stream",
          "name": "stdout",
          "text": [
            "1/1 [==============================] - 0s 24ms/step\n",
            "1/1 [==============================] - 0s 25ms/step\n"
          ]
        },
        {
          "output_type": "stream",
          "name": "stderr",
          "text": [
            "\r 47%|████▋     | 327/700 [00:22<00:25, 14.88it/s]"
          ]
        },
        {
          "output_type": "stream",
          "name": "stdout",
          "text": [
            "1/1 [==============================] - 0s 21ms/step\n",
            "1/1 [==============================] - 0s 20ms/step\n"
          ]
        },
        {
          "output_type": "stream",
          "name": "stderr",
          "text": [
            "\r 47%|████▋     | 329/700 [00:22<00:24, 15.24it/s]"
          ]
        },
        {
          "output_type": "stream",
          "name": "stdout",
          "text": [
            "1/1 [==============================] - 0s 24ms/step\n",
            "1/1 [==============================] - 0s 22ms/step\n"
          ]
        },
        {
          "output_type": "stream",
          "name": "stderr",
          "text": [
            "\r 47%|████▋     | 331/700 [00:22<00:24, 14.86it/s]"
          ]
        },
        {
          "output_type": "stream",
          "name": "stdout",
          "text": [
            "1/1 [==============================] - 0s 23ms/step\n",
            "1/1 [==============================] - 0s 22ms/step\n"
          ]
        },
        {
          "output_type": "stream",
          "name": "stderr",
          "text": [
            "\r 48%|████▊     | 333/700 [00:23<00:24, 14.89it/s]"
          ]
        },
        {
          "output_type": "stream",
          "name": "stdout",
          "text": [
            "1/1 [==============================] - 0s 24ms/step\n",
            "1/1 [==============================] - 0s 22ms/step\n"
          ]
        },
        {
          "output_type": "stream",
          "name": "stderr",
          "text": [
            "\r 48%|████▊     | 335/700 [00:23<00:24, 15.02it/s]"
          ]
        },
        {
          "output_type": "stream",
          "name": "stdout",
          "text": [
            "1/1 [==============================] - 0s 22ms/step\n",
            "1/1 [==============================] - 0s 23ms/step\n"
          ]
        },
        {
          "output_type": "stream",
          "name": "stderr",
          "text": [
            "\r 48%|████▊     | 337/700 [00:23<00:23, 15.39it/s]"
          ]
        },
        {
          "output_type": "stream",
          "name": "stdout",
          "text": [
            "1/1 [==============================] - 0s 21ms/step\n",
            "1/1 [==============================] - 0s 20ms/step\n"
          ]
        },
        {
          "output_type": "stream",
          "name": "stderr",
          "text": [
            "\r 48%|████▊     | 339/700 [00:23<00:23, 15.65it/s]"
          ]
        },
        {
          "output_type": "stream",
          "name": "stdout",
          "text": [
            "1/1 [==============================] - 0s 20ms/step\n",
            "1/1 [==============================] - 0s 21ms/step\n"
          ]
        },
        {
          "output_type": "stream",
          "name": "stderr",
          "text": [
            "\r 49%|████▊     | 341/700 [00:23<00:22, 15.61it/s]"
          ]
        },
        {
          "output_type": "stream",
          "name": "stdout",
          "text": [
            "1/1 [==============================] - 0s 22ms/step\n",
            "1/1 [==============================] - 0s 20ms/step\n"
          ]
        },
        {
          "output_type": "stream",
          "name": "stderr",
          "text": [
            "\r 49%|████▉     | 343/700 [00:23<00:23, 15.46it/s]"
          ]
        },
        {
          "output_type": "stream",
          "name": "stdout",
          "text": [
            "1/1 [==============================] - 0s 24ms/step\n",
            "1/1 [==============================] - 0s 19ms/step\n"
          ]
        },
        {
          "output_type": "stream",
          "name": "stderr",
          "text": [
            "\r 49%|████▉     | 345/700 [00:23<00:22, 15.79it/s]"
          ]
        },
        {
          "output_type": "stream",
          "name": "stdout",
          "text": [
            "1/1 [==============================] - 0s 22ms/step\n",
            "1/1 [==============================] - 0s 24ms/step\n"
          ]
        },
        {
          "output_type": "stream",
          "name": "stderr",
          "text": [
            "\r 50%|████▉     | 347/700 [00:23<00:22, 15.76it/s]"
          ]
        },
        {
          "output_type": "stream",
          "name": "stdout",
          "text": [
            "1/1 [==============================] - 0s 20ms/step\n",
            "1/1 [==============================] - 0s 26ms/step\n"
          ]
        },
        {
          "output_type": "stream",
          "name": "stderr",
          "text": [
            "\r 50%|████▉     | 349/700 [00:24<00:22, 15.46it/s]"
          ]
        },
        {
          "output_type": "stream",
          "name": "stdout",
          "text": [
            "1/1 [==============================] - 0s 22ms/step\n",
            "1/1 [==============================] - 0s 22ms/step\n"
          ]
        },
        {
          "output_type": "stream",
          "name": "stderr",
          "text": [
            "\r 50%|█████     | 351/700 [00:24<00:22, 15.19it/s]"
          ]
        },
        {
          "output_type": "stream",
          "name": "stdout",
          "text": [
            "1/1 [==============================] - 0s 20ms/step\n",
            "1/1 [==============================] - 0s 24ms/step\n"
          ]
        },
        {
          "output_type": "stream",
          "name": "stderr",
          "text": [
            "\r 50%|█████     | 353/700 [00:24<00:22, 15.44it/s]"
          ]
        },
        {
          "output_type": "stream",
          "name": "stdout",
          "text": [
            "1/1 [==============================] - 0s 19ms/step\n",
            "1/1 [==============================] - 0s 27ms/step\n"
          ]
        },
        {
          "output_type": "stream",
          "name": "stderr",
          "text": [
            "\r 51%|█████     | 355/700 [00:24<00:22, 15.31it/s]"
          ]
        },
        {
          "output_type": "stream",
          "name": "stdout",
          "text": [
            "1/1 [==============================] - 0s 19ms/step\n",
            "1/1 [==============================] - 0s 20ms/step\n"
          ]
        },
        {
          "output_type": "stream",
          "name": "stderr",
          "text": [
            "\r 51%|█████     | 357/700 [00:24<00:22, 15.54it/s]"
          ]
        },
        {
          "output_type": "stream",
          "name": "stdout",
          "text": [
            "1/1 [==============================] - 0s 20ms/step\n",
            "1/1 [==============================] - 0s 19ms/step\n"
          ]
        },
        {
          "output_type": "stream",
          "name": "stderr",
          "text": [
            "\r 51%|█████▏    | 359/700 [00:24<00:22, 15.45it/s]"
          ]
        },
        {
          "output_type": "stream",
          "name": "stdout",
          "text": [
            "1/1 [==============================] - 0s 19ms/step\n",
            "1/1 [==============================] - 0s 19ms/step\n"
          ]
        },
        {
          "output_type": "stream",
          "name": "stderr",
          "text": [
            "\r 52%|█████▏    | 361/700 [00:24<00:21, 15.97it/s]"
          ]
        },
        {
          "output_type": "stream",
          "name": "stdout",
          "text": [
            "1/1 [==============================] - 0s 20ms/step\n",
            "1/1 [==============================] - 0s 24ms/step\n"
          ]
        },
        {
          "output_type": "stream",
          "name": "stderr",
          "text": [
            "\r 52%|█████▏    | 363/700 [00:25<00:21, 16.05it/s]"
          ]
        },
        {
          "output_type": "stream",
          "name": "stdout",
          "text": [
            "1/1 [==============================] - 0s 20ms/step\n",
            "1/1 [==============================] - 0s 20ms/step\n"
          ]
        },
        {
          "output_type": "stream",
          "name": "stderr",
          "text": [
            "\r 52%|█████▏    | 365/700 [00:25<00:21, 15.92it/s]"
          ]
        },
        {
          "output_type": "stream",
          "name": "stdout",
          "text": [
            "1/1 [==============================] - 0s 21ms/step\n",
            "1/1 [==============================] - 0s 28ms/step\n"
          ]
        },
        {
          "output_type": "stream",
          "name": "stderr",
          "text": [
            "\r 52%|█████▏    | 367/700 [00:25<00:22, 14.90it/s]"
          ]
        },
        {
          "output_type": "stream",
          "name": "stdout",
          "text": [
            "1/1 [==============================] - 0s 21ms/step\n",
            "1/1 [==============================] - 0s 24ms/step\n"
          ]
        },
        {
          "output_type": "stream",
          "name": "stderr",
          "text": [
            "\r 53%|█████▎    | 369/700 [00:25<00:21, 15.39it/s]"
          ]
        },
        {
          "output_type": "stream",
          "name": "stdout",
          "text": [
            "1/1 [==============================] - 0s 21ms/step\n",
            "1/1 [==============================] - 0s 20ms/step\n"
          ]
        },
        {
          "output_type": "stream",
          "name": "stderr",
          "text": [
            "\r 53%|█████▎    | 371/700 [00:25<00:20, 15.69it/s]"
          ]
        },
        {
          "output_type": "stream",
          "name": "stdout",
          "text": [
            "1/1 [==============================] - 0s 21ms/step\n",
            "1/1 [==============================] - 0s 22ms/step\n"
          ]
        },
        {
          "output_type": "stream",
          "name": "stderr",
          "text": [
            "\r 53%|█████▎    | 373/700 [00:25<00:21, 15.53it/s]"
          ]
        },
        {
          "output_type": "stream",
          "name": "stdout",
          "text": [
            "1/1 [==============================] - 0s 33ms/step\n",
            "1/1 [==============================] - 0s 32ms/step\n"
          ]
        },
        {
          "output_type": "stream",
          "name": "stderr",
          "text": [
            "\r 54%|█████▎    | 375/700 [00:25<00:22, 14.43it/s]"
          ]
        },
        {
          "output_type": "stream",
          "name": "stdout",
          "text": [
            "1/1 [==============================] - 0s 33ms/step\n",
            "1/1 [==============================] - 0s 32ms/step\n"
          ]
        },
        {
          "output_type": "stream",
          "name": "stderr",
          "text": [
            "\r 54%|█████▍    | 377/700 [00:26<00:24, 12.97it/s]"
          ]
        },
        {
          "output_type": "stream",
          "name": "stdout",
          "text": [
            "1/1 [==============================] - 0s 30ms/step\n",
            "1/1 [==============================] - 0s 31ms/step\n"
          ]
        },
        {
          "output_type": "stream",
          "name": "stderr",
          "text": [
            "\r 54%|█████▍    | 379/700 [00:26<00:25, 12.45it/s]"
          ]
        },
        {
          "output_type": "stream",
          "name": "stdout",
          "text": [
            "1/1 [==============================] - 0s 38ms/step\n",
            "1/1 [==============================] - 0s 28ms/step\n"
          ]
        },
        {
          "output_type": "stream",
          "name": "stderr",
          "text": [
            "\r 54%|█████▍    | 381/700 [00:26<00:25, 12.44it/s]"
          ]
        },
        {
          "output_type": "stream",
          "name": "stdout",
          "text": [
            "1/1 [==============================] - 0s 37ms/step\n",
            "1/1 [==============================] - 0s 37ms/step\n"
          ]
        },
        {
          "output_type": "stream",
          "name": "stderr",
          "text": [
            "\r 55%|█████▍    | 383/700 [00:26<00:26, 11.99it/s]"
          ]
        },
        {
          "output_type": "stream",
          "name": "stdout",
          "text": [
            "1/1 [==============================] - 0s 40ms/step\n",
            "1/1 [==============================] - 0s 36ms/step\n"
          ]
        },
        {
          "output_type": "stream",
          "name": "stderr",
          "text": [
            "\r 55%|█████▌    | 385/700 [00:26<00:27, 11.55it/s]"
          ]
        },
        {
          "output_type": "stream",
          "name": "stdout",
          "text": [
            "1/1 [==============================] - 0s 42ms/step\n",
            "1/1 [==============================] - 0s 29ms/step\n"
          ]
        },
        {
          "output_type": "stream",
          "name": "stderr",
          "text": [
            "\r 55%|█████▌    | 387/700 [00:26<00:27, 11.30it/s]"
          ]
        },
        {
          "output_type": "stream",
          "name": "stdout",
          "text": [
            "1/1 [==============================] - 0s 30ms/step\n",
            "1/1 [==============================] - 0s 35ms/step\n"
          ]
        },
        {
          "output_type": "stream",
          "name": "stderr",
          "text": [
            "\r 56%|█████▌    | 389/700 [00:27<00:27, 11.37it/s]"
          ]
        },
        {
          "output_type": "stream",
          "name": "stdout",
          "text": [
            "1/1 [==============================] - 0s 28ms/step\n",
            "1/1 [==============================] - 0s 29ms/step\n"
          ]
        },
        {
          "output_type": "stream",
          "name": "stderr",
          "text": [
            "\r 56%|█████▌    | 391/700 [00:27<00:26, 11.87it/s]"
          ]
        },
        {
          "output_type": "stream",
          "name": "stdout",
          "text": [
            "1/1 [==============================] - 0s 42ms/step\n",
            "1/1 [==============================] - 0s 40ms/step\n"
          ]
        },
        {
          "output_type": "stream",
          "name": "stderr",
          "text": [
            "\r 56%|█████▌    | 393/700 [00:27<00:27, 11.14it/s]"
          ]
        },
        {
          "output_type": "stream",
          "name": "stdout",
          "text": [
            "1/1 [==============================] - 0s 33ms/step\n",
            "1/1 [==============================] - 0s 29ms/step\n"
          ]
        },
        {
          "output_type": "stream",
          "name": "stderr",
          "text": [
            "\r 56%|█████▋    | 395/700 [00:27<00:27, 11.09it/s]"
          ]
        },
        {
          "output_type": "stream",
          "name": "stdout",
          "text": [
            "1/1 [==============================] - 0s 28ms/step\n",
            "1/1 [==============================] - 0s 28ms/step\n"
          ]
        },
        {
          "output_type": "stream",
          "name": "stderr",
          "text": [
            "\r 57%|█████▋    | 397/700 [00:27<00:26, 11.32it/s]"
          ]
        },
        {
          "output_type": "stream",
          "name": "stdout",
          "text": [
            "1/1 [==============================] - 0s 28ms/step\n",
            "1/1 [==============================] - 0s 30ms/step\n"
          ]
        },
        {
          "output_type": "stream",
          "name": "stderr",
          "text": [
            "\r 57%|█████▋    | 399/700 [00:27<00:26, 11.31it/s]"
          ]
        },
        {
          "output_type": "stream",
          "name": "stdout",
          "text": [
            "1/1 [==============================] - 0s 44ms/step\n",
            "1/1 [==============================] - 0s 35ms/step\n"
          ]
        },
        {
          "output_type": "stream",
          "name": "stderr",
          "text": [
            "\r 57%|█████▋    | 401/700 [00:28<00:27, 11.00it/s]"
          ]
        },
        {
          "output_type": "stream",
          "name": "stdout",
          "text": [
            "1/1 [==============================] - 0s 31ms/step\n",
            "1/1 [==============================] - 0s 33ms/step\n"
          ]
        },
        {
          "output_type": "stream",
          "name": "stderr",
          "text": [
            "\r 58%|█████▊    | 403/700 [00:28<00:26, 11.11it/s]"
          ]
        },
        {
          "output_type": "stream",
          "name": "stdout",
          "text": [
            "1/1 [==============================] - 0s 35ms/step\n",
            "1/1 [==============================] - 0s 29ms/step\n"
          ]
        },
        {
          "output_type": "stream",
          "name": "stderr",
          "text": [
            "\r 58%|█████▊    | 405/700 [00:28<00:26, 11.12it/s]"
          ]
        },
        {
          "output_type": "stream",
          "name": "stdout",
          "text": [
            "1/1 [==============================] - 0s 30ms/step\n",
            "1/1 [==============================] - 0s 32ms/step\n"
          ]
        },
        {
          "output_type": "stream",
          "name": "stderr",
          "text": [
            "\r 58%|█████▊    | 407/700 [00:28<00:26, 11.09it/s]"
          ]
        },
        {
          "output_type": "stream",
          "name": "stdout",
          "text": [
            "1/1 [==============================] - 0s 30ms/step\n",
            "1/1 [==============================] - 0s 42ms/step\n"
          ]
        },
        {
          "output_type": "stream",
          "name": "stderr",
          "text": [
            "\r 58%|█████▊    | 409/700 [00:28<00:26, 11.16it/s]"
          ]
        },
        {
          "output_type": "stream",
          "name": "stdout",
          "text": [
            "1/1 [==============================] - 0s 32ms/step\n",
            "1/1 [==============================] - 0s 31ms/step\n"
          ]
        },
        {
          "output_type": "stream",
          "name": "stderr",
          "text": [
            "\r 59%|█████▊    | 411/700 [00:29<00:26, 10.89it/s]"
          ]
        },
        {
          "output_type": "stream",
          "name": "stdout",
          "text": [
            "1/1 [==============================] - 0s 37ms/step\n",
            "1/1 [==============================] - 0s 34ms/step\n"
          ]
        },
        {
          "output_type": "stream",
          "name": "stderr",
          "text": [
            "\r 59%|█████▉    | 413/700 [00:29<00:26, 10.77it/s]"
          ]
        },
        {
          "output_type": "stream",
          "name": "stdout",
          "text": [
            "1/1 [==============================] - 0s 30ms/step\n",
            "1/1 [==============================] - 0s 32ms/step\n"
          ]
        },
        {
          "output_type": "stream",
          "name": "stderr",
          "text": [
            "\r 59%|█████▉    | 415/700 [00:29<00:26, 10.74it/s]"
          ]
        },
        {
          "output_type": "stream",
          "name": "stdout",
          "text": [
            "1/1 [==============================] - 0s 35ms/step\n",
            "1/1 [==============================] - 0s 30ms/step\n"
          ]
        },
        {
          "output_type": "stream",
          "name": "stderr",
          "text": [
            "\r 60%|█████▉    | 417/700 [00:29<00:26, 10.72it/s]"
          ]
        },
        {
          "output_type": "stream",
          "name": "stdout",
          "text": [
            "1/1 [==============================] - 0s 32ms/step\n",
            "1/1 [==============================] - 0s 19ms/step\n"
          ]
        },
        {
          "output_type": "stream",
          "name": "stderr",
          "text": [
            "\r 60%|█████▉    | 419/700 [00:29<00:24, 11.27it/s]"
          ]
        },
        {
          "output_type": "stream",
          "name": "stdout",
          "text": [
            "1/1 [==============================] - 0s 20ms/step\n",
            "1/1 [==============================] - 0s 19ms/step\n"
          ]
        },
        {
          "output_type": "stream",
          "name": "stderr",
          "text": [
            "\r 60%|██████    | 421/700 [00:29<00:22, 12.48it/s]"
          ]
        },
        {
          "output_type": "stream",
          "name": "stdout",
          "text": [
            "1/1 [==============================] - 0s 31ms/step\n",
            "1/1 [==============================] - 0s 19ms/step\n"
          ]
        },
        {
          "output_type": "stream",
          "name": "stderr",
          "text": [
            "\r 60%|██████    | 423/700 [00:30<00:21, 13.04it/s]"
          ]
        },
        {
          "output_type": "stream",
          "name": "stdout",
          "text": [
            "1/1 [==============================] - 0s 20ms/step\n",
            "1/1 [==============================] - 0s 21ms/step\n"
          ]
        },
        {
          "output_type": "stream",
          "name": "stderr",
          "text": [
            "\r 61%|██████    | 425/700 [00:30<00:20, 13.65it/s]"
          ]
        },
        {
          "output_type": "stream",
          "name": "stdout",
          "text": [
            "1/1 [==============================] - 0s 21ms/step\n",
            "1/1 [==============================] - 0s 22ms/step\n"
          ]
        },
        {
          "output_type": "stream",
          "name": "stderr",
          "text": [
            "\r 61%|██████    | 427/700 [00:30<00:19, 14.25it/s]"
          ]
        },
        {
          "output_type": "stream",
          "name": "stdout",
          "text": [
            "1/1 [==============================] - 0s 21ms/step\n",
            "1/1 [==============================] - 0s 21ms/step\n"
          ]
        },
        {
          "output_type": "stream",
          "name": "stderr",
          "text": [
            "\r 61%|██████▏   | 429/700 [00:30<00:19, 14.12it/s]"
          ]
        },
        {
          "output_type": "stream",
          "name": "stdout",
          "text": [
            "1/1 [==============================] - 0s 22ms/step\n",
            "1/1 [==============================] - 0s 31ms/step\n"
          ]
        },
        {
          "output_type": "stream",
          "name": "stderr",
          "text": [
            "\r 62%|██████▏   | 431/700 [00:30<00:18, 14.32it/s]"
          ]
        },
        {
          "output_type": "stream",
          "name": "stdout",
          "text": [
            "1/1 [==============================] - 0s 22ms/step\n",
            "1/1 [==============================] - 0s 29ms/step\n"
          ]
        },
        {
          "output_type": "stream",
          "name": "stderr",
          "text": [
            "\r 62%|██████▏   | 433/700 [00:30<00:18, 14.53it/s]"
          ]
        },
        {
          "output_type": "stream",
          "name": "stdout",
          "text": [
            "1/1 [==============================] - 0s 20ms/step\n",
            "1/1 [==============================] - 0s 19ms/step\n"
          ]
        },
        {
          "output_type": "stream",
          "name": "stderr",
          "text": [
            "\r 62%|██████▏   | 435/700 [00:30<00:17, 14.88it/s]"
          ]
        },
        {
          "output_type": "stream",
          "name": "stdout",
          "text": [
            "1/1 [==============================] - 0s 19ms/step\n",
            "1/1 [==============================] - 0s 27ms/step\n"
          ]
        },
        {
          "output_type": "stream",
          "name": "stderr",
          "text": [
            "\r 62%|██████▏   | 437/700 [00:30<00:17, 14.67it/s]"
          ]
        },
        {
          "output_type": "stream",
          "name": "stdout",
          "text": [
            "1/1 [==============================] - 0s 25ms/step\n",
            "1/1 [==============================] - 0s 21ms/step\n"
          ]
        },
        {
          "output_type": "stream",
          "name": "stderr",
          "text": [
            "\r 63%|██████▎   | 439/700 [00:31<00:17, 14.99it/s]"
          ]
        },
        {
          "output_type": "stream",
          "name": "stdout",
          "text": [
            "1/1 [==============================] - 0s 21ms/step\n",
            "1/1 [==============================] - 0s 20ms/step\n"
          ]
        },
        {
          "output_type": "stream",
          "name": "stderr",
          "text": [
            "\r 63%|██████▎   | 441/700 [00:31<00:17, 15.09it/s]"
          ]
        },
        {
          "output_type": "stream",
          "name": "stdout",
          "text": [
            "1/1 [==============================] - 0s 22ms/step\n",
            "1/1 [==============================] - 0s 20ms/step\n"
          ]
        },
        {
          "output_type": "stream",
          "name": "stderr",
          "text": [
            "\r 63%|██████▎   | 443/700 [00:31<00:16, 15.18it/s]"
          ]
        },
        {
          "output_type": "stream",
          "name": "stdout",
          "text": [
            "1/1 [==============================] - 0s 22ms/step\n",
            "1/1 [==============================] - 0s 20ms/step\n"
          ]
        },
        {
          "output_type": "stream",
          "name": "stderr",
          "text": [
            "\r 64%|██████▎   | 445/700 [00:31<00:16, 15.34it/s]"
          ]
        },
        {
          "output_type": "stream",
          "name": "stdout",
          "text": [
            "1/1 [==============================] - 0s 21ms/step\n",
            "1/1 [==============================] - 0s 26ms/step\n"
          ]
        },
        {
          "output_type": "stream",
          "name": "stderr",
          "text": [
            "\r 64%|██████▍   | 447/700 [00:31<00:16, 15.36it/s]"
          ]
        },
        {
          "output_type": "stream",
          "name": "stdout",
          "text": [
            "1/1 [==============================] - 0s 23ms/step\n",
            "1/1 [==============================] - 0s 23ms/step\n"
          ]
        },
        {
          "output_type": "stream",
          "name": "stderr",
          "text": [
            "\r 64%|██████▍   | 449/700 [00:31<00:16, 15.25it/s]"
          ]
        },
        {
          "output_type": "stream",
          "name": "stdout",
          "text": [
            "1/1 [==============================] - 0s 20ms/step\n",
            "1/1 [==============================] - 0s 22ms/step\n"
          ]
        },
        {
          "output_type": "stream",
          "name": "stderr",
          "text": [
            "\r 64%|██████▍   | 451/700 [00:31<00:16, 15.22it/s]"
          ]
        },
        {
          "output_type": "stream",
          "name": "stdout",
          "text": [
            "1/1 [==============================] - 0s 24ms/step\n",
            "1/1 [==============================] - 0s 22ms/step\n"
          ]
        },
        {
          "output_type": "stream",
          "name": "stderr",
          "text": [
            "\r 65%|██████▍   | 453/700 [00:32<00:16, 15.18it/s]"
          ]
        },
        {
          "output_type": "stream",
          "name": "stdout",
          "text": [
            "1/1 [==============================] - 0s 23ms/step\n",
            "1/1 [==============================] - 0s 21ms/step\n"
          ]
        },
        {
          "output_type": "stream",
          "name": "stderr",
          "text": [
            "\r 65%|██████▌   | 455/700 [00:32<00:16, 15.20it/s]"
          ]
        },
        {
          "output_type": "stream",
          "name": "stdout",
          "text": [
            "1/1 [==============================] - 0s 23ms/step\n",
            "1/1 [==============================] - 0s 20ms/step\n"
          ]
        },
        {
          "output_type": "stream",
          "name": "stderr",
          "text": [
            "\r 65%|██████▌   | 457/700 [00:32<00:16, 14.76it/s]"
          ]
        },
        {
          "output_type": "stream",
          "name": "stdout",
          "text": [
            "1/1 [==============================] - 0s 20ms/step\n",
            "1/1 [==============================] - 0s 20ms/step\n"
          ]
        },
        {
          "output_type": "stream",
          "name": "stderr",
          "text": [
            "\r 66%|██████▌   | 459/700 [00:32<00:15, 15.30it/s]"
          ]
        },
        {
          "output_type": "stream",
          "name": "stdout",
          "text": [
            "1/1 [==============================] - 0s 21ms/step\n",
            "1/1 [==============================] - 0s 22ms/step\n"
          ]
        },
        {
          "output_type": "stream",
          "name": "stderr",
          "text": [
            "\r 66%|██████▌   | 461/700 [00:32<00:15, 15.10it/s]"
          ]
        },
        {
          "output_type": "stream",
          "name": "stdout",
          "text": [
            "1/1 [==============================] - 0s 22ms/step\n",
            "1/1 [==============================] - 0s 26ms/step\n"
          ]
        },
        {
          "output_type": "stream",
          "name": "stderr",
          "text": [
            "\r 66%|██████▌   | 463/700 [00:32<00:15, 14.85it/s]"
          ]
        },
        {
          "output_type": "stream",
          "name": "stdout",
          "text": [
            "1/1 [==============================] - 0s 21ms/step\n",
            "1/1 [==============================] - 0s 20ms/step\n"
          ]
        },
        {
          "output_type": "stream",
          "name": "stderr",
          "text": [
            "\r 66%|██████▋   | 465/700 [00:32<00:15, 14.74it/s]"
          ]
        },
        {
          "output_type": "stream",
          "name": "stdout",
          "text": [
            "1/1 [==============================] - 0s 22ms/step\n",
            "1/1 [==============================] - 0s 22ms/step\n"
          ]
        },
        {
          "output_type": "stream",
          "name": "stderr",
          "text": [
            "\r 67%|██████▋   | 467/700 [00:32<00:15, 14.92it/s]"
          ]
        },
        {
          "output_type": "stream",
          "name": "stdout",
          "text": [
            "1/1 [==============================] - 0s 24ms/step\n",
            "1/1 [==============================] - 0s 22ms/step\n"
          ]
        },
        {
          "output_type": "stream",
          "name": "stderr",
          "text": [
            "\r 67%|██████▋   | 469/700 [00:33<00:15, 15.20it/s]"
          ]
        },
        {
          "output_type": "stream",
          "name": "stdout",
          "text": [
            "1/1 [==============================] - 0s 20ms/step\n",
            "1/1 [==============================] - 0s 20ms/step\n"
          ]
        },
        {
          "output_type": "stream",
          "name": "stderr",
          "text": [
            "\r 67%|██████▋   | 471/700 [00:33<00:14, 15.52it/s]"
          ]
        },
        {
          "output_type": "stream",
          "name": "stdout",
          "text": [
            "1/1 [==============================] - 0s 21ms/step\n",
            "1/1 [==============================] - 0s 23ms/step\n"
          ]
        },
        {
          "output_type": "stream",
          "name": "stderr",
          "text": [
            "\r 68%|██████▊   | 473/700 [00:33<00:15, 15.08it/s]"
          ]
        },
        {
          "output_type": "stream",
          "name": "stdout",
          "text": [
            "1/1 [==============================] - 0s 21ms/step\n",
            "1/1 [==============================] - 0s 20ms/step\n"
          ]
        },
        {
          "output_type": "stream",
          "name": "stderr",
          "text": [
            "\r 68%|██████▊   | 475/700 [00:33<00:14, 15.04it/s]"
          ]
        },
        {
          "output_type": "stream",
          "name": "stdout",
          "text": [
            "1/1 [==============================] - 0s 20ms/step\n",
            "1/1 [==============================] - 0s 19ms/step\n"
          ]
        },
        {
          "output_type": "stream",
          "name": "stderr",
          "text": [
            "\r 68%|██████▊   | 477/700 [00:33<00:14, 15.02it/s]"
          ]
        },
        {
          "output_type": "stream",
          "name": "stdout",
          "text": [
            "1/1 [==============================] - 0s 21ms/step\n",
            "1/1 [==============================] - 0s 22ms/step\n"
          ]
        },
        {
          "output_type": "stream",
          "name": "stderr",
          "text": [
            "\r 68%|██████▊   | 479/700 [00:33<00:14, 14.84it/s]"
          ]
        },
        {
          "output_type": "stream",
          "name": "stdout",
          "text": [
            "1/1 [==============================] - 0s 24ms/step\n",
            "1/1 [==============================] - 0s 21ms/step\n"
          ]
        },
        {
          "output_type": "stream",
          "name": "stderr",
          "text": [
            "\r 69%|██████▊   | 481/700 [00:33<00:14, 15.06it/s]"
          ]
        },
        {
          "output_type": "stream",
          "name": "stdout",
          "text": [
            "1/1 [==============================] - 0s 22ms/step\n",
            "1/1 [==============================] - 0s 21ms/step\n"
          ]
        },
        {
          "output_type": "stream",
          "name": "stderr",
          "text": [
            "\r 69%|██████▉   | 483/700 [00:34<00:14, 15.05it/s]"
          ]
        },
        {
          "output_type": "stream",
          "name": "stdout",
          "text": [
            "1/1 [==============================] - 0s 24ms/step\n",
            "1/1 [==============================] - 0s 22ms/step\n"
          ]
        },
        {
          "output_type": "stream",
          "name": "stderr",
          "text": [
            "\r 69%|██████▉   | 485/700 [00:34<00:14, 15.13it/s]"
          ]
        },
        {
          "output_type": "stream",
          "name": "stdout",
          "text": [
            "1/1 [==============================] - 0s 22ms/step\n",
            "1/1 [==============================] - 0s 20ms/step\n"
          ]
        },
        {
          "output_type": "stream",
          "name": "stderr",
          "text": [
            "\r 70%|██████▉   | 487/700 [00:34<00:13, 15.26it/s]"
          ]
        },
        {
          "output_type": "stream",
          "name": "stdout",
          "text": [
            "1/1 [==============================] - 0s 24ms/step\n",
            "1/1 [==============================] - 0s 21ms/step\n"
          ]
        },
        {
          "output_type": "stream",
          "name": "stderr",
          "text": [
            "\r 70%|██████▉   | 489/700 [00:34<00:14, 15.06it/s]"
          ]
        },
        {
          "output_type": "stream",
          "name": "stdout",
          "text": [
            "1/1 [==============================] - 0s 20ms/step\n",
            "1/1 [==============================] - 0s 20ms/step\n"
          ]
        },
        {
          "output_type": "stream",
          "name": "stderr",
          "text": [
            "\r 70%|███████   | 491/700 [00:34<00:13, 15.23it/s]"
          ]
        },
        {
          "output_type": "stream",
          "name": "stdout",
          "text": [
            "1/1 [==============================] - 0s 21ms/step\n",
            "1/1 [==============================] - 0s 31ms/step\n"
          ]
        },
        {
          "output_type": "stream",
          "name": "stderr",
          "text": [
            "\r 70%|███████   | 493/700 [00:34<00:13, 15.04it/s]"
          ]
        },
        {
          "output_type": "stream",
          "name": "stdout",
          "text": [
            "1/1 [==============================] - 0s 20ms/step\n",
            "1/1 [==============================] - 0s 21ms/step\n"
          ]
        },
        {
          "output_type": "stream",
          "name": "stderr",
          "text": [
            "\r 71%|███████   | 495/700 [00:34<00:13, 15.20it/s]"
          ]
        },
        {
          "output_type": "stream",
          "name": "stdout",
          "text": [
            "1/1 [==============================] - 0s 23ms/step\n",
            "1/1 [==============================] - 0s 20ms/step\n"
          ]
        },
        {
          "output_type": "stream",
          "name": "stderr",
          "text": [
            "\r 71%|███████   | 497/700 [00:34<00:13, 15.17it/s]"
          ]
        },
        {
          "output_type": "stream",
          "name": "stdout",
          "text": [
            "1/1 [==============================] - 0s 20ms/step\n",
            "1/1 [==============================] - 0s 25ms/step\n"
          ]
        },
        {
          "output_type": "stream",
          "name": "stderr",
          "text": [
            "\r 71%|███████▏  | 499/700 [00:35<00:13, 15.33it/s]"
          ]
        },
        {
          "output_type": "stream",
          "name": "stdout",
          "text": [
            "1/1 [==============================] - 0s 21ms/step\n",
            "1/1 [==============================] - 0s 22ms/step\n"
          ]
        },
        {
          "output_type": "stream",
          "name": "stderr",
          "text": [
            "\r 72%|███████▏  | 501/700 [00:35<00:12, 15.33it/s]"
          ]
        },
        {
          "output_type": "stream",
          "name": "stdout",
          "text": [
            "1/1 [==============================] - 0s 19ms/step\n",
            "1/1 [==============================] - 0s 19ms/step\n"
          ]
        },
        {
          "output_type": "stream",
          "name": "stderr",
          "text": [
            "\r 72%|███████▏  | 503/700 [00:35<00:12, 15.49it/s]"
          ]
        },
        {
          "output_type": "stream",
          "name": "stdout",
          "text": [
            "1/1 [==============================] - 0s 23ms/step\n",
            "1/1 [==============================] - 0s 22ms/step\n"
          ]
        },
        {
          "output_type": "stream",
          "name": "stderr",
          "text": [
            "\r 72%|███████▏  | 505/700 [00:35<00:12, 15.56it/s]"
          ]
        },
        {
          "output_type": "stream",
          "name": "stdout",
          "text": [
            "1/1 [==============================] - 0s 28ms/step\n",
            "1/1 [==============================] - 0s 19ms/step\n"
          ]
        },
        {
          "output_type": "stream",
          "name": "stderr",
          "text": [
            "\r 72%|███████▏  | 507/700 [00:35<00:12, 15.31it/s]"
          ]
        },
        {
          "output_type": "stream",
          "name": "stdout",
          "text": [
            "1/1 [==============================] - 0s 19ms/step\n",
            "1/1 [==============================] - 0s 29ms/step\n"
          ]
        },
        {
          "output_type": "stream",
          "name": "stderr",
          "text": [
            "\r 73%|███████▎  | 509/700 [00:35<00:12, 15.11it/s]"
          ]
        },
        {
          "output_type": "stream",
          "name": "stdout",
          "text": [
            "1/1 [==============================] - 0s 37ms/step\n",
            "1/1 [==============================] - 0s 20ms/step\n"
          ]
        },
        {
          "output_type": "stream",
          "name": "stderr",
          "text": [
            "\r 73%|███████▎  | 511/700 [00:35<00:12, 15.15it/s]"
          ]
        },
        {
          "output_type": "stream",
          "name": "stdout",
          "text": [
            "1/1 [==============================] - 0s 19ms/step\n",
            "1/1 [==============================] - 0s 21ms/step\n"
          ]
        },
        {
          "output_type": "stream",
          "name": "stderr",
          "text": [
            "\r 73%|███████▎  | 513/700 [00:35<00:12, 15.38it/s]"
          ]
        },
        {
          "output_type": "stream",
          "name": "stdout",
          "text": [
            "1/1 [==============================] - 0s 19ms/step\n",
            "1/1 [==============================] - 0s 21ms/step\n"
          ]
        },
        {
          "output_type": "stream",
          "name": "stderr",
          "text": [
            "\r 74%|███████▎  | 515/700 [00:36<00:11, 15.78it/s]"
          ]
        },
        {
          "output_type": "stream",
          "name": "stdout",
          "text": [
            "1/1 [==============================] - 0s 21ms/step\n",
            "1/1 [==============================] - 0s 24ms/step\n"
          ]
        },
        {
          "output_type": "stream",
          "name": "stderr",
          "text": [
            "\r 74%|███████▍  | 517/700 [00:36<00:11, 15.51it/s]"
          ]
        },
        {
          "output_type": "stream",
          "name": "stdout",
          "text": [
            "1/1 [==============================] - 0s 22ms/step\n",
            "1/1 [==============================] - 0s 21ms/step\n"
          ]
        },
        {
          "output_type": "stream",
          "name": "stderr",
          "text": [
            "\r 74%|███████▍  | 519/700 [00:36<00:11, 15.41it/s]"
          ]
        },
        {
          "output_type": "stream",
          "name": "stdout",
          "text": [
            "1/1 [==============================] - 0s 21ms/step\n",
            "1/1 [==============================] - 0s 20ms/step\n"
          ]
        },
        {
          "output_type": "stream",
          "name": "stderr",
          "text": [
            "\r 74%|███████▍  | 521/700 [00:36<00:11, 15.24it/s]"
          ]
        },
        {
          "output_type": "stream",
          "name": "stdout",
          "text": [
            "1/1 [==============================] - 0s 20ms/step\n",
            "1/1 [==============================] - 0s 25ms/step\n"
          ]
        },
        {
          "output_type": "stream",
          "name": "stderr",
          "text": [
            "\r 75%|███████▍  | 523/700 [00:36<00:11, 15.08it/s]"
          ]
        },
        {
          "output_type": "stream",
          "name": "stdout",
          "text": [
            "1/1 [==============================] - 0s 21ms/step\n",
            "1/1 [==============================] - 0s 22ms/step\n"
          ]
        },
        {
          "output_type": "stream",
          "name": "stderr",
          "text": [
            "\r 75%|███████▌  | 525/700 [00:36<00:11, 14.67it/s]"
          ]
        },
        {
          "output_type": "stream",
          "name": "stdout",
          "text": [
            "1/1 [==============================] - 0s 20ms/step\n",
            "1/1 [==============================] - 0s 21ms/step\n"
          ]
        },
        {
          "output_type": "stream",
          "name": "stderr",
          "text": [
            "\r 75%|███████▌  | 527/700 [00:36<00:11, 15.09it/s]"
          ]
        },
        {
          "output_type": "stream",
          "name": "stdout",
          "text": [
            "1/1 [==============================] - 0s 22ms/step\n",
            "1/1 [==============================] - 0s 21ms/step\n"
          ]
        },
        {
          "output_type": "stream",
          "name": "stderr",
          "text": [
            "\r 76%|███████▌  | 529/700 [00:37<00:11, 14.72it/s]"
          ]
        },
        {
          "output_type": "stream",
          "name": "stdout",
          "text": [
            "1/1 [==============================] - 0s 21ms/step\n",
            "1/1 [==============================] - 0s 21ms/step\n"
          ]
        },
        {
          "output_type": "stream",
          "name": "stderr",
          "text": [
            "\r 76%|███████▌  | 531/700 [00:37<00:11, 14.96it/s]"
          ]
        },
        {
          "output_type": "stream",
          "name": "stdout",
          "text": [
            "1/1 [==============================] - 0s 22ms/step\n",
            "1/1 [==============================] - 0s 32ms/step\n"
          ]
        },
        {
          "output_type": "stream",
          "name": "stderr",
          "text": [
            "\r 76%|███████▌  | 533/700 [00:37<00:11, 14.96it/s]"
          ]
        },
        {
          "output_type": "stream",
          "name": "stdout",
          "text": [
            "1/1 [==============================] - 0s 22ms/step\n",
            "1/1 [==============================] - 0s 22ms/step\n"
          ]
        },
        {
          "output_type": "stream",
          "name": "stderr",
          "text": [
            "\r 76%|███████▋  | 535/700 [00:37<00:11, 14.48it/s]"
          ]
        },
        {
          "output_type": "stream",
          "name": "stdout",
          "text": [
            "1/1 [==============================] - 0s 24ms/step\n",
            "1/1 [==============================] - 0s 21ms/step\n"
          ]
        },
        {
          "output_type": "stream",
          "name": "stderr",
          "text": [
            "\r 77%|███████▋  | 537/700 [00:37<00:11, 14.51it/s]"
          ]
        },
        {
          "output_type": "stream",
          "name": "stdout",
          "text": [
            "1/1 [==============================] - 0s 23ms/step\n",
            "1/1 [==============================] - 0s 22ms/step\n"
          ]
        },
        {
          "output_type": "stream",
          "name": "stderr",
          "text": [
            "\r 77%|███████▋  | 539/700 [00:37<00:11, 14.59it/s]"
          ]
        },
        {
          "output_type": "stream",
          "name": "stdout",
          "text": [
            "1/1 [==============================] - 0s 21ms/step\n",
            "1/1 [==============================] - 0s 20ms/step\n"
          ]
        },
        {
          "output_type": "stream",
          "name": "stderr",
          "text": [
            "\r 77%|███████▋  | 541/700 [00:37<00:10, 14.64it/s]"
          ]
        },
        {
          "output_type": "stream",
          "name": "stdout",
          "text": [
            "1/1 [==============================] - 0s 20ms/step\n",
            "1/1 [==============================] - 0s 22ms/step\n"
          ]
        },
        {
          "output_type": "stream",
          "name": "stderr",
          "text": [
            "\r 78%|███████▊  | 543/700 [00:38<00:10, 14.64it/s]"
          ]
        },
        {
          "output_type": "stream",
          "name": "stdout",
          "text": [
            "1/1 [==============================] - 0s 25ms/step\n",
            "1/1 [==============================] - 0s 23ms/step\n"
          ]
        },
        {
          "output_type": "stream",
          "name": "stderr",
          "text": [
            "\r 78%|███████▊  | 545/700 [00:38<00:10, 14.30it/s]"
          ]
        },
        {
          "output_type": "stream",
          "name": "stdout",
          "text": [
            "1/1 [==============================] - 0s 23ms/step\n",
            "1/1 [==============================] - 0s 23ms/step\n"
          ]
        },
        {
          "output_type": "stream",
          "name": "stderr",
          "text": [
            "\r 78%|███████▊  | 547/700 [00:38<00:10, 14.43it/s]"
          ]
        },
        {
          "output_type": "stream",
          "name": "stdout",
          "text": [
            "1/1 [==============================] - 0s 23ms/step\n",
            "1/1 [==============================] - 0s 22ms/step\n"
          ]
        },
        {
          "output_type": "stream",
          "name": "stderr",
          "text": [
            "\r 78%|███████▊  | 549/700 [00:38<00:10, 13.84it/s]"
          ]
        },
        {
          "output_type": "stream",
          "name": "stdout",
          "text": [
            "1/1 [==============================] - 0s 23ms/step\n",
            "1/1 [==============================] - 0s 22ms/step\n"
          ]
        },
        {
          "output_type": "stream",
          "name": "stderr",
          "text": [
            "\r 79%|███████▊  | 551/700 [00:38<00:10, 14.07it/s]"
          ]
        },
        {
          "output_type": "stream",
          "name": "stdout",
          "text": [
            "1/1 [==============================] - 0s 23ms/step\n",
            "1/1 [==============================] - 0s 23ms/step\n"
          ]
        },
        {
          "output_type": "stream",
          "name": "stderr",
          "text": [
            "\r 79%|███████▉  | 553/700 [00:38<00:10, 13.63it/s]"
          ]
        },
        {
          "output_type": "stream",
          "name": "stdout",
          "text": [
            "1/1 [==============================] - 0s 23ms/step\n",
            "1/1 [==============================] - 0s 25ms/step\n"
          ]
        },
        {
          "output_type": "stream",
          "name": "stderr",
          "text": [
            "\r 79%|███████▉  | 555/700 [00:38<00:10, 14.04it/s]"
          ]
        },
        {
          "output_type": "stream",
          "name": "stdout",
          "text": [
            "1/1 [==============================] - 0s 23ms/step\n",
            "1/1 [==============================] - 0s 23ms/step\n"
          ]
        },
        {
          "output_type": "stream",
          "name": "stderr",
          "text": [
            "\r 80%|███████▉  | 557/700 [00:39<00:10, 14.12it/s]"
          ]
        },
        {
          "output_type": "stream",
          "name": "stdout",
          "text": [
            "1/1 [==============================] - 0s 21ms/step\n",
            "1/1 [==============================] - 0s 21ms/step\n"
          ]
        },
        {
          "output_type": "stream",
          "name": "stderr",
          "text": [
            "\r 80%|███████▉  | 559/700 [00:39<00:09, 14.61it/s]"
          ]
        },
        {
          "output_type": "stream",
          "name": "stdout",
          "text": [
            "1/1 [==============================] - 0s 22ms/step\n",
            "1/1 [==============================] - 0s 23ms/step\n"
          ]
        },
        {
          "output_type": "stream",
          "name": "stderr",
          "text": [
            "\r 80%|████████  | 561/700 [00:39<00:09, 14.65it/s]"
          ]
        },
        {
          "output_type": "stream",
          "name": "stdout",
          "text": [
            "1/1 [==============================] - 0s 23ms/step\n",
            "1/1 [==============================] - 0s 21ms/step\n"
          ]
        },
        {
          "output_type": "stream",
          "name": "stderr",
          "text": [
            "\r 80%|████████  | 563/700 [00:39<00:09, 14.71it/s]"
          ]
        },
        {
          "output_type": "stream",
          "name": "stdout",
          "text": [
            "1/1 [==============================] - 0s 19ms/step\n",
            "1/1 [==============================] - 0s 21ms/step\n"
          ]
        },
        {
          "output_type": "stream",
          "name": "stderr",
          "text": [
            "\r 81%|████████  | 565/700 [00:39<00:08, 15.20it/s]"
          ]
        },
        {
          "output_type": "stream",
          "name": "stdout",
          "text": [
            "1/1 [==============================] - 0s 21ms/step\n",
            "1/1 [==============================] - 0s 20ms/step\n"
          ]
        },
        {
          "output_type": "stream",
          "name": "stderr",
          "text": [
            "\r 81%|████████  | 567/700 [00:39<00:08, 15.46it/s]"
          ]
        },
        {
          "output_type": "stream",
          "name": "stdout",
          "text": [
            "1/1 [==============================] - 0s 21ms/step\n",
            "1/1 [==============================] - 0s 47ms/step\n"
          ]
        },
        {
          "output_type": "stream",
          "name": "stderr",
          "text": [
            "\r 81%|████████▏ | 569/700 [00:39<00:09, 14.33it/s]"
          ]
        },
        {
          "output_type": "stream",
          "name": "stdout",
          "text": [
            "1/1 [==============================] - 0s 41ms/step\n",
            "1/1 [==============================] - 0s 33ms/step\n"
          ]
        },
        {
          "output_type": "stream",
          "name": "stderr",
          "text": [
            "\r 82%|████████▏ | 571/700 [00:40<00:10, 12.74it/s]"
          ]
        },
        {
          "output_type": "stream",
          "name": "stdout",
          "text": [
            "1/1 [==============================] - 0s 31ms/step\n",
            "1/1 [==============================] - 0s 30ms/step\n"
          ]
        },
        {
          "output_type": "stream",
          "name": "stderr",
          "text": [
            "\r 82%|████████▏ | 573/700 [00:40<00:10, 12.18it/s]"
          ]
        },
        {
          "output_type": "stream",
          "name": "stdout",
          "text": [
            "1/1 [==============================] - 0s 30ms/step\n",
            "1/1 [==============================] - 0s 29ms/step\n"
          ]
        },
        {
          "output_type": "stream",
          "name": "stderr",
          "text": [
            "\r 82%|████████▏ | 575/700 [00:40<00:10, 11.78it/s]"
          ]
        },
        {
          "output_type": "stream",
          "name": "stdout",
          "text": [
            "1/1 [==============================] - 0s 33ms/step\n",
            "1/1 [==============================] - 0s 30ms/step\n"
          ]
        },
        {
          "output_type": "stream",
          "name": "stderr",
          "text": [
            "\r 82%|████████▏ | 577/700 [00:40<00:10, 11.51it/s]"
          ]
        },
        {
          "output_type": "stream",
          "name": "stdout",
          "text": [
            "1/1 [==============================] - 0s 42ms/step\n",
            "1/1 [==============================] - 0s 32ms/step\n"
          ]
        },
        {
          "output_type": "stream",
          "name": "stderr",
          "text": [
            "\r 83%|████████▎ | 579/700 [00:40<00:10, 11.24it/s]"
          ]
        },
        {
          "output_type": "stream",
          "name": "stdout",
          "text": [
            "1/1 [==============================] - 0s 48ms/step\n",
            "1/1 [==============================] - 0s 36ms/step\n"
          ]
        },
        {
          "output_type": "stream",
          "name": "stderr",
          "text": [
            "\r 83%|████████▎ | 581/700 [00:40<00:11, 10.73it/s]"
          ]
        },
        {
          "output_type": "stream",
          "name": "stdout",
          "text": [
            "1/1 [==============================] - 0s 30ms/step\n",
            "1/1 [==============================] - 0s 28ms/step\n"
          ]
        },
        {
          "output_type": "stream",
          "name": "stderr",
          "text": [
            "\r 83%|████████▎ | 583/700 [00:41<00:10, 10.73it/s]"
          ]
        },
        {
          "output_type": "stream",
          "name": "stdout",
          "text": [
            "1/1 [==============================] - 0s 30ms/step\n",
            "1/1 [==============================] - 0s 36ms/step\n"
          ]
        },
        {
          "output_type": "stream",
          "name": "stderr",
          "text": [
            "\r 84%|████████▎ | 585/700 [00:41<00:10, 11.01it/s]"
          ]
        },
        {
          "output_type": "stream",
          "name": "stdout",
          "text": [
            "1/1 [==============================] - 0s 31ms/step\n",
            "1/1 [==============================] - 0s 28ms/step\n"
          ]
        },
        {
          "output_type": "stream",
          "name": "stderr",
          "text": [
            "\r 84%|████████▍ | 587/700 [00:41<00:10, 11.05it/s]"
          ]
        },
        {
          "output_type": "stream",
          "name": "stdout",
          "text": [
            "1/1 [==============================] - 0s 29ms/step\n",
            "1/1 [==============================] - 0s 31ms/step\n"
          ]
        },
        {
          "output_type": "stream",
          "name": "stderr",
          "text": [
            "\r 84%|████████▍ | 589/700 [00:41<00:10, 11.08it/s]"
          ]
        },
        {
          "output_type": "stream",
          "name": "stdout",
          "text": [
            "1/1 [==============================] - 0s 29ms/step\n",
            "1/1 [==============================] - 0s 29ms/step\n"
          ]
        },
        {
          "output_type": "stream",
          "name": "stderr",
          "text": [
            "\r 84%|████████▍ | 591/700 [00:41<00:09, 11.33it/s]"
          ]
        },
        {
          "output_type": "stream",
          "name": "stdout",
          "text": [
            "1/1 [==============================] - 0s 36ms/step\n",
            "1/1 [==============================] - 0s 29ms/step\n"
          ]
        },
        {
          "output_type": "stream",
          "name": "stderr",
          "text": [
            "\r 85%|████████▍ | 593/700 [00:42<00:09, 11.28it/s]"
          ]
        },
        {
          "output_type": "stream",
          "name": "stdout",
          "text": [
            "1/1 [==============================] - 0s 33ms/step\n",
            "1/1 [==============================] - 0s 34ms/step\n"
          ]
        },
        {
          "output_type": "stream",
          "name": "stderr",
          "text": [
            "\r 85%|████████▌ | 595/700 [00:42<00:09, 11.24it/s]"
          ]
        },
        {
          "output_type": "stream",
          "name": "stdout",
          "text": [
            "1/1 [==============================] - 0s 29ms/step\n",
            "1/1 [==============================] - 0s 29ms/step\n"
          ]
        },
        {
          "output_type": "stream",
          "name": "stderr",
          "text": [
            "\r 85%|████████▌ | 597/700 [00:42<00:09, 11.11it/s]"
          ]
        },
        {
          "output_type": "stream",
          "name": "stdout",
          "text": [
            "1/1 [==============================] - 0s 31ms/step\n",
            "1/1 [==============================] - 0s 32ms/step\n"
          ]
        },
        {
          "output_type": "stream",
          "name": "stderr",
          "text": [
            "\r 86%|████████▌ | 599/700 [00:42<00:09, 10.77it/s]"
          ]
        },
        {
          "output_type": "stream",
          "name": "stdout",
          "text": [
            "1/1 [==============================] - 0s 31ms/step\n",
            "1/1 [==============================] - 0s 32ms/step\n"
          ]
        },
        {
          "output_type": "stream",
          "name": "stderr",
          "text": [
            "\r 86%|████████▌ | 601/700 [00:42<00:09, 10.97it/s]"
          ]
        },
        {
          "output_type": "stream",
          "name": "stdout",
          "text": [
            "1/1 [==============================] - 0s 29ms/step\n",
            "1/1 [==============================] - 0s 36ms/step\n"
          ]
        },
        {
          "output_type": "stream",
          "name": "stderr",
          "text": [
            "\r 86%|████████▌ | 603/700 [00:42<00:08, 11.02it/s]"
          ]
        },
        {
          "output_type": "stream",
          "name": "stdout",
          "text": [
            "1/1 [==============================] - 0s 30ms/step\n",
            "1/1 [==============================] - 0s 30ms/step\n"
          ]
        },
        {
          "output_type": "stream",
          "name": "stderr",
          "text": [
            "\r 86%|████████▋ | 605/700 [00:43<00:08, 11.01it/s]"
          ]
        },
        {
          "output_type": "stream",
          "name": "stdout",
          "text": [
            "1/1 [==============================] - 0s 29ms/step\n",
            "1/1 [==============================] - 0s 34ms/step\n"
          ]
        },
        {
          "output_type": "stream",
          "name": "stderr",
          "text": [
            "\r 87%|████████▋ | 607/700 [00:43<00:08, 10.59it/s]"
          ]
        },
        {
          "output_type": "stream",
          "name": "stdout",
          "text": [
            "1/1 [==============================] - 0s 36ms/step\n",
            "1/1 [==============================] - 0s 38ms/step\n"
          ]
        },
        {
          "output_type": "stream",
          "name": "stderr",
          "text": [
            "\r 87%|████████▋ | 609/700 [00:43<00:08, 10.69it/s]"
          ]
        },
        {
          "output_type": "stream",
          "name": "stdout",
          "text": [
            "1/1 [==============================] - 0s 29ms/step\n",
            "1/1 [==============================] - 0s 36ms/step\n"
          ]
        },
        {
          "output_type": "stream",
          "name": "stderr",
          "text": [
            "\r 87%|████████▋ | 611/700 [00:43<00:08, 10.61it/s]"
          ]
        },
        {
          "output_type": "stream",
          "name": "stdout",
          "text": [
            "1/1 [==============================] - 0s 25ms/step\n",
            "1/1 [==============================] - 0s 22ms/step\n"
          ]
        },
        {
          "output_type": "stream",
          "name": "stderr",
          "text": [
            "\r 88%|████████▊ | 613/700 [00:43<00:07, 11.62it/s]"
          ]
        },
        {
          "output_type": "stream",
          "name": "stdout",
          "text": [
            "1/1 [==============================] - 0s 22ms/step\n",
            "1/1 [==============================] - 0s 24ms/step\n"
          ]
        },
        {
          "output_type": "stream",
          "name": "stderr",
          "text": [
            "\r 88%|████████▊ | 615/700 [00:43<00:06, 12.63it/s]"
          ]
        },
        {
          "output_type": "stream",
          "name": "stdout",
          "text": [
            "1/1 [==============================] - 0s 22ms/step\n",
            "1/1 [==============================] - 0s 21ms/step\n"
          ]
        },
        {
          "output_type": "stream",
          "name": "stderr",
          "text": [
            "\r 88%|████████▊ | 617/700 [00:44<00:06, 12.93it/s]"
          ]
        },
        {
          "output_type": "stream",
          "name": "stdout",
          "text": [
            "1/1 [==============================] - 0s 22ms/step\n",
            "1/1 [==============================] - 0s 22ms/step\n"
          ]
        },
        {
          "output_type": "stream",
          "name": "stderr",
          "text": [
            "\r 88%|████████▊ | 619/700 [00:44<00:05, 13.55it/s]"
          ]
        },
        {
          "output_type": "stream",
          "name": "stdout",
          "text": [
            "1/1 [==============================] - 0s 28ms/step\n",
            "1/1 [==============================] - 0s 20ms/step\n"
          ]
        },
        {
          "output_type": "stream",
          "name": "stderr",
          "text": [
            "\r 89%|████████▊ | 621/700 [00:44<00:05, 13.86it/s]"
          ]
        },
        {
          "output_type": "stream",
          "name": "stdout",
          "text": [
            "1/1 [==============================] - 0s 22ms/step\n",
            "1/1 [==============================] - 0s 21ms/step\n"
          ]
        },
        {
          "output_type": "stream",
          "name": "stderr",
          "text": [
            "\r 89%|████████▉ | 623/700 [00:44<00:05, 14.11it/s]"
          ]
        },
        {
          "output_type": "stream",
          "name": "stdout",
          "text": [
            "1/1 [==============================] - 0s 24ms/step\n",
            "1/1 [==============================] - 0s 22ms/step\n"
          ]
        },
        {
          "output_type": "stream",
          "name": "stderr",
          "text": [
            "\r 89%|████████▉ | 625/700 [00:44<00:05, 14.19it/s]"
          ]
        },
        {
          "output_type": "stream",
          "name": "stdout",
          "text": [
            "1/1 [==============================] - 0s 22ms/step\n",
            "1/1 [==============================] - 0s 25ms/step\n"
          ]
        },
        {
          "output_type": "stream",
          "name": "stderr",
          "text": [
            "\r 90%|████████▉ | 627/700 [00:44<00:05, 14.47it/s]"
          ]
        },
        {
          "output_type": "stream",
          "name": "stdout",
          "text": [
            "1/1 [==============================] - 0s 24ms/step\n",
            "1/1 [==============================] - 0s 22ms/step\n"
          ]
        },
        {
          "output_type": "stream",
          "name": "stderr",
          "text": [
            "\r 90%|████████▉ | 629/700 [00:44<00:04, 14.94it/s]"
          ]
        },
        {
          "output_type": "stream",
          "name": "stdout",
          "text": [
            "1/1 [==============================] - 0s 22ms/step\n",
            "1/1 [==============================] - 0s 22ms/step\n"
          ]
        },
        {
          "output_type": "stream",
          "name": "stderr",
          "text": [
            "\r 90%|█████████ | 631/700 [00:45<00:04, 14.32it/s]"
          ]
        },
        {
          "output_type": "stream",
          "name": "stdout",
          "text": [
            "1/1 [==============================] - 0s 21ms/step\n",
            "1/1 [==============================] - 0s 23ms/step\n"
          ]
        },
        {
          "output_type": "stream",
          "name": "stderr",
          "text": [
            "\r 90%|█████████ | 633/700 [00:45<00:04, 14.23it/s]"
          ]
        },
        {
          "output_type": "stream",
          "name": "stdout",
          "text": [
            "1/1 [==============================] - 0s 25ms/step\n",
            "1/1 [==============================] - 0s 23ms/step\n"
          ]
        },
        {
          "output_type": "stream",
          "name": "stderr",
          "text": [
            "\r 91%|█████████ | 635/700 [00:45<00:04, 13.65it/s]"
          ]
        },
        {
          "output_type": "stream",
          "name": "stdout",
          "text": [
            "1/1 [==============================] - 0s 22ms/step\n",
            "1/1 [==============================] - 0s 20ms/step\n"
          ]
        },
        {
          "output_type": "stream",
          "name": "stderr",
          "text": [
            "\r 91%|█████████ | 637/700 [00:45<00:04, 12.75it/s]"
          ]
        },
        {
          "output_type": "stream",
          "name": "stdout",
          "text": [
            "1/1 [==============================] - 0s 22ms/step\n",
            "1/1 [==============================] - 0s 23ms/step\n"
          ]
        },
        {
          "output_type": "stream",
          "name": "stderr",
          "text": [
            "\r 91%|█████████▏| 639/700 [00:45<00:04, 13.12it/s]"
          ]
        },
        {
          "output_type": "stream",
          "name": "stdout",
          "text": [
            "1/1 [==============================] - 0s 41ms/step\n",
            "1/1 [==============================] - 0s 32ms/step\n"
          ]
        },
        {
          "output_type": "stream",
          "name": "stderr",
          "text": [
            "\r 92%|█████████▏| 641/700 [00:45<00:05, 11.72it/s]"
          ]
        },
        {
          "output_type": "stream",
          "name": "stdout",
          "text": [
            "1/1 [==============================] - 0s 23ms/step\n",
            "1/1 [==============================] - 0s 29ms/step\n"
          ]
        },
        {
          "output_type": "stream",
          "name": "stderr",
          "text": [
            "\r 92%|█████████▏| 643/700 [00:46<00:04, 12.08it/s]"
          ]
        },
        {
          "output_type": "stream",
          "name": "stdout",
          "text": [
            "1/1 [==============================] - 0s 28ms/step\n",
            "1/1 [==============================] - 0s 32ms/step\n"
          ]
        },
        {
          "output_type": "stream",
          "name": "stderr",
          "text": [
            "\r 92%|█████████▏| 645/700 [00:46<00:04, 11.72it/s]"
          ]
        },
        {
          "output_type": "stream",
          "name": "stdout",
          "text": [
            "1/1 [==============================] - 0s 33ms/step\n",
            "1/1 [==============================] - 0s 43ms/step\n"
          ]
        },
        {
          "output_type": "stream",
          "name": "stderr",
          "text": [
            "\r 92%|█████████▏| 647/700 [00:46<00:04, 11.09it/s]"
          ]
        },
        {
          "output_type": "stream",
          "name": "stdout",
          "text": [
            "1/1 [==============================] - 0s 43ms/step\n",
            "1/1 [==============================] - 0s 51ms/step\n"
          ]
        },
        {
          "output_type": "stream",
          "name": "stderr",
          "text": [
            "\r 93%|█████████▎| 649/700 [00:46<00:05, 10.05it/s]"
          ]
        },
        {
          "output_type": "stream",
          "name": "stdout",
          "text": [
            "1/1 [==============================] - 0s 37ms/step\n",
            "1/1 [==============================] - 0s 82ms/step\n"
          ]
        },
        {
          "output_type": "stream",
          "name": "stderr",
          "text": [
            "\r 93%|█████████▎| 651/700 [00:47<00:05,  8.42it/s]"
          ]
        },
        {
          "output_type": "stream",
          "name": "stdout",
          "text": [
            "1/1 [==============================] - 0s 31ms/step\n"
          ]
        },
        {
          "output_type": "stream",
          "name": "stderr",
          "text": [
            "\r 93%|█████████▎| 652/700 [00:47<00:06,  7.48it/s]"
          ]
        },
        {
          "output_type": "stream",
          "name": "stdout",
          "text": [
            "1/1 [==============================] - 0s 105ms/step\n"
          ]
        },
        {
          "output_type": "stream",
          "name": "stderr",
          "text": [
            "\r 93%|█████████▎| 653/700 [00:47<00:07,  6.26it/s]"
          ]
        },
        {
          "output_type": "stream",
          "name": "stdout",
          "text": [
            "1/1 [==============================] - 0s 33ms/step\n"
          ]
        },
        {
          "output_type": "stream",
          "name": "stderr",
          "text": [
            "\r 93%|█████████▎| 654/700 [00:47<00:06,  6.72it/s]"
          ]
        },
        {
          "output_type": "stream",
          "name": "stdout",
          "text": [
            "1/1 [==============================] - 0s 40ms/step\n"
          ]
        },
        {
          "output_type": "stream",
          "name": "stderr",
          "text": [
            "\r 94%|█████████▎| 655/700 [00:47<00:06,  6.94it/s]"
          ]
        },
        {
          "output_type": "stream",
          "name": "stdout",
          "text": [
            "1/1 [==============================] - 0s 49ms/step\n"
          ]
        },
        {
          "output_type": "stream",
          "name": "stderr",
          "text": [
            "\r 94%|█████████▎| 656/700 [00:47<00:06,  7.14it/s]"
          ]
        },
        {
          "output_type": "stream",
          "name": "stdout",
          "text": [
            "1/1 [==============================] - 0s 140ms/step\n"
          ]
        },
        {
          "output_type": "stream",
          "name": "stderr",
          "text": [
            "\r 94%|█████████▍| 657/700 [00:48<00:07,  5.88it/s]"
          ]
        },
        {
          "output_type": "stream",
          "name": "stdout",
          "text": [
            "1/1 [==============================] - 0s 100ms/step\n"
          ]
        },
        {
          "output_type": "stream",
          "name": "stderr",
          "text": [
            "\r 94%|█████████▍| 658/700 [00:48<00:08,  4.86it/s]"
          ]
        },
        {
          "output_type": "stream",
          "name": "stdout",
          "text": [
            "1/1 [==============================] - 0s 53ms/step\n"
          ]
        },
        {
          "output_type": "stream",
          "name": "stderr",
          "text": [
            "\r 94%|█████████▍| 659/700 [00:48<00:08,  4.71it/s]"
          ]
        },
        {
          "output_type": "stream",
          "name": "stdout",
          "text": [
            "1/1 [==============================] - 0s 43ms/step\n"
          ]
        },
        {
          "output_type": "stream",
          "name": "stderr",
          "text": [
            "\r 94%|█████████▍| 660/700 [00:48<00:07,  5.35it/s]"
          ]
        },
        {
          "output_type": "stream",
          "name": "stdout",
          "text": [
            "1/1 [==============================] - 0s 37ms/step\n"
          ]
        },
        {
          "output_type": "stream",
          "name": "stderr",
          "text": [
            "\r 94%|█████████▍| 661/700 [00:48<00:06,  6.09it/s]"
          ]
        },
        {
          "output_type": "stream",
          "name": "stdout",
          "text": [
            "1/1 [==============================] - 0s 34ms/step\n"
          ]
        },
        {
          "output_type": "stream",
          "name": "stderr",
          "text": [
            "\r 95%|█████████▍| 662/700 [00:48<00:05,  6.70it/s]"
          ]
        },
        {
          "output_type": "stream",
          "name": "stdout",
          "text": [
            "1/1 [==============================] - 0s 34ms/step\n"
          ]
        },
        {
          "output_type": "stream",
          "name": "stderr",
          "text": [
            "\r 95%|█████████▍| 663/700 [00:49<00:05,  7.02it/s]"
          ]
        },
        {
          "output_type": "stream",
          "name": "stdout",
          "text": [
            "1/1 [==============================] - 0s 107ms/step\n"
          ]
        },
        {
          "output_type": "stream",
          "name": "stderr",
          "text": [
            "\r 95%|█████████▍| 664/700 [00:49<00:06,  5.93it/s]"
          ]
        },
        {
          "output_type": "stream",
          "name": "stdout",
          "text": [
            "1/1 [==============================] - 0s 159ms/step\n"
          ]
        },
        {
          "output_type": "stream",
          "name": "stderr",
          "text": [
            "\r 95%|█████████▌| 665/700 [00:49<00:07,  4.48it/s]"
          ]
        },
        {
          "output_type": "stream",
          "name": "stdout",
          "text": [
            "1/1 [==============================] - 0s 44ms/step\n"
          ]
        },
        {
          "output_type": "stream",
          "name": "stderr",
          "text": [
            "\r 95%|█████████▌| 666/700 [00:49<00:07,  4.78it/s]"
          ]
        },
        {
          "output_type": "stream",
          "name": "stdout",
          "text": [
            "1/1 [==============================] - 0s 33ms/step\n"
          ]
        },
        {
          "output_type": "stream",
          "name": "stderr",
          "text": [
            "\r 95%|█████████▌| 667/700 [00:49<00:05,  5.56it/s]"
          ]
        },
        {
          "output_type": "stream",
          "name": "stdout",
          "text": [
            "1/1 [==============================] - 0s 27ms/step\n",
            "1/1 [==============================] - 0s 26ms/step\n"
          ]
        },
        {
          "output_type": "stream",
          "name": "stderr",
          "text": [
            "\r 96%|█████████▌| 669/700 [00:50<00:04,  7.68it/s]"
          ]
        },
        {
          "output_type": "stream",
          "name": "stdout",
          "text": [
            "1/1 [==============================] - 0s 23ms/step\n",
            "1/1 [==============================] - 0s 20ms/step\n"
          ]
        },
        {
          "output_type": "stream",
          "name": "stderr",
          "text": [
            "\r 96%|█████████▌| 671/700 [00:50<00:03,  9.41it/s]"
          ]
        },
        {
          "output_type": "stream",
          "name": "stdout",
          "text": [
            "1/1 [==============================] - 0s 20ms/step\n",
            "1/1 [==============================] - 0s 24ms/step\n"
          ]
        },
        {
          "output_type": "stream",
          "name": "stderr",
          "text": [
            "\r 96%|█████████▌| 673/700 [00:50<00:02, 10.79it/s]"
          ]
        },
        {
          "output_type": "stream",
          "name": "stdout",
          "text": [
            "1/1 [==============================] - 0s 24ms/step\n",
            "1/1 [==============================] - 0s 22ms/step\n"
          ]
        },
        {
          "output_type": "stream",
          "name": "stderr",
          "text": [
            "\r 96%|█████████▋| 675/700 [00:50<00:02, 11.81it/s]"
          ]
        },
        {
          "output_type": "stream",
          "name": "stdout",
          "text": [
            "1/1 [==============================] - 0s 20ms/step\n",
            "1/1 [==============================] - 0s 23ms/step\n"
          ]
        },
        {
          "output_type": "stream",
          "name": "stderr",
          "text": [
            "\r 97%|█████████▋| 677/700 [00:50<00:01, 12.73it/s]"
          ]
        },
        {
          "output_type": "stream",
          "name": "stdout",
          "text": [
            "1/1 [==============================] - 0s 23ms/step\n",
            "1/1 [==============================] - 0s 22ms/step\n"
          ]
        },
        {
          "output_type": "stream",
          "name": "stderr",
          "text": [
            "\r 97%|█████████▋| 679/700 [00:50<00:01, 13.21it/s]"
          ]
        },
        {
          "output_type": "stream",
          "name": "stdout",
          "text": [
            "1/1 [==============================] - 0s 22ms/step\n",
            "1/1 [==============================] - 0s 21ms/step\n"
          ]
        },
        {
          "output_type": "stream",
          "name": "stderr",
          "text": [
            "\r 97%|█████████▋| 681/700 [00:50<00:01, 13.69it/s]"
          ]
        },
        {
          "output_type": "stream",
          "name": "stdout",
          "text": [
            "1/1 [==============================] - 0s 25ms/step\n",
            "1/1 [==============================] - 0s 21ms/step\n"
          ]
        },
        {
          "output_type": "stream",
          "name": "stderr",
          "text": [
            "\r 98%|█████████▊| 683/700 [00:51<00:01, 13.67it/s]"
          ]
        },
        {
          "output_type": "stream",
          "name": "stdout",
          "text": [
            "1/1 [==============================] - 0s 21ms/step\n",
            "1/1 [==============================] - 0s 23ms/step\n"
          ]
        },
        {
          "output_type": "stream",
          "name": "stderr",
          "text": [
            "\r 98%|█████████▊| 685/700 [00:51<00:01, 14.03it/s]"
          ]
        },
        {
          "output_type": "stream",
          "name": "stdout",
          "text": [
            "1/1 [==============================] - 0s 23ms/step\n",
            "1/1 [==============================] - 0s 22ms/step\n"
          ]
        },
        {
          "output_type": "stream",
          "name": "stderr",
          "text": [
            "\r 98%|█████████▊| 687/700 [00:51<00:00, 14.06it/s]"
          ]
        },
        {
          "output_type": "stream",
          "name": "stdout",
          "text": [
            "1/1 [==============================] - 0s 22ms/step\n",
            "1/1 [==============================] - 0s 21ms/step\n"
          ]
        },
        {
          "output_type": "stream",
          "name": "stderr",
          "text": [
            "\r 98%|█████████▊| 689/700 [00:51<00:00, 13.92it/s]"
          ]
        },
        {
          "output_type": "stream",
          "name": "stdout",
          "text": [
            "1/1 [==============================] - 0s 22ms/step\n",
            "1/1 [==============================] - 0s 21ms/step\n"
          ]
        },
        {
          "output_type": "stream",
          "name": "stderr",
          "text": [
            "\r 99%|█████████▊| 691/700 [00:51<00:00, 14.19it/s]"
          ]
        },
        {
          "output_type": "stream",
          "name": "stdout",
          "text": [
            "1/1 [==============================] - 0s 22ms/step\n",
            "1/1 [==============================] - 0s 21ms/step\n"
          ]
        },
        {
          "output_type": "stream",
          "name": "stderr",
          "text": [
            "\r 99%|█████████▉| 693/700 [00:51<00:00, 14.28it/s]"
          ]
        },
        {
          "output_type": "stream",
          "name": "stdout",
          "text": [
            "1/1 [==============================] - 0s 22ms/step\n",
            "1/1 [==============================] - 0s 21ms/step\n"
          ]
        },
        {
          "output_type": "stream",
          "name": "stderr",
          "text": [
            "\r 99%|█████████▉| 695/700 [00:51<00:00, 14.32it/s]"
          ]
        },
        {
          "output_type": "stream",
          "name": "stdout",
          "text": [
            "1/1 [==============================] - 0s 22ms/step\n",
            "1/1 [==============================] - 0s 21ms/step\n"
          ]
        },
        {
          "output_type": "stream",
          "name": "stderr",
          "text": [
            "\r100%|█████████▉| 697/700 [00:52<00:00, 14.71it/s]"
          ]
        },
        {
          "output_type": "stream",
          "name": "stdout",
          "text": [
            "1/1 [==============================] - 0s 21ms/step\n",
            "1/1 [==============================] - 0s 25ms/step\n"
          ]
        },
        {
          "output_type": "stream",
          "name": "stderr",
          "text": [
            "\r100%|█████████▉| 699/700 [00:52<00:00, 14.74it/s]"
          ]
        },
        {
          "output_type": "stream",
          "name": "stdout",
          "text": [
            "1/1 [==============================] - 0s 22ms/step\n"
          ]
        },
        {
          "output_type": "stream",
          "name": "stderr",
          "text": [
            "\r100%|██████████| 700/700 [00:52<00:00, 13.39it/s]\n"
          ]
        }
      ]
    },
    {
      "cell_type": "code",
      "source": [
        "from sklearn.model_selection import train_test_split\n",
        "\n",
        "from sklearn import preprocessing\n",
        "dt_ready = dt_norm.toarray()\n",
        "min_max_scaler = preprocessing.MinMaxScaler()\n",
        "data_norm = min_max_scaler.fit_transform(images_feat)\n",
        "y_reg_norm = (y_reg - y_reg.min()) / (y_reg.max() - y_reg.min())\n",
        "# Split de los datos\n",
        "X_train, X_test, y_train, y_test = train_test_split(data_norm, y_reg_norm.values, test_size=0.2, random_state=42)\n",
        "X_train, X_val, y_train, y_val = train_test_split(X_train, y_train, test_size=0.1, random_state=42)\n",
        "print(X_train.shape)\n",
        "print(X_test.shape)\n",
        "print(y_train.shape)\n",
        "print(y_test.shape)\n",
        "print(X_val.shape)\n",
        "print(y_val.shape)"
      ],
      "metadata": {
        "colab": {
          "base_uri": "https://localhost:8080/"
        },
        "id": "ck7axBjg83Lz",
        "outputId": "9e4f5ad1-3ac3-4db5-dea9-66b5fdde175b"
      },
      "execution_count": null,
      "outputs": [
        {
          "output_type": "stream",
          "name": "stdout",
          "text": [
            "(504, 512)\n",
            "(140, 512)\n",
            "(504,)\n",
            "(140,)\n",
            "(56, 512)\n",
            "(56,)\n"
          ]
        }
      ]
    },
    {
      "cell_type": "code",
      "execution_count": null,
      "metadata": {
        "id": "aIrbLLStfMMB",
        "colab": {
          "base_uri": "https://localhost:8080/",
          "height": 624
        },
        "outputId": "ef99892c-8dea-4ff8-9b11-2bab3f7f36d4"
      },
      "outputs": [
        {
          "output_type": "stream",
          "name": "stdout",
          "text": [
            "Epoch 1/15\n"
          ]
        },
        {
          "output_type": "error",
          "ename": "ValueError",
          "evalue": "ignored",
          "traceback": [
            "\u001b[0;31m---------------------------------------------------------------------------\u001b[0m",
            "\u001b[0;31mValueError\u001b[0m                                Traceback (most recent call last)",
            "\u001b[0;32m<ipython-input-145-b5e6aacea80c>\u001b[0m in \u001b[0;36m<module>\u001b[0;34m\u001b[0m\n\u001b[1;32m     26\u001b[0m \u001b[0;34m\u001b[0m\u001b[0m\n\u001b[1;32m     27\u001b[0m \u001b[0mmodel3\u001b[0m\u001b[0;34m.\u001b[0m\u001b[0mcompile\u001b[0m\u001b[0;34m(\u001b[0m\u001b[0moptimizer\u001b[0m\u001b[0;34m=\u001b[0m\u001b[0;34m'adam'\u001b[0m\u001b[0;34m,\u001b[0m \u001b[0mloss\u001b[0m\u001b[0;34m=\u001b[0m\u001b[0;34m'mse'\u001b[0m\u001b[0;34m)\u001b[0m\u001b[0;34m\u001b[0m\u001b[0;34m\u001b[0m\u001b[0m\n\u001b[0;32m---> 28\u001b[0;31m \u001b[0mmodel3\u001b[0m\u001b[0;34m.\u001b[0m\u001b[0mfit\u001b[0m\u001b[0;34m(\u001b[0m\u001b[0mX_train\u001b[0m\u001b[0;34m,\u001b[0m \u001b[0my_train\u001b[0m\u001b[0;34m,\u001b[0m \u001b[0mepochs\u001b[0m\u001b[0;34m=\u001b[0m\u001b[0;36m15\u001b[0m\u001b[0;34m,\u001b[0m \u001b[0mbatch_size\u001b[0m\u001b[0;34m=\u001b[0m\u001b[0;36m4\u001b[0m\u001b[0;34m,\u001b[0m \u001b[0mvalidation_data\u001b[0m\u001b[0;34m=\u001b[0m\u001b[0;34m(\u001b[0m\u001b[0mX_val\u001b[0m\u001b[0;34m,\u001b[0m \u001b[0my_val\u001b[0m\u001b[0;34m)\u001b[0m\u001b[0;34m)\u001b[0m\u001b[0;34m\u001b[0m\u001b[0;34m\u001b[0m\u001b[0m\n\u001b[0m",
            "\u001b[0;32m/usr/local/lib/python3.9/dist-packages/keras/utils/traceback_utils.py\u001b[0m in \u001b[0;36merror_handler\u001b[0;34m(*args, **kwargs)\u001b[0m\n\u001b[1;32m     68\u001b[0m             \u001b[0;31m# To get the full stack trace, call:\u001b[0m\u001b[0;34m\u001b[0m\u001b[0;34m\u001b[0m\u001b[0m\n\u001b[1;32m     69\u001b[0m             \u001b[0;31m# `tf.debugging.disable_traceback_filtering()`\u001b[0m\u001b[0;34m\u001b[0m\u001b[0;34m\u001b[0m\u001b[0m\n\u001b[0;32m---> 70\u001b[0;31m             \u001b[0;32mraise\u001b[0m \u001b[0me\u001b[0m\u001b[0;34m.\u001b[0m\u001b[0mwith_traceback\u001b[0m\u001b[0;34m(\u001b[0m\u001b[0mfiltered_tb\u001b[0m\u001b[0;34m)\u001b[0m \u001b[0;32mfrom\u001b[0m \u001b[0;32mNone\u001b[0m\u001b[0;34m\u001b[0m\u001b[0;34m\u001b[0m\u001b[0m\n\u001b[0m\u001b[1;32m     71\u001b[0m         \u001b[0;32mfinally\u001b[0m\u001b[0;34m:\u001b[0m\u001b[0;34m\u001b[0m\u001b[0;34m\u001b[0m\u001b[0m\n\u001b[1;32m     72\u001b[0m             \u001b[0;32mdel\u001b[0m \u001b[0mfiltered_tb\u001b[0m\u001b[0;34m\u001b[0m\u001b[0;34m\u001b[0m\u001b[0m\n",
            "\u001b[0;32m/usr/local/lib/python3.9/dist-packages/keras/engine/training.py\u001b[0m in \u001b[0;36mtf__train_function\u001b[0;34m(iterator)\u001b[0m\n\u001b[1;32m     13\u001b[0m                 \u001b[0;32mtry\u001b[0m\u001b[0;34m:\u001b[0m\u001b[0;34m\u001b[0m\u001b[0;34m\u001b[0m\u001b[0m\n\u001b[1;32m     14\u001b[0m                     \u001b[0mdo_return\u001b[0m \u001b[0;34m=\u001b[0m \u001b[0;32mTrue\u001b[0m\u001b[0;34m\u001b[0m\u001b[0;34m\u001b[0m\u001b[0m\n\u001b[0;32m---> 15\u001b[0;31m                     \u001b[0mretval_\u001b[0m \u001b[0;34m=\u001b[0m \u001b[0mag__\u001b[0m\u001b[0;34m.\u001b[0m\u001b[0mconverted_call\u001b[0m\u001b[0;34m(\u001b[0m\u001b[0mag__\u001b[0m\u001b[0;34m.\u001b[0m\u001b[0mld\u001b[0m\u001b[0;34m(\u001b[0m\u001b[0mstep_function\u001b[0m\u001b[0;34m)\u001b[0m\u001b[0;34m,\u001b[0m \u001b[0;34m(\u001b[0m\u001b[0mag__\u001b[0m\u001b[0;34m.\u001b[0m\u001b[0mld\u001b[0m\u001b[0;34m(\u001b[0m\u001b[0mself\u001b[0m\u001b[0;34m)\u001b[0m\u001b[0;34m,\u001b[0m \u001b[0mag__\u001b[0m\u001b[0;34m.\u001b[0m\u001b[0mld\u001b[0m\u001b[0;34m(\u001b[0m\u001b[0miterator\u001b[0m\u001b[0;34m)\u001b[0m\u001b[0;34m)\u001b[0m\u001b[0;34m,\u001b[0m \u001b[0;32mNone\u001b[0m\u001b[0;34m,\u001b[0m \u001b[0mfscope\u001b[0m\u001b[0;34m)\u001b[0m\u001b[0;34m\u001b[0m\u001b[0;34m\u001b[0m\u001b[0m\n\u001b[0m\u001b[1;32m     16\u001b[0m                 \u001b[0;32mexcept\u001b[0m\u001b[0;34m:\u001b[0m\u001b[0;34m\u001b[0m\u001b[0;34m\u001b[0m\u001b[0m\n\u001b[1;32m     17\u001b[0m                     \u001b[0mdo_return\u001b[0m \u001b[0;34m=\u001b[0m \u001b[0;32mFalse\u001b[0m\u001b[0;34m\u001b[0m\u001b[0;34m\u001b[0m\u001b[0m\n",
            "\u001b[0;31mValueError\u001b[0m: in user code:\n\n    File \"/usr/local/lib/python3.9/dist-packages/keras/engine/training.py\", line 1249, in train_function  *\n        return step_function(self, iterator)\n    File \"/usr/local/lib/python3.9/dist-packages/keras/engine/training.py\", line 1233, in step_function  **\n        outputs = model.distribute_strategy.run(run_step, args=(data,))\n    File \"/usr/local/lib/python3.9/dist-packages/keras/engine/training.py\", line 1222, in run_step  **\n        outputs = model.train_step(data)\n    File \"/usr/local/lib/python3.9/dist-packages/keras/engine/training.py\", line 1023, in train_step\n        y_pred = self(x, training=True)\n    File \"/usr/local/lib/python3.9/dist-packages/keras/utils/traceback_utils.py\", line 70, in error_handler\n        raise e.with_traceback(filtered_tb) from None\n    File \"/usr/local/lib/python3.9/dist-packages/keras/engine/input_spec.py\", line 295, in assert_input_compatibility\n        raise ValueError(\n\n    ValueError: Input 0 of layer \"sequential_18\" is incompatible with the layer: expected shape=(None, 128, 128, 3), found shape=(4, 512)\n"
          ]
        }
      ],
      "source": [
        "from tensorflow.keras.models import Sequential\n",
        "from tensorflow.keras.layers import Conv2D, MaxPooling2D, Flatten, Dense\n",
        "\n",
        "model3 = Sequential()\n",
        "\n",
        "# Capa de convolución 2D con 128 filtros, tamaño de kernel 3x3, activación 'relu' y tamaño de entrada de imagen de 128x128x3\n",
        "model3.add(Conv2D(128, (3, 3), activation='relu', input_shape=(128, 128, 3)))\n",
        "\n",
        "# Capa de max pooling 2D con tamaño de ventana 2x2\n",
        "model3.add(MaxPooling2D(pool_size=(2, 2)))\n",
        "\n",
        "# Capa de convolución 2D con 128 filtros, tamaño de kernel 3x3 y activación 'relu'\n",
        "model3.add(Conv2D(128, (3, 3), activation='relu'))\n",
        "\n",
        "# Capa de max pooling 2D con tamaño de ventana 2x2\n",
        "model3.add(MaxPooling2D(pool_size=(2, 2)))\n",
        "\n",
        "# Capa para aplanar la imagen en una sola dimensión\n",
        "model3.add(Flatten())\n",
        "\n",
        "# Capa densa con 64 neuronas y activación 'relu'\n",
        "model3.add(Dense(64, activation='relu'))\n",
        "\n",
        "# Capa de salida con una sola neurona y activación 'linear' para regresión de imágenes\n",
        "model3.add(Dense(1, activation='linear'))\n",
        "\n",
        "model3.compile(optimizer='adam', loss='mse')\n",
        "model3.fit(X_train, y_train, epochs=15, batch_size=4, validation_data=(X_val, y_val))"
      ]
    },
    {
      "cell_type": "code",
      "execution_count": null,
      "metadata": {
        "id": "Q0RmXVtSfMHS"
      },
      "outputs": [],
      "source": [
        "ypre=model.predict(X_test)"
      ]
    },
    {
      "cell_type": "code",
      "execution_count": null,
      "metadata": {
        "id": "JzfDUQAefMJa"
      },
      "outputs": [],
      "source": [
        "y_reg_max= y_reg.max()\n",
        "y_reg_min= y_reg.min()\n",
        "\n",
        "\n",
        "y_pred_denorm1 = ypre[:, 0] * (y_reg_max - y_reg_min) + y_reg_min\n",
        "y_test_denorm1 = y_test * (y_reg_max - y_reg_min) + y_reg_min\n",
        "error_denorm1 = np.abs(y_pred_denorm1 - y_test_denorm1)\n",
        "error_percent1 = error_denorm1 / y_test_denorm1\n",
        "error_percent1 = error_percent1 * 100\n",
        "error_percent1 = error_percent1.round(2)\n",
        "print(\"Error medio:\",error_denorm1.mean())\n",
        "for gt, pred, e in zip(y_test_denorm1, y_pred_denorm1, error_denorm1):\n",
        "    print(f'Real: {gt:.2f} Predicho: {pred:.2f}. Error: {e:.2f}')"
      ]
    },
    {
      "cell_type": "markdown",
      "source": [
        "#MODELO HIBRIDO\n"
      ],
      "metadata": {
        "id": "eUCEnbfipiJx"
      }
    },
    {
      "cell_type": "code",
      "source": [
        "print(dt_norm.shape)\n",
        "images_feat.shape"
      ],
      "metadata": {
        "colab": {
          "base_uri": "https://localhost:8080/"
        },
        "id": "FgtwPW3_835O",
        "outputId": "fd8f7287-de8f-4381-bbbc-3267c997d0a5"
      },
      "execution_count": null,
      "outputs": [
        {
          "output_type": "stream",
          "name": "stdout",
          "text": [
            "(700, 46)\n"
          ]
        },
        {
          "output_type": "execute_result",
          "data": {
            "text/plain": [
              "(700, 512)"
            ]
          },
          "metadata": {},
          "execution_count": 146
        }
      ]
    },
    {
      "cell_type": "code",
      "execution_count": null,
      "metadata": {
        "id": "TDoSMbP1fMOU",
        "colab": {
          "base_uri": "https://localhost:8080/"
        },
        "outputId": "a12b2a60-f99f-4f28-d912-453f4522f795"
      },
      "outputs": [
        {
          "output_type": "stream",
          "name": "stdout",
          "text": [
            "(700, 558)\n"
          ]
        }
      ],
      "source": [
        "# Vamos a juntar las features de las imagenes y el dataset numérico/categórico\n",
        "df_final = np.concatenate((dt_ready, images_feat), axis=1)\n",
        "print(df_final.shape)"
      ]
    },
    {
      "cell_type": "code",
      "source": [
        "from sklearn import preprocessing\n",
        "min_max_scaler = preprocessing.MinMaxScaler()\n",
        "data_norm = min_max_scaler.fit_transform(df_final)\n",
        "y_reg_norm = (y_reg - y_reg.min()) / (y_reg.max() - y_reg.min())"
      ],
      "metadata": {
        "id": "2IcQzUtDGu86"
      },
      "execution_count": null,
      "outputs": []
    },
    {
      "cell_type": "code",
      "source": [
        "from sklearn import preprocessing\n",
        "\n",
        "min_max_scaler = preprocessing.MinMaxScaler()\n",
        "data_norm = min_max_scaler.fit_transform(df_final)\n",
        "y_reg_norm = (y_reg - y_reg.min()) / (y_reg.max() - y_reg.min())\n",
        "# Split de los datos\n",
        "X_train, X_test, y_train, y_test = train_test_split(data_norm, y_reg_norm.values, test_size=0.2, random_state=42)\n",
        "X_train, X_val, y_train, y_val = train_test_split(X_train, y_train, test_size=0.1, random_state=42)\n",
        "print(X_train.shape)\n",
        "print(X_test.shape)\n",
        "print(y_train.shape)\n",
        "print(y_test.shape)\n",
        "print(X_val.shape)\n",
        "print(y_val.shape)"
      ],
      "metadata": {
        "colab": {
          "base_uri": "https://localhost:8080/"
        },
        "id": "mZwvcuxMmDR6",
        "outputId": "e4409d5c-9959-4a44-cae0-fb187ae86b68"
      },
      "execution_count": null,
      "outputs": [
        {
          "output_type": "stream",
          "name": "stdout",
          "text": [
            "(504, 558)\n",
            "(140, 558)\n",
            "(504,)\n",
            "(140,)\n",
            "(56, 558)\n",
            "(56,)\n"
          ]
        }
      ]
    },
    {
      "cell_type": "code",
      "source": [
        "from keras.layers import Input, Dense, Concatenate, Dropout\n",
        "from keras.models import Model\n",
        "\n",
        "model = Sequential()\n",
        "model.add(Dense(128, input_shape=(X_train.shape[1],), activation='relu'))\n",
        "model.add(Dense(64, activation='relu'))\n",
        "\n",
        "model.add(Dense(32, activation='relu'))\n",
        "model.add(Dropout(0.2))\n",
        "model.add(Dense(16, activation='relu'))\n",
        "model.add(Dense(1, activation='linear'))\n",
        "\n",
        "# Creamos el modelo\n",
        "\n",
        "model.compile(loss='mse', optimizer='RMSProp')\n"
      ],
      "metadata": {
        "id": "i98ZMSXOmDX-"
      },
      "execution_count": null,
      "outputs": []
    },
    {
      "cell_type": "code",
      "source": [
        "print(X_train.shape)\n",
        "\n",
        "y_train.shape"
      ],
      "metadata": {
        "colab": {
          "base_uri": "https://localhost:8080/"
        },
        "id": "EdwuJHRuu1XN",
        "outputId": "271b5851-ab5a-427f-a2d7-1973b2378f25"
      },
      "execution_count": null,
      "outputs": [
        {
          "output_type": "stream",
          "name": "stdout",
          "text": [
            "(504, 558)\n"
          ]
        },
        {
          "output_type": "execute_result",
          "data": {
            "text/plain": [
              "(504,)"
            ]
          },
          "metadata": {},
          "execution_count": 172
        }
      ]
    },
    {
      "cell_type": "code",
      "execution_count": null,
      "metadata": {
        "id": "gcc1c2_8fMQr",
        "colab": {
          "base_uri": "https://localhost:8080/"
        },
        "outputId": "027759df-6f33-46ac-ce1a-069f1224c269"
      },
      "outputs": [
        {
          "output_type": "stream",
          "name": "stdout",
          "text": [
            "Epoch 1/40\n",
            "26/26 [==============================] - 1s 10ms/step - loss: 0.0321 - val_loss: 0.0451\n",
            "Epoch 2/40\n",
            "26/26 [==============================] - 0s 5ms/step - loss: 0.0168 - val_loss: 0.0434\n",
            "Epoch 3/40\n",
            "26/26 [==============================] - 0s 7ms/step - loss: 0.0131 - val_loss: 0.0447\n",
            "Epoch 4/40\n",
            "26/26 [==============================] - 0s 7ms/step - loss: 0.0126 - val_loss: 0.0479\n",
            "Epoch 5/40\n",
            "26/26 [==============================] - 0s 6ms/step - loss: 0.0099 - val_loss: 0.0423\n",
            "Epoch 6/40\n",
            "26/26 [==============================] - 0s 7ms/step - loss: 0.0085 - val_loss: 0.0392\n",
            "Epoch 7/40\n",
            "26/26 [==============================] - 0s 6ms/step - loss: 0.0074 - val_loss: 0.0464\n",
            "Epoch 8/40\n",
            "26/26 [==============================] - 0s 7ms/step - loss: 0.0065 - val_loss: 0.0429\n",
            "Epoch 9/40\n",
            "26/26 [==============================] - 0s 7ms/step - loss: 0.0060 - val_loss: 0.0410\n",
            "Epoch 10/40\n",
            "26/26 [==============================] - 0s 7ms/step - loss: 0.0049 - val_loss: 0.0441\n",
            "Epoch 11/40\n",
            "26/26 [==============================] - 0s 7ms/step - loss: 0.0043 - val_loss: 0.0461\n",
            "Epoch 12/40\n",
            "26/26 [==============================] - 0s 7ms/step - loss: 0.0046 - val_loss: 0.0427\n",
            "Epoch 13/40\n",
            "26/26 [==============================] - 0s 7ms/step - loss: 0.0048 - val_loss: 0.0408\n",
            "Epoch 14/40\n",
            "26/26 [==============================] - 0s 7ms/step - loss: 0.0035 - val_loss: 0.0405\n",
            "Epoch 15/40\n",
            "26/26 [==============================] - 0s 7ms/step - loss: 0.0040 - val_loss: 0.0400\n",
            "Epoch 16/40\n",
            "26/26 [==============================] - 0s 6ms/step - loss: 0.0027 - val_loss: 0.0462\n",
            "Epoch 17/40\n",
            "26/26 [==============================] - 0s 7ms/step - loss: 0.0033 - val_loss: 0.0414\n",
            "Epoch 18/40\n",
            "26/26 [==============================] - 0s 7ms/step - loss: 0.0035 - val_loss: 0.0421\n",
            "Epoch 19/40\n",
            "26/26 [==============================] - 0s 6ms/step - loss: 0.0032 - val_loss: 0.0411\n",
            "Epoch 20/40\n",
            "26/26 [==============================] - 0s 8ms/step - loss: 0.0025 - val_loss: 0.0448\n",
            "Epoch 21/40\n",
            "26/26 [==============================] - 0s 7ms/step - loss: 0.0030 - val_loss: 0.0403\n",
            "Epoch 22/40\n",
            "26/26 [==============================] - 0s 7ms/step - loss: 0.0021 - val_loss: 0.0401\n",
            "Epoch 23/40\n",
            "26/26 [==============================] - 0s 5ms/step - loss: 0.0025 - val_loss: 0.0397\n",
            "Epoch 24/40\n",
            "26/26 [==============================] - 0s 4ms/step - loss: 0.0024 - val_loss: 0.0453\n",
            "Epoch 25/40\n",
            "26/26 [==============================] - 0s 4ms/step - loss: 0.0025 - val_loss: 0.0489\n",
            "Epoch 26/40\n",
            "26/26 [==============================] - 0s 5ms/step - loss: 0.0028 - val_loss: 0.0380\n",
            "Epoch 27/40\n",
            "26/26 [==============================] - 0s 5ms/step - loss: 0.0024 - val_loss: 0.0402\n",
            "Epoch 28/40\n",
            "26/26 [==============================] - 0s 5ms/step - loss: 0.0016 - val_loss: 0.0388\n",
            "Epoch 29/40\n",
            "26/26 [==============================] - 0s 4ms/step - loss: 0.0014 - val_loss: 0.0384\n",
            "Epoch 30/40\n",
            "26/26 [==============================] - 0s 4ms/step - loss: 0.0016 - val_loss: 0.0413\n",
            "Epoch 31/40\n",
            "26/26 [==============================] - 0s 4ms/step - loss: 0.0015 - val_loss: 0.0417\n",
            "Epoch 32/40\n",
            "26/26 [==============================] - 0s 5ms/step - loss: 0.0018 - val_loss: 0.0401\n",
            "Epoch 33/40\n",
            "26/26 [==============================] - 0s 4ms/step - loss: 0.0015 - val_loss: 0.0453\n",
            "Epoch 34/40\n",
            "26/26 [==============================] - 0s 4ms/step - loss: 0.0012 - val_loss: 0.0401\n",
            "Epoch 35/40\n",
            "26/26 [==============================] - 0s 5ms/step - loss: 0.0013 - val_loss: 0.0397\n",
            "Epoch 36/40\n",
            "26/26 [==============================] - 0s 5ms/step - loss: 0.0015 - val_loss: 0.0414\n",
            "Epoch 37/40\n",
            "26/26 [==============================] - 0s 5ms/step - loss: 0.0017 - val_loss: 0.0400\n",
            "Epoch 38/40\n",
            "26/26 [==============================] - 0s 5ms/step - loss: 0.0015 - val_loss: 0.0426\n",
            "Epoch 39/40\n",
            "26/26 [==============================] - 0s 5ms/step - loss: 0.0017 - val_loss: 0.0384\n",
            "Epoch 40/40\n",
            "26/26 [==============================] - 0s 4ms/step - loss: 0.0013 - val_loss: 0.0391\n"
          ]
        },
        {
          "output_type": "execute_result",
          "data": {
            "text/plain": [
              "<keras.callbacks.History at 0x7f38d0178a30>"
            ]
          },
          "metadata": {},
          "execution_count": 179
        }
      ],
      "source": [
        "# Entrenamos el modelo\n",
        "model.fit(X_train, y_train, epochs=40, batch_size=20, validation_data=(X_val, y_val))\n"
      ]
    },
    {
      "cell_type": "code",
      "source": [
        "loss = model.evaluate(X_test, y_test)\n",
        "y_pred=model.predict(X_test)\n",
        "print(f'Loss={loss}')"
      ],
      "metadata": {
        "colab": {
          "base_uri": "https://localhost:8080/"
        },
        "id": "KQHPDEiV2sBs",
        "outputId": "69735db4-864c-41d5-edb6-1b4c3643c348"
      },
      "execution_count": null,
      "outputs": [
        {
          "output_type": "stream",
          "name": "stdout",
          "text": [
            "5/5 [==============================] - 0s 4ms/step - loss: 0.0191\n",
            "5/5 [==============================] - 0s 2ms/step\n",
            "Loss=0.019059212878346443\n"
          ]
        }
      ]
    },
    {
      "cell_type": "code",
      "source": [
        "y_reg_max= y_reg.max()\n",
        "y_reg_min= y_reg.min()\n",
        "\n",
        "\n",
        "y_pred_denorm1 = y_pred[:, 0] * (y_reg_max - y_reg_min) + y_reg_min\n",
        "y_test_denorm1 = y_test * (y_reg_max - y_reg_min) + y_reg_min\n",
        "error_denorm1 = np.abs(y_pred_denorm1 - y_test_denorm1)\n",
        "error_percent1 = error_denorm1 / y_test_denorm1\n",
        "error_percent1 = error_percent1 * 100\n",
        "error_percent1 = error_percent1.round(2)\n",
        "print(\"Error medio:\",error_denorm1.mean())\n",
        "for gt, pred, e in zip(y_test_denorm1, y_pred_denorm1, error_denorm1):\n",
        "    print(f'Real: {gt:.2f} Predicho: {pred:.2f}. Error: {e:.2f}')"
      ],
      "metadata": {
        "colab": {
          "base_uri": "https://localhost:8080/"
        },
        "id": "8RPL97M0203W",
        "outputId": "64a8313e-23ce-4438-94b4-0b52e4241dbf"
      },
      "execution_count": null,
      "outputs": [
        {
          "output_type": "stream",
          "name": "stdout",
          "text": [
            "Error medio: 17.893294613701958\n",
            "Real: 45.00 Predicho: 46.66. Error: 1.66\n",
            "Real: 49.00 Predicho: 35.58. Error: 13.42\n",
            "Real: 39.00 Predicho: 25.11. Error: 13.89\n",
            "Real: 46.00 Predicho: 69.93. Error: 23.93\n",
            "Real: 68.00 Predicho: 63.37. Error: 4.63\n",
            "Real: 35.00 Predicho: 31.15. Error: 3.85\n",
            "Real: 50.00 Predicho: 46.92. Error: 3.08\n",
            "Real: 23.00 Predicho: 43.28. Error: 20.28\n",
            "Real: 25.00 Predicho: 19.79. Error: 5.21\n",
            "Real: 36.00 Predicho: 40.40. Error: 4.40\n",
            "Real: 60.00 Predicho: 73.30. Error: 13.30\n",
            "Real: 79.00 Predicho: 89.44. Error: 10.44\n",
            "Real: 26.00 Predicho: 55.33. Error: 29.33\n",
            "Real: 95.00 Predicho: 63.12. Error: 31.88\n",
            "Real: 85.00 Predicho: 63.38. Error: 21.62\n",
            "Real: 40.00 Predicho: 58.95. Error: 18.95\n",
            "Real: 50.00 Predicho: 72.21. Error: 22.21\n",
            "Real: 45.00 Predicho: 34.44. Error: 10.56\n",
            "Real: 28.00 Predicho: 21.87. Error: 6.13\n",
            "Real: 84.00 Predicho: 67.88. Error: 16.12\n",
            "Real: 60.00 Predicho: 56.69. Error: 3.31\n",
            "Real: 22.00 Predicho: 20.67. Error: 1.33\n",
            "Real: 75.00 Predicho: 85.90. Error: 10.90\n",
            "Real: 39.00 Predicho: 57.79. Error: 18.79\n",
            "Real: 50.00 Predicho: 69.66. Error: 19.66\n",
            "Real: 110.00 Predicho: 62.98. Error: 47.02\n",
            "Real: 45.00 Predicho: 70.63. Error: 25.63\n",
            "Real: 75.00 Predicho: 76.85. Error: 1.85\n",
            "Real: 11.00 Predicho: 24.72. Error: 13.72\n",
            "Real: 24.00 Predicho: 22.42. Error: 1.58\n",
            "Real: 45.00 Predicho: 25.15. Error: 19.85\n",
            "Real: 33.00 Predicho: 31.68. Error: 1.32\n",
            "Real: 34.00 Predicho: 65.10. Error: 31.10\n",
            "Real: 65.00 Predicho: 73.72. Error: 8.72\n",
            "Real: 140.00 Predicho: 93.32. Error: 46.68\n",
            "Real: 35.00 Predicho: 22.14. Error: 12.86\n",
            "Real: 37.00 Predicho: 40.58. Error: 3.58\n",
            "Real: 68.00 Predicho: 51.14. Error: 16.86\n",
            "Real: 114.00 Predicho: 66.85. Error: 47.15\n",
            "Real: 75.00 Predicho: 30.48. Error: 44.52\n",
            "Real: 65.00 Predicho: 68.46. Error: 3.46\n",
            "Real: 50.00 Predicho: 57.06. Error: 7.06\n",
            "Real: 58.00 Predicho: 62.33. Error: 4.33\n",
            "Real: 60.00 Predicho: 59.22. Error: 0.78\n",
            "Real: 76.00 Predicho: 92.10. Error: 16.10\n",
            "Real: 29.00 Predicho: 71.17. Error: 42.17\n",
            "Real: 120.00 Predicho: 70.62. Error: 49.38\n",
            "Real: 25.00 Predicho: 20.88. Error: 4.12\n",
            "Real: 65.00 Predicho: 55.05. Error: 9.95\n",
            "Real: 65.00 Predicho: 74.70. Error: 9.70\n",
            "Real: 30.00 Predicho: 61.83. Error: 31.83\n",
            "Real: 85.00 Predicho: 87.87. Error: 2.87\n",
            "Real: 100.00 Predicho: 81.25. Error: 18.75\n",
            "Real: 28.00 Predicho: 28.67. Error: 0.67\n",
            "Real: 83.00 Predicho: 89.21. Error: 6.21\n",
            "Real: 25.00 Predicho: 52.48. Error: 27.48\n",
            "Real: 95.00 Predicho: 82.12. Error: 12.88\n",
            "Real: 120.00 Predicho: 74.67. Error: 45.33\n",
            "Real: 42.00 Predicho: 45.25. Error: 3.25\n",
            "Real: 150.00 Predicho: 111.69. Error: 38.31\n",
            "Real: 100.00 Predicho: 97.66. Error: 2.34\n",
            "Real: 80.00 Predicho: 65.20. Error: 14.80\n",
            "Real: 50.00 Predicho: 55.67. Error: 5.67\n",
            "Real: 75.00 Predicho: 97.82. Error: 22.82\n",
            "Real: 29.00 Predicho: 29.41. Error: 0.41\n",
            "Real: 85.00 Predicho: 71.58. Error: 13.42\n",
            "Real: 41.00 Predicho: 41.19. Error: 0.19\n",
            "Real: 80.00 Predicho: 75.16. Error: 4.84\n",
            "Real: 30.00 Predicho: 42.23. Error: 12.23\n",
            "Real: 16.00 Predicho: 20.25. Error: 4.25\n",
            "Real: 70.00 Predicho: 35.66. Error: 34.34\n",
            "Real: 190.00 Predicho: 84.10. Error: 105.90\n",
            "Real: 20.00 Predicho: 23.07. Error: 3.07\n",
            "Real: 57.00 Predicho: 52.09. Error: 4.91\n",
            "Real: 119.00 Predicho: 101.17. Error: 17.83\n",
            "Real: 50.00 Predicho: 62.95. Error: 12.95\n",
            "Real: 28.00 Predicho: 34.96. Error: 6.96\n",
            "Real: 59.00 Predicho: 95.91. Error: 36.91\n",
            "Real: 29.00 Predicho: 50.84. Error: 21.84\n",
            "Real: 22.00 Predicho: 17.35. Error: 4.65\n",
            "Real: 40.00 Predicho: 41.74. Error: 1.74\n",
            "Real: 21.00 Predicho: 15.15. Error: 5.85\n",
            "Real: 40.00 Predicho: 54.18. Error: 14.18\n",
            "Real: 95.00 Predicho: 58.63. Error: 36.37\n",
            "Real: 32.00 Predicho: 47.12. Error: 15.12\n",
            "Real: 25.00 Predicho: 26.96. Error: 1.96\n",
            "Real: 69.00 Predicho: 111.56. Error: 42.56\n",
            "Real: 80.00 Predicho: 43.33. Error: 36.67\n",
            "Real: 52.00 Predicho: 27.49. Error: 24.51\n",
            "Real: 40.00 Predicho: 49.07. Error: 9.07\n",
            "Real: 180.00 Predicho: 95.80. Error: 84.20\n",
            "Real: 75.00 Predicho: 79.36. Error: 4.36\n",
            "Real: 23.00 Predicho: 40.32. Error: 17.32\n",
            "Real: 45.00 Predicho: 38.12. Error: 6.88\n",
            "Real: 30.00 Predicho: 38.00. Error: 8.00\n",
            "Real: 69.00 Predicho: 63.25. Error: 5.75\n",
            "Real: 45.00 Predicho: 42.15. Error: 2.85\n",
            "Real: 108.00 Predicho: 72.36. Error: 35.64\n",
            "Real: 40.00 Predicho: 30.23. Error: 9.77\n",
            "Real: 70.00 Predicho: 83.21. Error: 13.21\n",
            "Real: 115.00 Predicho: 92.48. Error: 22.52\n",
            "Real: 30.00 Predicho: 29.96. Error: 0.04\n",
            "Real: 43.00 Predicho: 21.79. Error: 21.21\n",
            "Real: 46.00 Predicho: 78.25. Error: 32.25\n",
            "Real: 69.00 Predicho: 52.20. Error: 16.80\n",
            "Real: 100.00 Predicho: 84.63. Error: 15.37\n",
            "Real: 42.00 Predicho: 19.49. Error: 22.51\n",
            "Real: 147.00 Predicho: 82.55. Error: 64.45\n",
            "Real: 90.00 Predicho: 67.66. Error: 22.34\n",
            "Real: 30.00 Predicho: 19.79. Error: 10.21\n",
            "Real: 70.00 Predicho: 73.70. Error: 3.70\n",
            "Real: 21.00 Predicho: 21.98. Error: 0.98\n",
            "Real: 34.00 Predicho: 66.52. Error: 32.52\n",
            "Real: 59.00 Predicho: 44.25. Error: 14.75\n",
            "Real: 91.00 Predicho: 106.52. Error: 15.52\n",
            "Real: 50.00 Predicho: 59.92. Error: 9.92\n",
            "Real: 30.00 Predicho: 46.31. Error: 16.31\n",
            "Real: 89.00 Predicho: 81.78. Error: 7.22\n",
            "Real: 27.00 Predicho: 20.06. Error: 6.94\n",
            "Real: 75.00 Predicho: 50.18. Error: 24.82\n",
            "Real: 64.00 Predicho: 70.66. Error: 6.66\n",
            "Real: 25.00 Predicho: 23.17. Error: 1.83\n",
            "Real: 57.00 Predicho: 62.83. Error: 5.83\n",
            "Real: 72.00 Predicho: 73.81. Error: 1.81\n",
            "Real: 48.00 Predicho: 59.25. Error: 11.25\n",
            "Real: 100.00 Predicho: 81.83. Error: 18.17\n",
            "Real: 75.00 Predicho: 100.81. Error: 25.81\n",
            "Real: 61.00 Predicho: 69.63. Error: 8.63\n",
            "Real: 38.00 Predicho: 60.22. Error: 22.22\n",
            "Real: 140.00 Predicho: 55.43. Error: 84.57\n",
            "Real: 18.00 Predicho: 31.11. Error: 13.11\n",
            "Real: 49.00 Predicho: 81.58. Error: 32.58\n",
            "Real: 100.00 Predicho: 29.06. Error: 70.94\n",
            "Real: 65.00 Predicho: 79.32. Error: 14.32\n",
            "Real: 150.00 Predicho: 91.94. Error: 58.06\n",
            "Real: 60.00 Predicho: 68.61. Error: 8.61\n",
            "Real: 30.00 Predicho: 36.47. Error: 6.47\n",
            "Real: 115.00 Predicho: 70.44. Error: 44.56\n",
            "Real: 31.00 Predicho: 35.59. Error: 4.59\n",
            "Real: 23.00 Predicho: 35.37. Error: 12.37\n"
          ]
        }
      ]
    },
    {
      "cell_type": "markdown",
      "source": [
        "###Los resultados del modelo hibrido son casi aceptables visto que en algunos casos llega ser muy cercano al valor real pero en otros casos se va muy lejos. con una mejor dedicacion a la limpieza de dataset, mas datos disponibles  y una mejor arquitectura considero que se podria mejorar mucho este modelo."
      ],
      "metadata": {
        "id": "vsQUakH5F3nn"
      }
    }
  ],
  "metadata": {
    "accelerator": "GPU",
    "colab": {
      "provenance": [],
      "include_colab_link": true
    },
    "gpuClass": "standard",
    "kernelspec": {
      "display_name": "Python 3",
      "name": "python3"
    }
  },
  "nbformat": 4,
  "nbformat_minor": 0
}